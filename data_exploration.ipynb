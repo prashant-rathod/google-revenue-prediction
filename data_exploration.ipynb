{
 "cells": [
  {
   "cell_type": "code",
   "execution_count": 1,
   "metadata": {
    "scrolled": true
   },
   "outputs": [
    {
     "name": "stdout",
     "output_type": "stream",
     "text": [
      "Requirement already satisfied: plotly in c:\\users\\user\\miniconda3\\envs\\py3k\\lib\\site-packages (3.4.2)\n",
      "Requirement already satisfied: pytz in c:\\users\\user\\miniconda3\\envs\\py3k\\lib\\site-packages (from plotly) (2018.4)\n",
      "Requirement already satisfied: requests in c:\\users\\user\\miniconda3\\envs\\py3k\\lib\\site-packages (from plotly) (2.18.4)\n",
      "Requirement already satisfied: six in c:\\users\\user\\miniconda3\\envs\\py3k\\lib\\site-packages (from plotly) (1.11.0)\n",
      "Requirement already satisfied: nbformat>=4.2 in c:\\users\\user\\miniconda3\\envs\\py3k\\lib\\site-packages (from plotly) (4.4.0)\n",
      "Requirement already satisfied: decorator>=4.0.6 in c:\\users\\user\\miniconda3\\envs\\py3k\\lib\\site-packages (from plotly) (4.3.0)\n",
      "Requirement already satisfied: retrying>=1.3.3 in c:\\users\\user\\miniconda3\\envs\\py3k\\lib\\site-packages (from plotly) (1.3.3)\n",
      "Requirement already satisfied: chardet<3.1.0,>=3.0.2 in c:\\users\\user\\miniconda3\\envs\\py3k\\lib\\site-packages (from requests->plotly) (3.0.4)\n",
      "Requirement already satisfied: idna<2.7,>=2.5 in c:\\users\\user\\miniconda3\\envs\\py3k\\lib\\site-packages (from requests->plotly) (2.6)\n",
      "Requirement already satisfied: urllib3<1.23,>=1.21.1 in c:\\users\\user\\miniconda3\\envs\\py3k\\lib\\site-packages (from requests->plotly) (1.22)\n",
      "Requirement already satisfied: certifi>=2017.4.17 in c:\\users\\user\\miniconda3\\envs\\py3k\\lib\\site-packages (from requests->plotly) (2018.4.16)\n",
      "Requirement already satisfied: ipython_genutils in c:\\users\\user\\miniconda3\\envs\\py3k\\lib\\site-packages (from nbformat>=4.2->plotly) (0.2.0)\n",
      "Requirement already satisfied: traitlets>=4.1 in c:\\users\\user\\miniconda3\\envs\\py3k\\lib\\site-packages (from nbformat>=4.2->plotly) (4.3.2)\n",
      "Requirement already satisfied: jsonschema!=2.5.0,>=2.4 in c:\\users\\user\\miniconda3\\envs\\py3k\\lib\\site-packages (from nbformat>=4.2->plotly) (2.6.0)\n",
      "Requirement already satisfied: jupyter_core in c:\\users\\user\\miniconda3\\envs\\py3k\\lib\\site-packages (from nbformat>=4.2->plotly) (4.4.0)\n"
     ]
    },
    {
     "name": "stderr",
     "output_type": "stream",
     "text": [
      "distributed 1.21.8 requires msgpack, which is not installed.\n",
      "You are using pip version 10.0.1, however version 18.1 is available.\n",
      "You should consider upgrading via the 'python -m pip install --upgrade pip' command.\n"
     ]
    },
    {
     "name": "stdout",
     "output_type": "stream",
     "text": [
      "Requirement already satisfied: lightgbm in c:\\users\\user\\miniconda3\\envs\\py3k\\lib\\site-packages (2.2.2)\n",
      "Requirement already satisfied: scikit-learn in c:\\users\\user\\miniconda3\\envs\\py3k\\lib\\site-packages (from lightgbm) (0.19.1)\n",
      "Requirement already satisfied: numpy in c:\\users\\user\\miniconda3\\envs\\py3k\\lib\\site-packages (from lightgbm) (1.14.3)\n",
      "Requirement already satisfied: scipy in c:\\users\\user\\miniconda3\\envs\\py3k\\lib\\site-packages (from lightgbm) (1.1.0)\n"
     ]
    },
    {
     "name": "stderr",
     "output_type": "stream",
     "text": [
      "distributed 1.21.8 requires msgpack, which is not installed.\n",
      "You are using pip version 10.0.1, however version 18.1 is available.\n",
      "You should consider upgrading via the 'python -m pip install --upgrade pip' command.\n",
      "ERROR: To modify pip, please run the following command:\n",
      "C:\\Users\\USER\\Miniconda3\\envs\\py3k\\python.exe -m pip install --upgrade pip\n",
      "You are using pip version 10.0.1, however version 18.1 is available.\n",
      "You should consider upgrading via the 'python -m pip install --upgrade pip' command.\n"
     ]
    }
   ],
   "source": [
    "!pip install plotly\n",
    "!pip install lightgbm\n",
    "!pip install --upgrade pip\n",
    "import os\n",
    "import json\n",
    "import numpy as np\n",
    "import pandas as pd\n",
    "from pandas.io.json import json_normalize\n",
    "import matplotlib.pyplot as plt\n",
    "from IPython.display import Image, display\n",
    "from pandas.tools.plotting import scatter_matrix \n",
    "from sklearn.model_selection import train_test_split\n",
    "%matplotlib inline\n",
    "from sklearn import preprocessing\n",
    "import lightgbm as lgb \n",
    "import warnings; warnings.simplefilter('ignore')"
   ]
  },
  {
   "cell_type": "code",
   "execution_count": 2,
   "metadata": {},
   "outputs": [],
   "source": [
    "df = pd.read_csv(\".\\\\train.csv\")"
   ]
  },
  {
   "cell_type": "code",
   "execution_count": 15,
   "metadata": {},
   "outputs": [
    {
     "data": {
      "text/html": [
       "<div>\n",
       "<style scoped>\n",
       "    .dataframe tbody tr th:only-of-type {\n",
       "        vertical-align: middle;\n",
       "    }\n",
       "\n",
       "    .dataframe tbody tr th {\n",
       "        vertical-align: top;\n",
       "    }\n",
       "\n",
       "    .dataframe thead th {\n",
       "        text-align: right;\n",
       "    }\n",
       "</style>\n",
       "<table border=\"1\" class=\"dataframe\">\n",
       "  <thead>\n",
       "    <tr style=\"text-align: right;\">\n",
       "      <th></th>\n",
       "      <th>channelGrouping</th>\n",
       "      <th>date</th>\n",
       "      <th>device.browser</th>\n",
       "      <th>device.deviceCategory</th>\n",
       "      <th>device.isMobile</th>\n",
       "      <th>device.operatingSystem</th>\n",
       "      <th>fullVisitorId</th>\n",
       "      <th>geoNetwork.city</th>\n",
       "      <th>geoNetwork.continent</th>\n",
       "      <th>geoNetwork.country</th>\n",
       "      <th>...</th>\n",
       "      <th>trafficSource.medium</th>\n",
       "      <th>trafficSource.referralPath</th>\n",
       "      <th>trafficSource.source</th>\n",
       "      <th>visitId</th>\n",
       "      <th>visitNumber</th>\n",
       "      <th>visitStartTime</th>\n",
       "      <th>year</th>\n",
       "      <th>month</th>\n",
       "      <th>day</th>\n",
       "      <th>weekday</th>\n",
       "    </tr>\n",
       "  </thead>\n",
       "  <tbody>\n",
       "    <tr>\n",
       "      <th>0</th>\n",
       "      <td>Organic Search</td>\n",
       "      <td>2016-09-02</td>\n",
       "      <td>Firefox</td>\n",
       "      <td>desktop</td>\n",
       "      <td>False</td>\n",
       "      <td>Windows</td>\n",
       "      <td>9.499785e+18</td>\n",
       "      <td>NaN</td>\n",
       "      <td>Europe</td>\n",
       "      <td>Netherlands</td>\n",
       "      <td>...</td>\n",
       "      <td>organic</td>\n",
       "      <td>NaN</td>\n",
       "      <td>google</td>\n",
       "      <td>1472812272</td>\n",
       "      <td>1</td>\n",
       "      <td>1.472812e+09</td>\n",
       "      <td>2016</td>\n",
       "      <td>9</td>\n",
       "      <td>2</td>\n",
       "      <td>4</td>\n",
       "    </tr>\n",
       "    <tr>\n",
       "      <th>1</th>\n",
       "      <td>Organic Search</td>\n",
       "      <td>2016-09-02</td>\n",
       "      <td>Chrome</td>\n",
       "      <td>desktop</td>\n",
       "      <td>False</td>\n",
       "      <td>Windows</td>\n",
       "      <td>3.696907e+18</td>\n",
       "      <td>Buenos Aires</td>\n",
       "      <td>Americas</td>\n",
       "      <td>Argentina</td>\n",
       "      <td>...</td>\n",
       "      <td>organic</td>\n",
       "      <td>NaN</td>\n",
       "      <td>google</td>\n",
       "      <td>1472856874</td>\n",
       "      <td>1</td>\n",
       "      <td>1.472857e+09</td>\n",
       "      <td>2016</td>\n",
       "      <td>9</td>\n",
       "      <td>2</td>\n",
       "      <td>4</td>\n",
       "    </tr>\n",
       "    <tr>\n",
       "      <th>2</th>\n",
       "      <td>Organic Search</td>\n",
       "      <td>2016-09-02</td>\n",
       "      <td>Chrome</td>\n",
       "      <td>desktop</td>\n",
       "      <td>False</td>\n",
       "      <td>Linux</td>\n",
       "      <td>5.688512e+18</td>\n",
       "      <td>Bengaluru</td>\n",
       "      <td>Asia</td>\n",
       "      <td>India</td>\n",
       "      <td>...</td>\n",
       "      <td>organic</td>\n",
       "      <td>NaN</td>\n",
       "      <td>google</td>\n",
       "      <td>1472811524</td>\n",
       "      <td>1</td>\n",
       "      <td>1.472812e+09</td>\n",
       "      <td>2016</td>\n",
       "      <td>9</td>\n",
       "      <td>2</td>\n",
       "      <td>4</td>\n",
       "    </tr>\n",
       "    <tr>\n",
       "      <th>3</th>\n",
       "      <td>Organic Search</td>\n",
       "      <td>2016-09-02</td>\n",
       "      <td>Safari</td>\n",
       "      <td>mobile</td>\n",
       "      <td>True</td>\n",
       "      <td>iOS</td>\n",
       "      <td>9.716453e+18</td>\n",
       "      <td>New Delhi</td>\n",
       "      <td>Asia</td>\n",
       "      <td>India</td>\n",
       "      <td>...</td>\n",
       "      <td>organic</td>\n",
       "      <td>NaN</td>\n",
       "      <td>google</td>\n",
       "      <td>1472823508</td>\n",
       "      <td>1</td>\n",
       "      <td>1.472824e+09</td>\n",
       "      <td>2016</td>\n",
       "      <td>9</td>\n",
       "      <td>2</td>\n",
       "      <td>4</td>\n",
       "    </tr>\n",
       "    <tr>\n",
       "      <th>4</th>\n",
       "      <td>Organic Search</td>\n",
       "      <td>2016-09-02</td>\n",
       "      <td>Chrome</td>\n",
       "      <td>desktop</td>\n",
       "      <td>False</td>\n",
       "      <td>Windows</td>\n",
       "      <td>5.330454e+18</td>\n",
       "      <td>Sao Paulo</td>\n",
       "      <td>Americas</td>\n",
       "      <td>Brazil</td>\n",
       "      <td>...</td>\n",
       "      <td>organic</td>\n",
       "      <td>NaN</td>\n",
       "      <td>google</td>\n",
       "      <td>1472839619</td>\n",
       "      <td>1</td>\n",
       "      <td>1.472840e+09</td>\n",
       "      <td>2016</td>\n",
       "      <td>9</td>\n",
       "      <td>2</td>\n",
       "      <td>4</td>\n",
       "    </tr>\n",
       "  </tbody>\n",
       "</table>\n",
       "<p>5 rows × 42 columns</p>\n",
       "</div>"
      ],
      "text/plain": [
       "  channelGrouping        date device.browser device.deviceCategory  \\\n",
       "0  Organic Search  2016-09-02        Firefox               desktop   \n",
       "1  Organic Search  2016-09-02         Chrome               desktop   \n",
       "2  Organic Search  2016-09-02         Chrome               desktop   \n",
       "3  Organic Search  2016-09-02         Safari                mobile   \n",
       "4  Organic Search  2016-09-02         Chrome               desktop   \n",
       "\n",
       "   device.isMobile device.operatingSystem  fullVisitorId geoNetwork.city  \\\n",
       "0            False                Windows   9.499785e+18             NaN   \n",
       "1            False                Windows   3.696907e+18    Buenos Aires   \n",
       "2            False                  Linux   5.688512e+18       Bengaluru   \n",
       "3             True                    iOS   9.716453e+18       New Delhi   \n",
       "4            False                Windows   5.330454e+18       Sao Paulo   \n",
       "\n",
       "  geoNetwork.continent geoNetwork.country   ...    trafficSource.medium  \\\n",
       "0               Europe        Netherlands   ...                 organic   \n",
       "1             Americas          Argentina   ...                 organic   \n",
       "2                 Asia              India   ...                 organic   \n",
       "3                 Asia              India   ...                 organic   \n",
       "4             Americas             Brazil   ...                 organic   \n",
       "\n",
       "  trafficSource.referralPath trafficSource.source     visitId  visitNumber  \\\n",
       "0                        NaN               google  1472812272            1   \n",
       "1                        NaN               google  1472856874            1   \n",
       "2                        NaN               google  1472811524            1   \n",
       "3                        NaN               google  1472823508            1   \n",
       "4                        NaN               google  1472839619            1   \n",
       "\n",
       "   visitStartTime  year  month  day  weekday  \n",
       "0    1.472812e+09  2016      9    2        4  \n",
       "1    1.472857e+09  2016      9    2        4  \n",
       "2    1.472812e+09  2016      9    2        4  \n",
       "3    1.472824e+09  2016      9    2        4  \n",
       "4    1.472840e+09  2016      9    2        4  \n",
       "\n",
       "[5 rows x 42 columns]"
      ]
     },
     "execution_count": 15,
     "metadata": {},
     "output_type": "execute_result"
    }
   ],
   "source": [
    "df.head()"
   ]
  },
  {
   "cell_type": "code",
   "execution_count": 3,
   "metadata": {},
   "outputs": [
    {
     "data": {
      "image/png": "[encoded data removed]",
      "text/plain": [
       "<Figure size 576x432 with 1 Axes>"
      ]
     },
     "metadata": {},
     "output_type": "display_data"
    }
   ],
   "source": [
    "gdf = df.groupby(\"fullVisitorId\")[\"totals.transactionRevenue\"].sum().reset_index()\n",
    "\n",
    "plt.figure(figsize=(8,6))\n",
    "plt.scatter(range(gdf.shape[0]), np.sort(np.log1p(gdf[\"totals.transactionRevenue\"].values)))\n",
    "plt.xlabel('index', fontsize=12)\n",
    "plt.ylabel('TransactionRevenue', fontsize=12)\n",
    "plt.show()"
   ]
  },
  {
   "cell_type": "code",
   "execution_count": 5,
   "metadata": {},
   "outputs": [
    {
     "name": "stdout",
     "output_type": "stream",
     "text": [
      "Number of instances in train set with non-zero revenue :  18514  and ratio is :  0.010837440153786987\n",
      "Number of unique customers with non-zero revenue :  16141 and the ratio is :  0.012193574218307359\n"
     ]
    }
   ],
   "source": [
    "nzi = (df[\"totals.transactionRevenue\"]>0).sum()\n",
    "nzr = (gdf[\"totals.transactionRevenue\"]>0).sum()\n",
    "print(\"Number of instances in train set with non-zero revenue : \", nzi, \" and ratio is : \", nzi / df.shape[0])\n",
    "print(\"Number of unique customers with non-zero revenue : \", nzr, \"and the ratio is : \", nzr / gdf.shape[0])"
   ]
  },
  {
   "cell_type": "markdown",
   "metadata": {},
   "source": [
    "The dispersion of the 'visitNumber' per session is huge. Therefore, we can use Log and map the feature space to new lower space \n",
    "and visualization the data will be easier."
   ]
  },
  {
   "cell_type": "code",
   "execution_count": 6,
   "metadata": {},
   "outputs": [
    {
     "data": {
      "text/plain": [
       "(array([1.30743e+06, 2.53504e+05, 7.69020e+04, 3.49070e+04, 1.81220e+04,\n",
       "        8.36800e+03, 4.26100e+03, 2.85300e+03, 1.48400e+03, 5.06000e+02]),\n",
       " array([0.        , 0.61246834, 1.22493668, 1.83740502, 2.44987336,\n",
       "        3.0623417 , 3.67481003, 4.28727837, 4.89974671, 5.51221505,\n",
       "        6.12468339]),\n",
       " <a list of 10 Patch objects>)"
      ]
     },
     "execution_count": 6,
     "metadata": {},
     "output_type": "execute_result"
    },
    {
     "data": {
      "image/png": "[encoded data removed]",
      "text/plain": [
       "<Figure size 648x360 with 1 Axes>"
      ]
     },
     "metadata": {},
     "output_type": "display_data"
    }
   ],
   "source": [
    "fig,ax = plt.subplots(1,1,figsize=(9,5))\n",
    "ax.set_title(\"Histogram of log(visitNumbers) per session\")\n",
    "ax.set_ylabel(\"Repetition\")\n",
    "ax.set_xlabel(\"Log(visitNumber)\")\n",
    "ax.grid(color='m', linestyle='-', linewidth=0.1)\n",
    "ax.hist(np.log(df.visitNumber))"
   ]
  },
  {
   "cell_type": "code",
   "execution_count": 17,
   "metadata": {},
   "outputs": [
    {
     "data": {
      "text/html": [
       "<script type=\"text/javascript\">window.PlotlyConfig = {MathJaxConfig: 'local'};</script><script type=\"text/javascript\">if (window.MathJax) {MathJax.Hub.Config({SVG: {font: \"STIX-Web\"}});}</script><script>requirejs.config({paths: { 'plotly': ['https://cdn.plot.ly/plotly-latest.min']},});if(!window._Plotly) {require(['plotly'],function(plotly) {window._Plotly=plotly;});}</script>"
      ],
      "text/vnd.plotly.v1+html": [
       "<script type=\"text/javascript\">window.PlotlyConfig = {MathJaxConfig: 'local'};</script><script type=\"text/javascript\">if (window.MathJax) {MathJax.Hub.Config({SVG: {font: \"STIX-Web\"}});}</script><script>requirejs.config({paths: { 'plotly': ['https://cdn.plot.ly/plotly-latest.min']},});if(!window._Plotly) {require(['plotly'],function(plotly) {window._Plotly=plotly;});}</script>"
      ]
     },
     "metadata": {},
     "output_type": "display_data"
    },
    {
     "name": "stdout",
     "output_type": "stream",
     "text": [
      "This is the format of your plot grid:\n",
      "[ (1,1) x1,y1 ]  [ (1,2) x2,y2 ]\n",
      "[ (2,1) x3,y3 ]  [ (2,2) x4,y4 ]\n",
      "[ (3,1) x5,y5 ]  [ (3,2) x6,y6 ]\n",
      "\n"
     ]
    },
    {
     "data": {
      "application/vnd.plotly.v1+json": {
       "config": {
        "linkText": "Export to plot.ly",
        "plotlyServerURL": "https://plot.ly",
        "showLink": true
       },
       "data": [
        {
         "marker": {
          "color": "rgba(50, 171, 96, 0.6)"
         },
         "orientation": "h",
         "showlegend": false,
         "type": "bar",
         "uid": "d1ffee7c-44ff-4b18-9773-bb1d457fa22b",
         "x": [
          9585,
          14207,
          15018,
          15792,
          20543,
          34266,
          35474,
          63845,
          312165,
          1173056
         ],
         "xaxis": "x",
         "y": [
          "Opera",
          "Safari (in-app)",
          "Opera Mini",
          "Samsung Internet",
          "Edge",
          "Android Webview",
          "Internet Explorer",
          "Firefox",
          "Safari",
          "Chrome"
         ],
         "yaxis": "y"
        },
        {
         "marker": {
          "color": "rgba(50, 171, 96, 0.6)"
         },
         "orientation": "h",
         "showlegend": false,
         "type": "bar",
         "uid": "bb9b359f-35db-4b94-b120-1a153c26f1e7",
         "x": [
          42483571.428571425,
          12814166.666666666,
          null,
          27606250,
          109017567.56756757,
          18611000,
          80797027.02702703,
          443204277.2861357,
          63389247.9338843,
          123864466.6706594
         ],
         "xaxis": "x2",
         "y": [
          "Opera",
          "Safari (in-app)",
          "Opera Mini",
          "Samsung Internet",
          "Edge",
          "Android Webview",
          "Internet Explorer",
          "Firefox",
          "Safari",
          "Chrome"
         ],
         "yaxis": "y2"
        },
        {
         "marker": {
          "color": "rgba(23, 70, 136, 0.8)"
         },
         "orientation": "h",
         "showlegend": false,
         "type": "bar",
         "uid": "3a4446fb-e8a0-45a8-b890-fb3758c66698",
         "x": [
          65422,
          471336,
          1171579
         ],
         "xaxis": "x3",
         "y": [
          "tablet",
          "mobile",
          "desktop"
         ],
         "yaxis": "y3"
        },
        {
         "marker": {
          "color": "rgba(23, 70, 136, 0.8)"
         },
         "orientation": "h",
         "showlegend": false,
         "type": "bar",
         "uid": "ed78d3b6-700d-4d36-8194-96bd8a2c321c",
         "x": [
          52853387.75510204,
          54471158.35777126,
          131860233.0671399
         ],
         "xaxis": "x4",
         "y": [
          "tablet",
          "mobile",
          "desktop"
         ],
         "yaxis": "y4"
        },
        {
         "marker": {
          "color": "rgba(216, 178, 169, 0.6)"
         },
         "orientation": "h",
         "showlegend": false,
         "type": "bar",
         "uid": "001b43ae-4d6e-4624-bf5f-d3cd09bd0a03",
         "x": [
          350,
          709,
          911,
          1675,
          51318,
          63971,
          219334,
          299386,
          438514,
          619720
         ],
         "xaxis": "x5",
         "y": [
          "BlackBerry",
          "Tizen",
          "Samsung",
          "Windows Phone",
          "Chrome OS",
          "Linux",
          "iOS",
          "Android",
          "Macintosh",
          "Windows"
         ],
         "yaxis": "y5"
        },
        {
         "marker": {
          "color": "rgba(216, 178, 169, 0.6)"
         },
         "orientation": "h",
         "showlegend": false,
         "type": "bar",
         "uid": "20084b83-c73b-4586-91a8-81f0c04bb868",
         "x": [
          null,
          null,
          null,
          26400000,
          158339518.4967704,
          54044684.615384616,
          43125144.23076923,
          66706586.985391766,
          127026372.41645741,
          161038098.57182863
         ],
         "xaxis": "x6",
         "y": [
          "BlackBerry",
          "Tizen",
          "Samsung",
          "Windows Phone",
          "Chrome OS",
          "Linux",
          "iOS",
          "Android",
          "Macintosh",
          "Windows"
         ],
         "yaxis": "y6"
        }
       ],
       "layout": {
        "annotations": [
         {
          "font": {
           "size": 16
          },
          "showarrow": false,
          "text": "Device Browser - Count",
          "x": 0.225,
          "xanchor": "center",
          "xref": "paper",
          "y": 1,
          "yanchor": "bottom",
          "yref": "paper"
         },
         {
          "font": {
           "size": 16
          },
          "showarrow": false,
          "text": "Device Browser - Mean Revenue",
          "x": 0.775,
          "xanchor": "center",
          "xref": "paper",
          "y": 1,
          "yanchor": "bottom",
          "yref": "paper"
         },
         {
          "font": {
           "size": 16
          },
          "showarrow": false,
          "text": "Device Category - Count",
          "x": 0.225,
          "xanchor": "center",
          "xref": "paper",
          "y": 0.6533333333333333,
          "yanchor": "bottom",
          "yref": "paper"
         },
         {
          "font": {
           "size": 16
          },
          "showarrow": false,
          "text": "Device Category - Mean Revenue",
          "x": 0.775,
          "xanchor": "center",
          "xref": "paper",
          "y": 0.6533333333333333,
          "yanchor": "bottom",
          "yref": "paper"
         },
         {
          "font": {
           "size": 16
          },
          "showarrow": false,
          "text": "Device OS - Count",
          "x": 0.225,
          "xanchor": "center",
          "xref": "paper",
          "y": 0.3066666666666667,
          "yanchor": "bottom",
          "yref": "paper"
         },
         {
          "font": {
           "size": 16
          },
          "showarrow": false,
          "text": "Device OS - Mean Revenue",
          "x": 0.775,
          "xanchor": "center",
          "xref": "paper",
          "y": 0.3066666666666667,
          "yanchor": "bottom",
          "yref": "paper"
         }
        ],
        "height": 1200,
        "title": "Device Plots",
        "width": 1000,
        "xaxis": {
         "anchor": "y",
         "domain": [
          0,
          0.45
         ]
        },
        "xaxis2": {
         "anchor": "y2",
         "domain": [
          0.55,
          1
         ]
        },
        "xaxis3": {
         "anchor": "y3",
         "domain": [
          0,
          0.45
         ]
        },
        "xaxis4": {
         "anchor": "y4",
         "domain": [
          0.55,
          1
         ]
        },
        "xaxis5": {
         "anchor": "y5",
         "domain": [
          0,
          0.45
         ]
        },
        "xaxis6": {
         "anchor": "y6",
         "domain": [
          0.55,
          1
         ]
        },
        "yaxis": {
         "anchor": "x",
         "domain": [
          0.6933333333333334,
          1
         ]
        },
        "yaxis2": {
         "anchor": "x2",
         "domain": [
          0.6933333333333334,
          1
         ]
        },
        "yaxis3": {
         "anchor": "x3",
         "domain": [
          0.3466666666666667,
          0.6533333333333333
         ]
        },
        "yaxis4": {
         "anchor": "x4",
         "domain": [
          0.3466666666666667,
          0.6533333333333333
         ]
        },
        "yaxis5": {
         "anchor": "x5",
         "domain": [
          0,
          0.3066666666666667
         ]
        },
        "yaxis6": {
         "anchor": "x6",
         "domain": [
          0,
          0.3066666666666667
         ]
        }
       }
      },
      "text/html": [
       "<div id=\"3271bc10-7acd-4c8f-8929-918d5f4d6944\" style=\"height: 1200px; width: 1000px;\" class=\"plotly-graph-div\"></div><script type=\"text/javascript\">require([\"plotly\"], function(Plotly) { window.PLOTLYENV=window.PLOTLYENV || {};window.PLOTLYENV.BASE_URL=\"https://plot.ly\";Plotly.newPlot(\"3271bc10-7acd-4c8f-8929-918d5f4d6944\", [{\"marker\": {\"color\": \"rgba(50, 171, 96, 0.6)\"}, \"orientation\": \"h\", \"showlegend\": false, \"x\": [9585, 14207, 15018, 15792, 20543, 34266, 35474, 63845, 312165, 1173056], \"y\": [\"Opera\", \"Safari (in-app)\", \"Opera Mini\", \"Samsung Internet\", \"Edge\", \"Android Webview\", \"Internet Explorer\", \"Firefox\", \"Safari\", \"Chrome\"], \"type\": \"bar\", \"uid\": \"d1ffee7c-44ff-4b18-9773-bb1d457fa22b\", \"xaxis\": \"x\", \"yaxis\": \"y\"}, {\"marker\": {\"color\": \"rgba(50, 171, 96, 0.6)\"}, \"orientation\": \"h\", \"showlegend\": false, \"x\": [42483571.428571425, 12814166.666666666, null, 27606250.0, 109017567.56756757, 18611000.0, 80797027.02702703, 443204277.2861357, 63389247.9338843, 123864466.6706594], \"y\": [\"Opera\", \"Safari (in-app)\", \"Opera Mini\", \"Samsung Internet\", \"Edge\", \"Android Webview\", \"Internet Explorer\", \"Firefox\", \"Safari\", \"Chrome\"], \"type\": \"bar\", \"uid\": \"bb9b359f-35db-4b94-b120-1a153c26f1e7\", \"xaxis\": \"x2\", \"yaxis\": \"y2\"}, {\"marker\": {\"color\": \"rgba(23, 70, 136, 0.8)\"}, \"orientation\": \"h\", \"showlegend\": false, \"x\": [65422, 471336, 1171579], \"y\": [\"tablet\", \"mobile\", \"desktop\"], \"type\": \"bar\", \"uid\": \"3a4446fb-e8a0-45a8-b890-fb3758c66698\", \"xaxis\": \"x3\", \"yaxis\": \"y3\"}, {\"marker\": {\"color\": \"rgba(23, 70, 136, 0.8)\"}, \"orientation\": \"h\", \"showlegend\": false, \"x\": [52853387.75510204, 54471158.35777126, 131860233.0671399], \"y\": [\"tablet\", \"mobile\", \"desktop\"], \"type\": \"bar\", \"uid\": \"ed78d3b6-700d-4d36-8194-96bd8a2c321c\", \"xaxis\": \"x4\", \"yaxis\": \"y4\"}, {\"marker\": {\"color\": \"rgba(216, 178, 169, 0.6)\"}, \"orientation\": \"h\", \"showlegend\": false, \"x\": [350, 709, 911, 1675, 51318, 63971, 219334, 299386, 438514, 619720], \"y\": [\"BlackBerry\", \"Tizen\", \"Samsung\", \"Windows Phone\", \"Chrome OS\", \"Linux\", \"iOS\", \"Android\", \"Macintosh\", \"Windows\"], \"type\": \"bar\", \"uid\": \"001b43ae-4d6e-4624-bf5f-d3cd09bd0a03\", \"xaxis\": \"x5\", \"yaxis\": \"y5\"}, {\"marker\": {\"color\": \"rgba(216, 178, 169, 0.6)\"}, \"orientation\": \"h\", \"showlegend\": false, \"x\": [null, null, null, 26400000.0, 158339518.4967704, 54044684.615384616, 43125144.23076923, 66706586.985391766, 127026372.41645741, 161038098.57182863], \"y\": [\"BlackBerry\", \"Tizen\", \"Samsung\", \"Windows Phone\", \"Chrome OS\", \"Linux\", \"iOS\", \"Android\", \"Macintosh\", \"Windows\"], \"type\": \"bar\", \"uid\": \"20084b83-c73b-4586-91a8-81f0c04bb868\", \"xaxis\": \"x6\", \"yaxis\": \"y6\"}], {\"annotations\": [{\"font\": {\"size\": 16}, \"showarrow\": false, \"text\": \"Device Browser - Count\", \"x\": 0.225, \"xanchor\": \"center\", \"xref\": \"paper\", \"y\": 1.0, \"yanchor\": \"bottom\", \"yref\": \"paper\"}, {\"font\": {\"size\": 16}, \"showarrow\": false, \"text\": \"Device Browser - Mean Revenue\", \"x\": 0.775, \"xanchor\": \"center\", \"xref\": \"paper\", \"y\": 1.0, \"yanchor\": \"bottom\", \"yref\": \"paper\"}, {\"font\": {\"size\": 16}, \"showarrow\": false, \"text\": \"Device Category - Count\", \"x\": 0.225, \"xanchor\": \"center\", \"xref\": \"paper\", \"y\": 0.6533333333333333, \"yanchor\": \"bottom\", \"yref\": \"paper\"}, {\"font\": {\"size\": 16}, \"showarrow\": false, \"text\": \"Device Category - Mean Revenue\", \"x\": 0.775, \"xanchor\": \"center\", \"xref\": \"paper\", \"y\": 0.6533333333333333, \"yanchor\": \"bottom\", \"yref\": \"paper\"}, {\"font\": {\"size\": 16}, \"showarrow\": false, \"text\": \"Device OS - Count\", \"x\": 0.225, \"xanchor\": \"center\", \"xref\": \"paper\", \"y\": 0.3066666666666667, \"yanchor\": \"bottom\", \"yref\": \"paper\"}, {\"font\": {\"size\": 16}, \"showarrow\": false, \"text\": \"Device OS - Mean Revenue\", \"x\": 0.775, \"xanchor\": \"center\", \"xref\": \"paper\", \"y\": 0.3066666666666667, \"yanchor\": \"bottom\", \"yref\": \"paper\"}], \"xaxis\": {\"anchor\": \"y\", \"domain\": [0.0, 0.45]}, \"yaxis\": {\"anchor\": \"x\", \"domain\": [0.6933333333333334, 1.0]}, \"xaxis2\": {\"anchor\": \"y2\", \"domain\": [0.55, 1.0]}, \"yaxis2\": {\"anchor\": \"x2\", \"domain\": [0.6933333333333334, 1.0]}, \"xaxis3\": {\"anchor\": \"y3\", \"domain\": [0.0, 0.45]}, \"yaxis3\": {\"anchor\": \"x3\", \"domain\": [0.3466666666666667, 0.6533333333333333]}, \"xaxis4\": {\"anchor\": \"y4\", \"domain\": [0.55, 1.0]}, \"yaxis4\": {\"anchor\": \"x4\", \"domain\": [0.3466666666666667, 0.6533333333333333]}, \"xaxis5\": {\"anchor\": \"y5\", \"domain\": [0.0, 0.45]}, \"yaxis5\": {\"anchor\": \"x5\", \"domain\": [0.0, 0.3066666666666667]}, \"xaxis6\": {\"anchor\": \"y6\", \"domain\": [0.55, 1.0]}, \"yaxis6\": {\"anchor\": \"x6\", \"domain\": [0.0, 0.3066666666666667]}, \"height\": 1200, \"width\": 1000, \"title\": \"Device Plots\"}, {\"showLink\": true, \"linkText\": \"Export to plot.ly\", \"plotlyServerURL\": \"https://plot.ly\"})});</script>"
      ],
      "text/vnd.plotly.v1+html": [
       "<div id=\"3271bc10-7acd-4c8f-8929-918d5f4d6944\" style=\"height: 1200px; width: 1000px;\" class=\"plotly-graph-div\"></div><script type=\"text/javascript\">require([\"plotly\"], function(Plotly) { window.PLOTLYENV=window.PLOTLYENV || {};window.PLOTLYENV.BASE_URL=\"https://plot.ly\";Plotly.newPlot(\"3271bc10-7acd-4c8f-8929-918d5f4d6944\", [{\"marker\": {\"color\": \"rgba(50, 171, 96, 0.6)\"}, \"orientation\": \"h\", \"showlegend\": false, \"x\": [9585, 14207, 15018, 15792, 20543, 34266, 35474, 63845, 312165, 1173056], \"y\": [\"Opera\", \"Safari (in-app)\", \"Opera Mini\", \"Samsung Internet\", \"Edge\", \"Android Webview\", \"Internet Explorer\", \"Firefox\", \"Safari\", \"Chrome\"], \"type\": \"bar\", \"uid\": \"d1ffee7c-44ff-4b18-9773-bb1d457fa22b\", \"xaxis\": \"x\", \"yaxis\": \"y\"}, {\"marker\": {\"color\": \"rgba(50, 171, 96, 0.6)\"}, \"orientation\": \"h\", \"showlegend\": false, \"x\": [42483571.428571425, 12814166.666666666, null, 27606250.0, 109017567.56756757, 18611000.0, 80797027.02702703, 443204277.2861357, 63389247.9338843, 123864466.6706594], \"y\": [\"Opera\", \"Safari (in-app)\", \"Opera Mini\", \"Samsung Internet\", \"Edge\", \"Android Webview\", \"Internet Explorer\", \"Firefox\", \"Safari\", \"Chrome\"], \"type\": \"bar\", \"uid\": \"bb9b359f-35db-4b94-b120-1a153c26f1e7\", \"xaxis\": \"x2\", \"yaxis\": \"y2\"}, {\"marker\": {\"color\": \"rgba(23, 70, 136, 0.8)\"}, \"orientation\": \"h\", \"showlegend\": false, \"x\": [65422, 471336, 1171579], \"y\": [\"tablet\", \"mobile\", \"desktop\"], \"type\": \"bar\", \"uid\": \"3a4446fb-e8a0-45a8-b890-fb3758c66698\", \"xaxis\": \"x3\", \"yaxis\": \"y3\"}, {\"marker\": {\"color\": \"rgba(23, 70, 136, 0.8)\"}, \"orientation\": \"h\", \"showlegend\": false, \"x\": [52853387.75510204, 54471158.35777126, 131860233.0671399], \"y\": [\"tablet\", \"mobile\", \"desktop\"], \"type\": \"bar\", \"uid\": \"ed78d3b6-700d-4d36-8194-96bd8a2c321c\", \"xaxis\": \"x4\", \"yaxis\": \"y4\"}, {\"marker\": {\"color\": \"rgba(216, 178, 169, 0.6)\"}, \"orientation\": \"h\", \"showlegend\": false, \"x\": [350, 709, 911, 1675, 51318, 63971, 219334, 299386, 438514, 619720], \"y\": [\"BlackBerry\", \"Tizen\", \"Samsung\", \"Windows Phone\", \"Chrome OS\", \"Linux\", \"iOS\", \"Android\", \"Macintosh\", \"Windows\"], \"type\": \"bar\", \"uid\": \"001b43ae-4d6e-4624-bf5f-d3cd09bd0a03\", \"xaxis\": \"x5\", \"yaxis\": \"y5\"}, {\"marker\": {\"color\": \"rgba(216, 178, 169, 0.6)\"}, \"orientation\": \"h\", \"showlegend\": false, \"x\": [null, null, null, 26400000.0, 158339518.4967704, 54044684.615384616, 43125144.23076923, 66706586.985391766, 127026372.41645741, 161038098.57182863], \"y\": [\"BlackBerry\", \"Tizen\", \"Samsung\", \"Windows Phone\", \"Chrome OS\", \"Linux\", \"iOS\", \"Android\", \"Macintosh\", \"Windows\"], \"type\": \"bar\", \"uid\": \"20084b83-c73b-4586-91a8-81f0c04bb868\", \"xaxis\": \"x6\", \"yaxis\": \"y6\"}], {\"annotations\": [{\"font\": {\"size\": 16}, \"showarrow\": false, \"text\": \"Device Browser - Count\", \"x\": 0.225, \"xanchor\": \"center\", \"xref\": \"paper\", \"y\": 1.0, \"yanchor\": \"bottom\", \"yref\": \"paper\"}, {\"font\": {\"size\": 16}, \"showarrow\": false, \"text\": \"Device Browser - Mean Revenue\", \"x\": 0.775, \"xanchor\": \"center\", \"xref\": \"paper\", \"y\": 1.0, \"yanchor\": \"bottom\", \"yref\": \"paper\"}, {\"font\": {\"size\": 16}, \"showarrow\": false, \"text\": \"Device Category - Count\", \"x\": 0.225, \"xanchor\": \"center\", \"xref\": \"paper\", \"y\": 0.6533333333333333, \"yanchor\": \"bottom\", \"yref\": \"paper\"}, {\"font\": {\"size\": 16}, \"showarrow\": false, \"text\": \"Device Category - Mean Revenue\", \"x\": 0.775, \"xanchor\": \"center\", \"xref\": \"paper\", \"y\": 0.6533333333333333, \"yanchor\": \"bottom\", \"yref\": \"paper\"}, {\"font\": {\"size\": 16}, \"showarrow\": false, \"text\": \"Device OS - Count\", \"x\": 0.225, \"xanchor\": \"center\", \"xref\": \"paper\", \"y\": 0.3066666666666667, \"yanchor\": \"bottom\", \"yref\": \"paper\"}, {\"font\": {\"size\": 16}, \"showarrow\": false, \"text\": \"Device OS - Mean Revenue\", \"x\": 0.775, \"xanchor\": \"center\", \"xref\": \"paper\", \"y\": 0.3066666666666667, \"yanchor\": \"bottom\", \"yref\": \"paper\"}], \"xaxis\": {\"anchor\": \"y\", \"domain\": [0.0, 0.45]}, \"yaxis\": {\"anchor\": \"x\", \"domain\": [0.6933333333333334, 1.0]}, \"xaxis2\": {\"anchor\": \"y2\", \"domain\": [0.55, 1.0]}, \"yaxis2\": {\"anchor\": \"x2\", \"domain\": [0.6933333333333334, 1.0]}, \"xaxis3\": {\"anchor\": \"y3\", \"domain\": [0.0, 0.45]}, \"yaxis3\": {\"anchor\": \"x3\", \"domain\": [0.3466666666666667, 0.6533333333333333]}, \"xaxis4\": {\"anchor\": \"y4\", \"domain\": [0.55, 1.0]}, \"yaxis4\": {\"anchor\": \"x4\", \"domain\": [0.3466666666666667, 0.6533333333333333]}, \"xaxis5\": {\"anchor\": \"y5\", \"domain\": [0.0, 0.45]}, \"yaxis5\": {\"anchor\": \"x5\", \"domain\": [0.0, 0.3066666666666667]}, \"xaxis6\": {\"anchor\": \"y6\", \"domain\": [0.55, 1.0]}, \"yaxis6\": {\"anchor\": \"x6\", \"domain\": [0.0, 0.3066666666666667]}, \"height\": 1200, \"width\": 1000, \"title\": \"Device Plots\"}, {\"showLink\": true, \"linkText\": \"Export to plot.ly\", \"plotlyServerURL\": \"https://plot.ly\"})});</script>"
      ]
     },
     "metadata": {},
     "output_type": "display_data"
    }
   ],
   "source": [
    "import datetime\n",
    "import plotly.offline as py\n",
    "import plotly.graph_objs as go\n",
    "from plotly import tools\n",
    "from plotly.offline import plot, iplot, init_notebook_mode\n",
    "init_notebook_mode(connected=True)\n",
    "def horizontal_bar_chart(cnt_srs, color):\n",
    "    trace = go.Bar(\n",
    "        y=cnt_srs.index[::-1],\n",
    "        x=cnt_srs.values[::-1],\n",
    "        showlegend=False,\n",
    "        orientation = 'h',\n",
    "        marker=dict(\n",
    "            color=color,\n",
    "        ),\n",
    "    )\n",
    "    return trace\n",
    "\n",
    "# Device Browser\n",
    "cnt_srs = df.groupby('device.browser')['totals.transactionRevenue'].agg(['size', 'mean'])\n",
    "cnt_srs.columns = [\"count\", \"mean\"]\n",
    "cnt_srs = cnt_srs.sort_values(by=\"count\", ascending=False)\n",
    "trace1 = horizontal_bar_chart(cnt_srs[\"count\"].head(10), 'rgba(50, 171, 96, 0.6)')\n",
    "trace2 = horizontal_bar_chart(cnt_srs[\"mean\"].head(10), 'rgba(50, 171, 96, 0.6)')\n",
    "\n",
    "# Device Category\n",
    "cnt_srs = df.groupby('device.deviceCategory')['totals.transactionRevenue'].agg(['size', 'mean'])\n",
    "cnt_srs.columns = [\"count\", \"mean\"]\n",
    "cnt_srs = cnt_srs.sort_values(by=\"count\", ascending=False)\n",
    "trace3 = horizontal_bar_chart(cnt_srs[\"count\"].head(10), 'rgba(23, 70, 136, 0.8)')\n",
    "trace4 = horizontal_bar_chart(cnt_srs[\"mean\"].head(10), 'rgba(23, 70, 136, 0.8)')\n",
    "\n",
    "# Operating system\n",
    "cnt_srs = df.groupby('device.operatingSystem')['totals.transactionRevenue'].agg(['size', 'mean'])\n",
    "cnt_srs.columns = [\"count\", \"mean\"]\n",
    "cnt_srs = cnt_srs.sort_values(by=\"count\", ascending=False)\n",
    "trace5 = horizontal_bar_chart(cnt_srs[\"count\"].head(10), 'rgba(216, 178, 169, 0.6)')\n",
    "trace6 = horizontal_bar_chart(cnt_srs[\"mean\"].head(10),'rgba(216, 178, 169, 0.6)')\n",
    "\n",
    "# Creating two subplots\n",
    "fig = tools.make_subplots(rows=3, cols=2, vertical_spacing=0.04, \n",
    "                          subplot_titles=[\"Device Browser - Count\", \"Device Browser - Mean Revenue\",\n",
    "                                          \"Device Category - Count\", \"Device Category - Mean Revenue\", \n",
    "                                          \"Device OS - Count\", \"Device OS - Mean Revenue\"])\n",
    "\n",
    "fig.append_trace(trace1, 1, 1)\n",
    "fig.append_trace(trace2, 1, 2)\n",
    "fig.append_trace(trace3, 2, 1)\n",
    "fig.append_trace(trace4, 2, 2)\n",
    "fig.append_trace(trace5, 3, 1)\n",
    "fig.append_trace(trace6, 3, 2)\n",
    "\n",
    "fig['layout'].update(height=1200, width=1000, title=\"Device Plots\")\n",
    "py.iplot(fig, filename='device-plots')"
   ]
  },
  {
   "cell_type": "code",
   "execution_count": 18,
   "metadata": {},
   "outputs": [
    {
     "name": "stdout",
     "output_type": "stream",
     "text": [
      "This is the format of your plot grid:\n",
      "[ (1,1) x1,y1 ]  [ (1,2) x2,y2 ]  [ (1,3) x3,y3 ]\n",
      "[ (2,1) x4,y4 ]  [ (2,2) x5,y5 ]  [ (2,3) x6,y6 ]\n",
      "\n"
     ]
    },
    {
     "data": {
      "application/vnd.plotly.v1+json": {
       "config": {
        "linkText": "Export to plot.ly",
        "plotlyServerURL": "https://plot.ly",
        "showLink": true
       },
       "data": [
        {
         "marker": {
          "color": "rgba(38, 171, 82, 0.6)"
         },
         "orientation": "h",
         "showlegend": false,
         "type": "bar",
         "uid": "3120c26c-6546-43a7-b572-be33ed286742",
         "x": [
          28180,
          35481,
          368037,
          396719,
          877403
         ],
         "xaxis": "x",
         "y": [
          "Oceania",
          "Africa",
          "Europe",
          "Asia",
          "Americas"
         ],
         "yaxis": "y"
        },
        {
         "marker": {
          "color": "rgba(38, 171, 82, 0.6)"
         },
         "orientation": "h",
         "showlegend": false,
         "type": "bar",
         "uid": "80b229ba-86cd-42b8-a183-f58fcb132ef1",
         "x": [
          29,
          12,
          126,
          190,
          18150
         ],
         "xaxis": "x2",
         "y": [
          "Oceania",
          "Africa",
          "Europe",
          "Asia",
          "Americas"
         ],
         "yaxis": "y2"
        },
        {
         "marker": {
          "color": "rgba(38, 171, 82, 0.6)"
         },
         "orientation": "h",
         "showlegend": false,
         "type": "bar",
         "uid": "e197fd01-7e0d-4fb8-9681-59ba0aada6c6",
         "x": [
          233831034.4827586,
          752165833.3333334,
          89265476.1904762,
          123145894.73684211,
          124798760.3305785
         ],
         "xaxis": "x3",
         "y": [
          "Oceania",
          "Africa",
          "Europe",
          "Asia",
          "Americas"
         ],
         "yaxis": "y3"
        },
        {
         "marker": {
          "color": "rgba(126, 101, 22, 0.6)"
         },
         "orientation": "h",
         "showlegend": false,
         "type": "bar",
         "uid": "3d37cf8f-8e3a-446f-908c-efb24383c788",
         "x": [
          52,
          128,
          133,
          927,
          1985,
          4194,
          4382,
          6019,
          7086,
          17255,
          27867,
          29564,
          60966,
          67184,
          74007,
          75112,
          91072,
          111693,
          115153,
          121062,
          121634,
          768345
         ],
         "xaxis": "x4",
         "y": [
          "Polynesia",
          "Micronesian Region",
          "Melanesia",
          "Middle Africa",
          "Central Asia",
          "Eastern Africa",
          "Caribbean",
          "Southern Africa",
          "Western Africa",
          "Northern Africa",
          "Australasia",
          "Central America",
          "Western Asia",
          "Southern Europe",
          "Eastern Europe",
          "South America",
          "Eastern Asia",
          "Northern Europe",
          "Western Europe",
          "Southern Asia",
          "Southeast Asia",
          "Northern America"
         ],
         "yaxis": "y4"
        },
        {
         "marker": {
          "color": "rgba(126, 101, 22, 0.6)"
         },
         "orientation": "h",
         "showlegend": false,
         "type": "bar",
         "uid": "edcdbb49-5b12-4cf2-9afa-8584939627f3",
         "x": [
          0,
          0,
          0,
          0,
          2,
          3,
          19,
          3,
          2,
          4,
          29,
          36,
          25,
          13,
          22,
          122,
          83,
          43,
          48,
          21,
          59,
          17973
         ],
         "xaxis": "x5",
         "y": [
          "Polynesia",
          "Micronesian Region",
          "Melanesia",
          "Middle Africa",
          "Central Asia",
          "Eastern Africa",
          "Caribbean",
          "Southern Africa",
          "Western Africa",
          "Northern Africa",
          "Australasia",
          "Central America",
          "Western Asia",
          "Southern Europe",
          "Eastern Europe",
          "South America",
          "Eastern Asia",
          "Northern Europe",
          "Western Europe",
          "Southern Asia",
          "Southeast Asia",
          "Northern America"
         ],
         "yaxis": "y5"
        },
        {
         "marker": {
          "color": "rgba(126, 101, 22, 0.6)"
         },
         "orientation": "h",
         "showlegend": false,
         "type": "bar",
         "uid": "74546ff1-69d6-42ca-ace6-8e7da4a1f7e2",
         "x": [
          null,
          null,
          null,
          null,
          17490000,
          1756233333.3333333,
          95285263.15789473,
          103986666.66666667,
          1651200000,
          35732500,
          233831034.4827586,
          115243888.8888889,
          76108800,
          131240000,
          50237727.27272727,
          152080983.60655737,
          168628674.69879517,
          97119767.44186047,
          88748958.33333333,
          68783809.52380952,
          102023389.83050847,
          124663908.08434874
         ],
         "xaxis": "x6",
         "y": [
          "Polynesia",
          "Micronesian Region",
          "Melanesia",
          "Middle Africa",
          "Central Asia",
          "Eastern Africa",
          "Caribbean",
          "Southern Africa",
          "Western Africa",
          "Northern Africa",
          "Australasia",
          "Central America",
          "Western Asia",
          "Southern Europe",
          "Eastern Europe",
          "South America",
          "Eastern Asia",
          "Northern Europe",
          "Western Europe",
          "Southern Asia",
          "Southeast Asia",
          "Northern America"
         ],
         "yaxis": "y6"
        }
       ],
       "layout": {
        "annotations": [
         {
          "font": {
           "size": 16
          },
          "showarrow": false,
          "text": "Continent - Count",
          "x": 0.11666666666666665,
          "xanchor": "center",
          "xref": "paper",
          "y": 1,
          "yanchor": "bottom",
          "yref": "paper"
         },
         {
          "font": {
           "size": 16
          },
          "showarrow": false,
          "text": "Continent - Non-zero Revenue Count",
          "x": 0.49999999999999994,
          "xanchor": "center",
          "xref": "paper",
          "y": 1,
          "yanchor": "bottom",
          "yref": "paper"
         },
         {
          "font": {
           "size": 16
          },
          "showarrow": false,
          "text": "Continent - Mean Revenue",
          "x": 0.8833333333333333,
          "xanchor": "center",
          "xref": "paper",
          "y": 1,
          "yanchor": "bottom",
          "yref": "paper"
         },
         {
          "font": {
           "size": 16
          },
          "showarrow": false,
          "text": "Sub Continent - Count",
          "x": 0.11666666666666665,
          "xanchor": "center",
          "xref": "paper",
          "y": 0.46,
          "yanchor": "bottom",
          "yref": "paper"
         },
         {
          "font": {
           "size": 16
          },
          "showarrow": false,
          "text": "Sub Continent - Non-zero Revenue Count",
          "x": 0.49999999999999994,
          "xanchor": "center",
          "xref": "paper",
          "y": 0.46,
          "yanchor": "bottom",
          "yref": "paper"
         },
         {
          "font": {
           "size": 16
          },
          "showarrow": false,
          "text": "Sub Continent - Mean Revenue",
          "x": 0.8833333333333333,
          "xanchor": "center",
          "xref": "paper",
          "y": 0.46,
          "yanchor": "bottom",
          "yref": "paper"
         }
        ],
        "height": 1000,
        "title": "Continent & Subcontinent Plots",
        "width": 1000,
        "xaxis": {
         "anchor": "y",
         "domain": [
          0,
          0.2333333333333333
         ]
        },
        "xaxis2": {
         "anchor": "y2",
         "domain": [
          0.3833333333333333,
          0.6166666666666666
         ]
        },
        "xaxis3": {
         "anchor": "y3",
         "domain": [
          0.7666666666666666,
          0.9999999999999999
         ]
        },
        "xaxis4": {
         "anchor": "y4",
         "domain": [
          0,
          0.2333333333333333
         ]
        },
        "xaxis5": {
         "anchor": "y5",
         "domain": [
          0.3833333333333333,
          0.6166666666666666
         ]
        },
        "xaxis6": {
         "anchor": "y6",
         "domain": [
          0.7666666666666666,
          0.9999999999999999
         ]
        },
        "yaxis": {
         "anchor": "x",
         "domain": [
          0.54,
          1
         ]
        },
        "yaxis2": {
         "anchor": "x2",
         "domain": [
          0.54,
          1
         ]
        },
        "yaxis3": {
         "anchor": "x3",
         "domain": [
          0.54,
          1
         ]
        },
        "yaxis4": {
         "anchor": "x4",
         "domain": [
          0,
          0.46
         ]
        },
        "yaxis5": {
         "anchor": "x5",
         "domain": [
          0,
          0.46
         ]
        },
        "yaxis6": {
         "anchor": "x6",
         "domain": [
          0,
          0.46
         ]
        }
       }
      },
      "text/html": [
       "<div id=\"49972f20-a8b5-480b-aea3-3f9d4ec322ad\" style=\"height: 1000px; width: 1000px;\" class=\"plotly-graph-div\"></div><script type=\"text/javascript\">require([\"plotly\"], function(Plotly) { window.PLOTLYENV=window.PLOTLYENV || {};window.PLOTLYENV.BASE_URL=\"https://plot.ly\";Plotly.newPlot(\"49972f20-a8b5-480b-aea3-3f9d4ec322ad\", [{\"marker\": {\"color\": \"rgba(38, 171, 82, 0.6)\"}, \"orientation\": \"h\", \"showlegend\": false, \"x\": [28180, 35481, 368037, 396719, 877403], \"y\": [\"Oceania\", \"Africa\", \"Europe\", \"Asia\", \"Americas\"], \"type\": \"bar\", \"uid\": \"3120c26c-6546-43a7-b572-be33ed286742\", \"xaxis\": \"x\", \"yaxis\": \"y\"}, {\"marker\": {\"color\": \"rgba(38, 171, 82, 0.6)\"}, \"orientation\": \"h\", \"showlegend\": false, \"x\": [29, 12, 126, 190, 18150], \"y\": [\"Oceania\", \"Africa\", \"Europe\", \"Asia\", \"Americas\"], \"type\": \"bar\", \"uid\": \"80b229ba-86cd-42b8-a183-f58fcb132ef1\", \"xaxis\": \"x2\", \"yaxis\": \"y2\"}, {\"marker\": {\"color\": \"rgba(38, 171, 82, 0.6)\"}, \"orientation\": \"h\", \"showlegend\": false, \"x\": [233831034.4827586, 752165833.3333334, 89265476.1904762, 123145894.73684211, 124798760.3305785], \"y\": [\"Oceania\", \"Africa\", \"Europe\", \"Asia\", \"Americas\"], \"type\": \"bar\", \"uid\": \"e197fd01-7e0d-4fb8-9681-59ba0aada6c6\", \"xaxis\": \"x3\", \"yaxis\": \"y3\"}, {\"marker\": {\"color\": \"rgba(126, 101, 22, 0.6)\"}, \"orientation\": \"h\", \"showlegend\": false, \"x\": [52, 128, 133, 927, 1985, 4194, 4382, 6019, 7086, 17255, 27867, 29564, 60966, 67184, 74007, 75112, 91072, 111693, 115153, 121062, 121634, 768345], \"y\": [\"Polynesia\", \"Micronesian Region\", \"Melanesia\", \"Middle Africa\", \"Central Asia\", \"Eastern Africa\", \"Caribbean\", \"Southern Africa\", \"Western Africa\", \"Northern Africa\", \"Australasia\", \"Central America\", \"Western Asia\", \"Southern Europe\", \"Eastern Europe\", \"South America\", \"Eastern Asia\", \"Northern Europe\", \"Western Europe\", \"Southern Asia\", \"Southeast Asia\", \"Northern America\"], \"type\": \"bar\", \"uid\": \"3d37cf8f-8e3a-446f-908c-efb24383c788\", \"xaxis\": \"x4\", \"yaxis\": \"y4\"}, {\"marker\": {\"color\": \"rgba(126, 101, 22, 0.6)\"}, \"orientation\": \"h\", \"showlegend\": false, \"x\": [0, 0, 0, 0, 2, 3, 19, 3, 2, 4, 29, 36, 25, 13, 22, 122, 83, 43, 48, 21, 59, 17973], \"y\": [\"Polynesia\", \"Micronesian Region\", \"Melanesia\", \"Middle Africa\", \"Central Asia\", \"Eastern Africa\", \"Caribbean\", \"Southern Africa\", \"Western Africa\", \"Northern Africa\", \"Australasia\", \"Central America\", \"Western Asia\", \"Southern Europe\", \"Eastern Europe\", \"South America\", \"Eastern Asia\", \"Northern Europe\", \"Western Europe\", \"Southern Asia\", \"Southeast Asia\", \"Northern America\"], \"type\": \"bar\", \"uid\": \"edcdbb49-5b12-4cf2-9afa-8584939627f3\", \"xaxis\": \"x5\", \"yaxis\": \"y5\"}, {\"marker\": {\"color\": \"rgba(126, 101, 22, 0.6)\"}, \"orientation\": \"h\", \"showlegend\": false, \"x\": [null, null, null, null, 17490000.0, 1756233333.3333333, 95285263.15789473, 103986666.66666667, 1651200000.0, 35732500.0, 233831034.4827586, 115243888.8888889, 76108800.0, 131240000.0, 50237727.27272727, 152080983.60655737, 168628674.69879517, 97119767.44186047, 88748958.33333333, 68783809.52380952, 102023389.83050847, 124663908.08434874], \"y\": [\"Polynesia\", \"Micronesian Region\", \"Melanesia\", \"Middle Africa\", \"Central Asia\", \"Eastern Africa\", \"Caribbean\", \"Southern Africa\", \"Western Africa\", \"Northern Africa\", \"Australasia\", \"Central America\", \"Western Asia\", \"Southern Europe\", \"Eastern Europe\", \"South America\", \"Eastern Asia\", \"Northern Europe\", \"Western Europe\", \"Southern Asia\", \"Southeast Asia\", \"Northern America\"], \"type\": \"bar\", \"uid\": \"74546ff1-69d6-42ca-ace6-8e7da4a1f7e2\", \"xaxis\": \"x6\", \"yaxis\": \"y6\"}], {\"annotations\": [{\"font\": {\"size\": 16}, \"showarrow\": false, \"text\": \"Continent - Count\", \"x\": 0.11666666666666665, \"xanchor\": \"center\", \"xref\": \"paper\", \"y\": 1.0, \"yanchor\": \"bottom\", \"yref\": \"paper\"}, {\"font\": {\"size\": 16}, \"showarrow\": false, \"text\": \"Continent - Non-zero Revenue Count\", \"x\": 0.49999999999999994, \"xanchor\": \"center\", \"xref\": \"paper\", \"y\": 1.0, \"yanchor\": \"bottom\", \"yref\": \"paper\"}, {\"font\": {\"size\": 16}, \"showarrow\": false, \"text\": \"Continent - Mean Revenue\", \"x\": 0.8833333333333333, \"xanchor\": \"center\", \"xref\": \"paper\", \"y\": 1.0, \"yanchor\": \"bottom\", \"yref\": \"paper\"}, {\"font\": {\"size\": 16}, \"showarrow\": false, \"text\": \"Sub Continent - Count\", \"x\": 0.11666666666666665, \"xanchor\": \"center\", \"xref\": \"paper\", \"y\": 0.46, \"yanchor\": \"bottom\", \"yref\": \"paper\"}, {\"font\": {\"size\": 16}, \"showarrow\": false, \"text\": \"Sub Continent - Non-zero Revenue Count\", \"x\": 0.49999999999999994, \"xanchor\": \"center\", \"xref\": \"paper\", \"y\": 0.46, \"yanchor\": \"bottom\", \"yref\": \"paper\"}, {\"font\": {\"size\": 16}, \"showarrow\": false, \"text\": \"Sub Continent - Mean Revenue\", \"x\": 0.8833333333333333, \"xanchor\": \"center\", \"xref\": \"paper\", \"y\": 0.46, \"yanchor\": \"bottom\", \"yref\": \"paper\"}], \"xaxis\": {\"anchor\": \"y\", \"domain\": [0.0, 0.2333333333333333]}, \"yaxis\": {\"anchor\": \"x\", \"domain\": [0.54, 1.0]}, \"xaxis2\": {\"anchor\": \"y2\", \"domain\": [0.3833333333333333, 0.6166666666666666]}, \"yaxis2\": {\"anchor\": \"x2\", \"domain\": [0.54, 1.0]}, \"xaxis3\": {\"anchor\": \"y3\", \"domain\": [0.7666666666666666, 0.9999999999999999]}, \"yaxis3\": {\"anchor\": \"x3\", \"domain\": [0.54, 1.0]}, \"xaxis4\": {\"anchor\": \"y4\", \"domain\": [0.0, 0.2333333333333333]}, \"yaxis4\": {\"anchor\": \"x4\", \"domain\": [0.0, 0.46]}, \"xaxis5\": {\"anchor\": \"y5\", \"domain\": [0.3833333333333333, 0.6166666666666666]}, \"yaxis5\": {\"anchor\": \"x5\", \"domain\": [0.0, 0.46]}, \"xaxis6\": {\"anchor\": \"y6\", \"domain\": [0.7666666666666666, 0.9999999999999999]}, \"yaxis6\": {\"anchor\": \"x6\", \"domain\": [0.0, 0.46]}, \"height\": 1000, \"width\": 1000, \"title\": \"Continent & Subcontinent Plots\"}, {\"showLink\": true, \"linkText\": \"Export to plot.ly\", \"plotlyServerURL\": \"https://plot.ly\"})});</script>"
      ],
      "text/vnd.plotly.v1+html": [
       "<div id=\"49972f20-a8b5-480b-aea3-3f9d4ec322ad\" style=\"height: 1000px; width: 1000px;\" class=\"plotly-graph-div\"></div><script type=\"text/javascript\">require([\"plotly\"], function(Plotly) { window.PLOTLYENV=window.PLOTLYENV || {};window.PLOTLYENV.BASE_URL=\"https://plot.ly\";Plotly.newPlot(\"49972f20-a8b5-480b-aea3-3f9d4ec322ad\", [{\"marker\": {\"color\": \"rgba(38, 171, 82, 0.6)\"}, \"orientation\": \"h\", \"showlegend\": false, \"x\": [28180, 35481, 368037, 396719, 877403], \"y\": [\"Oceania\", \"Africa\", \"Europe\", \"Asia\", \"Americas\"], \"type\": \"bar\", \"uid\": \"3120c26c-6546-43a7-b572-be33ed286742\", \"xaxis\": \"x\", \"yaxis\": \"y\"}, {\"marker\": {\"color\": \"rgba(38, 171, 82, 0.6)\"}, \"orientation\": \"h\", \"showlegend\": false, \"x\": [29, 12, 126, 190, 18150], \"y\": [\"Oceania\", \"Africa\", \"Europe\", \"Asia\", \"Americas\"], \"type\": \"bar\", \"uid\": \"80b229ba-86cd-42b8-a183-f58fcb132ef1\", \"xaxis\": \"x2\", \"yaxis\": \"y2\"}, {\"marker\": {\"color\": \"rgba(38, 171, 82, 0.6)\"}, \"orientation\": \"h\", \"showlegend\": false, \"x\": [233831034.4827586, 752165833.3333334, 89265476.1904762, 123145894.73684211, 124798760.3305785], \"y\": [\"Oceania\", \"Africa\", \"Europe\", \"Asia\", \"Americas\"], \"type\": \"bar\", \"uid\": \"e197fd01-7e0d-4fb8-9681-59ba0aada6c6\", \"xaxis\": \"x3\", \"yaxis\": \"y3\"}, {\"marker\": {\"color\": \"rgba(126, 101, 22, 0.6)\"}, \"orientation\": \"h\", \"showlegend\": false, \"x\": [52, 128, 133, 927, 1985, 4194, 4382, 6019, 7086, 17255, 27867, 29564, 60966, 67184, 74007, 75112, 91072, 111693, 115153, 121062, 121634, 768345], \"y\": [\"Polynesia\", \"Micronesian Region\", \"Melanesia\", \"Middle Africa\", \"Central Asia\", \"Eastern Africa\", \"Caribbean\", \"Southern Africa\", \"Western Africa\", \"Northern Africa\", \"Australasia\", \"Central America\", \"Western Asia\", \"Southern Europe\", \"Eastern Europe\", \"South America\", \"Eastern Asia\", \"Northern Europe\", \"Western Europe\", \"Southern Asia\", \"Southeast Asia\", \"Northern America\"], \"type\": \"bar\", \"uid\": \"3d37cf8f-8e3a-446f-908c-efb24383c788\", \"xaxis\": \"x4\", \"yaxis\": \"y4\"}, {\"marker\": {\"color\": \"rgba(126, 101, 22, 0.6)\"}, \"orientation\": \"h\", \"showlegend\": false, \"x\": [0, 0, 0, 0, 2, 3, 19, 3, 2, 4, 29, 36, 25, 13, 22, 122, 83, 43, 48, 21, 59, 17973], \"y\": [\"Polynesia\", \"Micronesian Region\", \"Melanesia\", \"Middle Africa\", \"Central Asia\", \"Eastern Africa\", \"Caribbean\", \"Southern Africa\", \"Western Africa\", \"Northern Africa\", \"Australasia\", \"Central America\", \"Western Asia\", \"Southern Europe\", \"Eastern Europe\", \"South America\", \"Eastern Asia\", \"Northern Europe\", \"Western Europe\", \"Southern Asia\", \"Southeast Asia\", \"Northern America\"], \"type\": \"bar\", \"uid\": \"edcdbb49-5b12-4cf2-9afa-8584939627f3\", \"xaxis\": \"x5\", \"yaxis\": \"y5\"}, {\"marker\": {\"color\": \"rgba(126, 101, 22, 0.6)\"}, \"orientation\": \"h\", \"showlegend\": false, \"x\": [null, null, null, null, 17490000.0, 1756233333.3333333, 95285263.15789473, 103986666.66666667, 1651200000.0, 35732500.0, 233831034.4827586, 115243888.8888889, 76108800.0, 131240000.0, 50237727.27272727, 152080983.60655737, 168628674.69879517, 97119767.44186047, 88748958.33333333, 68783809.52380952, 102023389.83050847, 124663908.08434874], \"y\": [\"Polynesia\", \"Micronesian Region\", \"Melanesia\", \"Middle Africa\", \"Central Asia\", \"Eastern Africa\", \"Caribbean\", \"Southern Africa\", \"Western Africa\", \"Northern Africa\", \"Australasia\", \"Central America\", \"Western Asia\", \"Southern Europe\", \"Eastern Europe\", \"South America\", \"Eastern Asia\", \"Northern Europe\", \"Western Europe\", \"Southern Asia\", \"Southeast Asia\", \"Northern America\"], \"type\": \"bar\", \"uid\": \"74546ff1-69d6-42ca-ace6-8e7da4a1f7e2\", \"xaxis\": \"x6\", \"yaxis\": \"y6\"}], {\"annotations\": [{\"font\": {\"size\": 16}, \"showarrow\": false, \"text\": \"Continent - Count\", \"x\": 0.11666666666666665, \"xanchor\": \"center\", \"xref\": \"paper\", \"y\": 1.0, \"yanchor\": \"bottom\", \"yref\": \"paper\"}, {\"font\": {\"size\": 16}, \"showarrow\": false, \"text\": \"Continent - Non-zero Revenue Count\", \"x\": 0.49999999999999994, \"xanchor\": \"center\", \"xref\": \"paper\", \"y\": 1.0, \"yanchor\": \"bottom\", \"yref\": \"paper\"}, {\"font\": {\"size\": 16}, \"showarrow\": false, \"text\": \"Continent - Mean Revenue\", \"x\": 0.8833333333333333, \"xanchor\": \"center\", \"xref\": \"paper\", \"y\": 1.0, \"yanchor\": \"bottom\", \"yref\": \"paper\"}, {\"font\": {\"size\": 16}, \"showarrow\": false, \"text\": \"Sub Continent - Count\", \"x\": 0.11666666666666665, \"xanchor\": \"center\", \"xref\": \"paper\", \"y\": 0.46, \"yanchor\": \"bottom\", \"yref\": \"paper\"}, {\"font\": {\"size\": 16}, \"showarrow\": false, \"text\": \"Sub Continent - Non-zero Revenue Count\", \"x\": 0.49999999999999994, \"xanchor\": \"center\", \"xref\": \"paper\", \"y\": 0.46, \"yanchor\": \"bottom\", \"yref\": \"paper\"}, {\"font\": {\"size\": 16}, \"showarrow\": false, \"text\": \"Sub Continent - Mean Revenue\", \"x\": 0.8833333333333333, \"xanchor\": \"center\", \"xref\": \"paper\", \"y\": 0.46, \"yanchor\": \"bottom\", \"yref\": \"paper\"}], \"xaxis\": {\"anchor\": \"y\", \"domain\": [0.0, 0.2333333333333333]}, \"yaxis\": {\"anchor\": \"x\", \"domain\": [0.54, 1.0]}, \"xaxis2\": {\"anchor\": \"y2\", \"domain\": [0.3833333333333333, 0.6166666666666666]}, \"yaxis2\": {\"anchor\": \"x2\", \"domain\": [0.54, 1.0]}, \"xaxis3\": {\"anchor\": \"y3\", \"domain\": [0.7666666666666666, 0.9999999999999999]}, \"yaxis3\": {\"anchor\": \"x3\", \"domain\": [0.54, 1.0]}, \"xaxis4\": {\"anchor\": \"y4\", \"domain\": [0.0, 0.2333333333333333]}, \"yaxis4\": {\"anchor\": \"x4\", \"domain\": [0.0, 0.46]}, \"xaxis5\": {\"anchor\": \"y5\", \"domain\": [0.3833333333333333, 0.6166666666666666]}, \"yaxis5\": {\"anchor\": \"x5\", \"domain\": [0.0, 0.46]}, \"xaxis6\": {\"anchor\": \"y6\", \"domain\": [0.7666666666666666, 0.9999999999999999]}, \"yaxis6\": {\"anchor\": \"x6\", \"domain\": [0.0, 0.46]}, \"height\": 1000, \"width\": 1000, \"title\": \"Continent & Subcontinent Plots\"}, {\"showLink\": true, \"linkText\": \"Export to plot.ly\", \"plotlyServerURL\": \"https://plot.ly\"})});</script>"
      ]
     },
     "metadata": {},
     "output_type": "display_data"
    }
   ],
   "source": [
    "# Continent\n",
    "cnt_srs = df.groupby('geoNetwork.continent')['totals.transactionRevenue'].agg(['size', 'count', 'mean'])\n",
    "cnt_srs.columns = [\"count\", \"count of non-zero revenue\", \"mean\"]\n",
    "cnt_srs = cnt_srs.sort_values(by=\"count\", ascending=False)\n",
    "trace1 = horizontal_bar_chart(cnt_srs[\"count\"].head(10), 'rgba(38, 171, 82, 0.6)')\n",
    "trace2 = horizontal_bar_chart(cnt_srs[\"count of non-zero revenue\"].head(10), 'rgba(38, 171, 82, 0.6)')\n",
    "trace3 = horizontal_bar_chart(cnt_srs[\"mean\"].head(10), 'rgba(38, 171, 82, 0.6)')\n",
    "\n",
    "# Sub-continent\n",
    "cnt_srs = df.groupby('geoNetwork.subContinent')['totals.transactionRevenue'].agg(['size', 'count', 'mean'])\n",
    "cnt_srs.columns = [\"count\", \"count of non-zero revenue\", \"mean\"]\n",
    "cnt_srs = cnt_srs.sort_values(by=\"count\", ascending=False)\n",
    "trace4 = horizontal_bar_chart(cnt_srs[\"count\"], 'rgba(126, 101, 22, 0.6)')\n",
    "trace5 = horizontal_bar_chart(cnt_srs[\"count of non-zero revenue\"], 'rgba(126, 101, 22, 0.6)')\n",
    "trace6 = horizontal_bar_chart(cnt_srs[\"mean\"], 'rgba(126, 101, 22, 0.6)')\n",
    "\n",
    "# Creating two subplots\n",
    "fig = tools.make_subplots(rows=2, cols=3, vertical_spacing=0.08, horizontal_spacing=0.15, \n",
    "                          subplot_titles=[\"Continent - Count\", \"Continent - Non-zero Revenue Count\", \"Continent - Mean Revenue\",\n",
    "                                          \"Sub Continent - Count\",  \"Sub Continent - Non-zero Revenue Count\", \"Sub Continent - Mean Revenue\"])\n",
    "\n",
    "fig.append_trace(trace1, 1, 1)\n",
    "fig.append_trace(trace2, 1, 2)\n",
    "fig.append_trace(trace3, 1, 3)\n",
    "fig.append_trace(trace4, 2, 1)\n",
    "fig.append_trace(trace5, 2, 2)\n",
    "fig.append_trace(trace6, 2, 3)\n",
    "\n",
    "fig['layout'].update(height=1000, width=1000, title=\"Continent & Subcontinent Plots\")\n",
    "py.iplot(fig, filename='geo-plots')"
   ]
  },
  {
   "cell_type": "code",
   "execution_count": 9,
   "metadata": {},
   "outputs": [],
   "source": [
    "df[\"totals.transactionRevenue\"].fillna(0, inplace=True)"
   ]
  },
  {
   "cell_type": "markdown",
   "metadata": {},
   "source": [
    "There are a few categorical columns that we need to encode to help with the prediction"
   ]
  },
  {
   "cell_type": "code",
   "execution_count": 10,
   "metadata": {},
   "outputs": [],
   "source": [
    "cat_cols = [\"channelGrouping\", \"device.browser\", \n",
    "            \"device.deviceCategory\", \"device.operatingSystem\", \n",
    "            \"geoNetwork.city\", \"geoNetwork.continent\", \n",
    "            \"geoNetwork.country\", \"geoNetwork.metro\",\n",
    "            \"geoNetwork.networkDomain\", \"geoNetwork.region\", \n",
    "            \"geoNetwork.subContinent\", \"trafficSource.adContent\", \n",
    "            \"trafficSource.adwordsClickInfo.adNetworkType\", \n",
    "            \"trafficSource.adwordsClickInfo.gclId\", \n",
    "            \"trafficSource.adwordsClickInfo.page\", \n",
    "            \"trafficSource.adwordsClickInfo.slot\", \"trafficSource.campaign\",\n",
    "            \"trafficSource.keyword\", \"trafficSource.medium\", \n",
    "            \"trafficSource.referralPath\", \"trafficSource.source\",\n",
    "            'trafficSource.adwordsClickInfo.isVideoAd', 'trafficSource.isTrueDirect']\n",
    "\n",
    "for col in cat_cols:\n",
    "    lbl = preprocessing.LabelEncoder()\n",
    "    lbl.fit(list(df[col].values.astype('str')))\n",
    "    df[col] = lbl.transform(list(df[col].values.astype('str')))"
   ]
  },
  {
   "cell_type": "code",
   "execution_count": 12,
   "metadata": {},
   "outputs": [
    {
     "name": "stdout",
     "output_type": "stream",
     "text": [
      "<class 'pandas.core.frame.DataFrame'>\n",
      "RangeIndex: 401589 entries, 0 to 401588\n",
      "Data columns (total 41 columns):\n",
      "channelGrouping                                 401589 non-null int64\n",
      "date                                            401589 non-null object\n",
      "visitId                                         401589 non-null int64\n",
      "visitNumber                                     401589 non-null int64\n",
      "visitStartTime                                  401589 non-null float64\n",
      "device.browser                                  401589 non-null int64\n",
      "device.deviceCategory                           401589 non-null int64\n",
      "device.isMobile                                 401589 non-null bool\n",
      "device.operatingSystem                          401589 non-null int64\n",
      "geoNetwork.city                                 401589 non-null int64\n",
      "geoNetwork.continent                            401589 non-null int64\n",
      "geoNetwork.country                              401589 non-null int64\n",
      "geoNetwork.metro                                401589 non-null int64\n",
      "geoNetwork.networkDomain                        401589 non-null int64\n",
      "geoNetwork.region                               401589 non-null int64\n",
      "geoNetwork.subContinent                         401589 non-null int64\n",
      "totals.bounces                                  182678 non-null float64\n",
      "totals.hits                                     401589 non-null int64\n",
      "totals.newVisits                                286065 non-null float64\n",
      "totals.pageviews                                401488 non-null float64\n",
      "totals.sessionQualityDim                        401589 non-null int64\n",
      "totals.timeOnSite                               217903 non-null float64\n",
      "totals.totalTransactionRevenue                  4594 non-null float64\n",
      "totals.transactionRevenue                       401589 non-null float64\n",
      "totals.transactions                             6305 non-null float64\n",
      "trafficSource.adContent                         401589 non-null int64\n",
      "trafficSource.adwordsClickInfo.adNetworkType    401589 non-null int64\n",
      "trafficSource.adwordsClickInfo.gclId            401589 non-null int64\n",
      "trafficSource.adwordsClickInfo.isVideoAd        401589 non-null int64\n",
      "trafficSource.adwordsClickInfo.page             401589 non-null int64\n",
      "trafficSource.adwordsClickInfo.slot             401589 non-null int64\n",
      "trafficSource.campaign                          401589 non-null int64\n",
      "trafficSource.isTrueDirect                      401589 non-null int64\n",
      "trafficSource.keyword                           401589 non-null int64\n",
      "trafficSource.medium                            401589 non-null int64\n",
      "trafficSource.referralPath                      401589 non-null int64\n",
      "trafficSource.source                            401589 non-null int64\n",
      "year                                            401589 non-null int64\n",
      "month                                           401589 non-null int64\n",
      "day                                             401589 non-null int64\n",
      "weekday                                         401589 non-null int64\n",
      "dtypes: bool(1), float64(8), int64(31), object(1)\n",
      "memory usage: 122.9+ MB\n"
     ]
    }
   ],
   "source": [
    "reg_df = df.drop('fullVisitorId', 1)\n",
    "reg_df.info()"
   ]
  },
  {
   "cell_type": "code",
   "execution_count": 7,
   "metadata": {},
   "outputs": [],
   "source": [
    "df.to_csv(\"trainEncoded.csv\", index=False)"
   ]
  },
  {
   "cell_type": "code",
   "execution_count": null,
   "metadata": {},
   "outputs": [],
   "source": []
  }
 ],
 "metadata": {
  "kernelspec": {
   "display_name": "Python 3",
   "language": "python",
   "name": "python3"
  },
  "language_info": {
   "codemirror_mode": {
    "name": "ipython",
    "version": 3
   },
   "file_extension": ".py",
   "mimetype": "text/x-python",
   "name": "python",
   "nbconvert_exporter": "python",
   "pygments_lexer": "ipython3",
   "version": "3.6.5"
  }
 },
 "nbformat": 4,
 "nbformat_minor": 2
}
