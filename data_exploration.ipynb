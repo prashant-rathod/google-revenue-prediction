{
 "cells": [
  {
   "cell_type": "code",
   "execution_count": 1,
   "metadata": {
    "scrolled": true
   },
   "outputs": [
    {
     "name": "stdout",
     "output_type": "stream",
     "text": [
      "Requirement already satisfied: plotly in c:\\users\\user\\miniconda3\\envs\\py3k\\lib\\site-packages (3.4.2)\n",
      "Requirement already satisfied: nbformat>=4.2 in c:\\users\\user\\miniconda3\\envs\\py3k\\lib\\site-packages (from plotly) (4.4.0)\n",
      "Requirement already satisfied: decorator>=4.0.6 in c:\\users\\user\\miniconda3\\envs\\py3k\\lib\\site-packages (from plotly) (4.3.0)\n",
      "Requirement already satisfied: pytz in c:\\users\\user\\miniconda3\\envs\\py3k\\lib\\site-packages (from plotly) (2018.4)\n",
      "Requirement already satisfied: retrying>=1.3.3 in c:\\users\\user\\miniconda3\\envs\\py3k\\lib\\site-packages (from plotly) (1.3.3)\n",
      "Requirement already satisfied: six in c:\\users\\user\\miniconda3\\envs\\py3k\\lib\\site-packages (from plotly) (1.11.0)\n",
      "Requirement already satisfied: requests in c:\\users\\user\\miniconda3\\envs\\py3k\\lib\\site-packages (from plotly) (2.18.4)\n",
      "Requirement already satisfied: ipython_genutils in c:\\users\\user\\miniconda3\\envs\\py3k\\lib\\site-packages (from nbformat>=4.2->plotly) (0.2.0)\n",
      "Requirement already satisfied: traitlets>=4.1 in c:\\users\\user\\miniconda3\\envs\\py3k\\lib\\site-packages (from nbformat>=4.2->plotly) (4.3.2)\n",
      "Requirement already satisfied: jsonschema!=2.5.0,>=2.4 in c:\\users\\user\\miniconda3\\envs\\py3k\\lib\\site-packages (from nbformat>=4.2->plotly) (2.6.0)\n",
      "Requirement already satisfied: jupyter_core in c:\\users\\user\\miniconda3\\envs\\py3k\\lib\\site-packages (from nbformat>=4.2->plotly) (4.4.0)\n",
      "Requirement already satisfied: chardet<3.1.0,>=3.0.2 in c:\\users\\user\\miniconda3\\envs\\py3k\\lib\\site-packages (from requests->plotly) (3.0.4)\n",
      "Requirement already satisfied: idna<2.7,>=2.5 in c:\\users\\user\\miniconda3\\envs\\py3k\\lib\\site-packages (from requests->plotly) (2.6)\n",
      "Requirement already satisfied: urllib3<1.23,>=1.21.1 in c:\\users\\user\\miniconda3\\envs\\py3k\\lib\\site-packages (from requests->plotly) (1.22)\n",
      "Requirement already satisfied: certifi>=2017.4.17 in c:\\users\\user\\miniconda3\\envs\\py3k\\lib\\site-packages (from requests->plotly) (2018.4.16)\n"
     ]
    },
    {
     "name": "stderr",
     "output_type": "stream",
     "text": [
      "distributed 1.21.8 requires msgpack, which is not installed.\n",
      "You are using pip version 10.0.1, however version 18.1 is available.\n",
      "You should consider upgrading via the 'python -m pip install --upgrade pip' command.\n"
     ]
    },
    {
     "name": "stdout",
     "output_type": "stream",
     "text": [
      "Requirement already satisfied: lightgbm in c:\\users\\user\\miniconda3\\envs\\py3k\\lib\\site-packages (2.2.2)\n",
      "Requirement already satisfied: scipy in c:\\users\\user\\miniconda3\\envs\\py3k\\lib\\site-packages (from lightgbm) (1.1.0)\n",
      "Requirement already satisfied: scikit-learn in c:\\users\\user\\miniconda3\\envs\\py3k\\lib\\site-packages (from lightgbm) (0.19.1)\n",
      "Requirement already satisfied: numpy in c:\\users\\user\\miniconda3\\envs\\py3k\\lib\\site-packages (from lightgbm) (1.14.3)\n"
     ]
    },
    {
     "name": "stderr",
     "output_type": "stream",
     "text": [
      "distributed 1.21.8 requires msgpack, which is not installed.\n",
      "You are using pip version 10.0.1, however version 18.1 is available.\n",
      "You should consider upgrading via the 'python -m pip install --upgrade pip' command.\n",
      "ERROR: To modify pip, please run the following command:\n",
      "C:\\Users\\USER\\Miniconda3\\envs\\py3k\\python.exe -m pip install --upgrade pip\n",
      "You are using pip version 10.0.1, however version 18.1 is available.\n",
      "You should consider upgrading via the 'python -m pip install --upgrade pip' command.\n"
     ]
    }
   ],
   "source": [
    "!pip install plotly\n",
    "!pip install lightgbm\n",
    "!pip install --upgrade pip\n",
    "import os\n",
    "import json\n",
    "import numpy as np\n",
    "import pandas as pd\n",
    "from pandas.io.json import json_normalize\n",
    "import matplotlib.pyplot as plt\n",
    "from IPython.display import Image, display\n",
    "from pandas.tools.plotting import scatter_matrix \n",
    "from sklearn.model_selection import train_test_split\n",
    "%matplotlib inline\n",
    "from sklearn import preprocessing\n",
    "import lightgbm as lgb \n",
    "import warnings; warnings.simplefilter('ignore')"
   ]
  },
  {
   "cell_type": "code",
   "execution_count": 98,
   "metadata": {},
   "outputs": [],
   "source": [
    "df = pd.read_csv(\".\\\\train.csv\")"
   ]
  },
  {
   "cell_type": "code",
   "execution_count": 59,
   "metadata": {},
   "outputs": [
    {
     "data": {
      "text/html": [
       "<div>\n",
       "<style scoped>\n",
       "    .dataframe tbody tr th:only-of-type {\n",
       "        vertical-align: middle;\n",
       "    }\n",
       "\n",
       "    .dataframe tbody tr th {\n",
       "        vertical-align: top;\n",
       "    }\n",
       "\n",
       "    .dataframe thead th {\n",
       "        text-align: right;\n",
       "    }\n",
       "</style>\n",
       "<table border=\"1\" class=\"dataframe\">\n",
       "  <thead>\n",
       "    <tr style=\"text-align: right;\">\n",
       "      <th></th>\n",
       "      <th>channelGrouping</th>\n",
       "      <th>date</th>\n",
       "      <th>device.browser</th>\n",
       "      <th>device.deviceCategory</th>\n",
       "      <th>device.isMobile</th>\n",
       "      <th>device.operatingSystem</th>\n",
       "      <th>fullVisitorId</th>\n",
       "      <th>geoNetwork.city</th>\n",
       "      <th>geoNetwork.continent</th>\n",
       "      <th>geoNetwork.country</th>\n",
       "      <th>...</th>\n",
       "      <th>trafficSource.adwordsClickInfo.slot</th>\n",
       "      <th>trafficSource.campaign</th>\n",
       "      <th>trafficSource.isTrueDirect</th>\n",
       "      <th>trafficSource.keyword</th>\n",
       "      <th>trafficSource.medium</th>\n",
       "      <th>trafficSource.referralPath</th>\n",
       "      <th>trafficSource.source</th>\n",
       "      <th>visitId</th>\n",
       "      <th>visitNumber</th>\n",
       "      <th>visitStartTime</th>\n",
       "    </tr>\n",
       "  </thead>\n",
       "  <tbody>\n",
       "    <tr>\n",
       "      <th>0</th>\n",
       "      <td>Organic Search</td>\n",
       "      <td>20160902</td>\n",
       "      <td>Firefox</td>\n",
       "      <td>desktop</td>\n",
       "      <td>False</td>\n",
       "      <td>Windows</td>\n",
       "      <td>9499785259412240342</td>\n",
       "      <td>not available in demo dataset</td>\n",
       "      <td>Europe</td>\n",
       "      <td>Netherlands</td>\n",
       "      <td>...</td>\n",
       "      <td>NaN</td>\n",
       "      <td>(not set)</td>\n",
       "      <td>NaN</td>\n",
       "      <td>(not provided)</td>\n",
       "      <td>organic</td>\n",
       "      <td>NaN</td>\n",
       "      <td>google</td>\n",
       "      <td>1472812272</td>\n",
       "      <td>1.0</td>\n",
       "      <td>1.472812e+09</td>\n",
       "    </tr>\n",
       "    <tr>\n",
       "      <th>1</th>\n",
       "      <td>Organic Search</td>\n",
       "      <td>20160902</td>\n",
       "      <td>Chrome</td>\n",
       "      <td>desktop</td>\n",
       "      <td>False</td>\n",
       "      <td>Windows</td>\n",
       "      <td>3696906537737368442</td>\n",
       "      <td>Buenos Aires</td>\n",
       "      <td>Americas</td>\n",
       "      <td>Argentina</td>\n",
       "      <td>...</td>\n",
       "      <td>NaN</td>\n",
       "      <td>(not set)</td>\n",
       "      <td>NaN</td>\n",
       "      <td>(not provided)</td>\n",
       "      <td>organic</td>\n",
       "      <td>NaN</td>\n",
       "      <td>google</td>\n",
       "      <td>1472856874</td>\n",
       "      <td>1.0</td>\n",
       "      <td>1.472857e+09</td>\n",
       "    </tr>\n",
       "    <tr>\n",
       "      <th>2</th>\n",
       "      <td>Organic Search</td>\n",
       "      <td>20160902</td>\n",
       "      <td>Chrome</td>\n",
       "      <td>desktop</td>\n",
       "      <td>False</td>\n",
       "      <td>Linux</td>\n",
       "      <td>5688512451361930466</td>\n",
       "      <td>Bengaluru</td>\n",
       "      <td>Asia</td>\n",
       "      <td>India</td>\n",
       "      <td>...</td>\n",
       "      <td>NaN</td>\n",
       "      <td>(not set)</td>\n",
       "      <td>NaN</td>\n",
       "      <td>(not provided)</td>\n",
       "      <td>organic</td>\n",
       "      <td>NaN</td>\n",
       "      <td>google</td>\n",
       "      <td>1472811524</td>\n",
       "      <td>1.0</td>\n",
       "      <td>1.472812e+09</td>\n",
       "    </tr>\n",
       "    <tr>\n",
       "      <th>3</th>\n",
       "      <td>Organic Search</td>\n",
       "      <td>20160902</td>\n",
       "      <td>Safari</td>\n",
       "      <td>mobile</td>\n",
       "      <td>True</td>\n",
       "      <td>iOS</td>\n",
       "      <td>9716453263501147451</td>\n",
       "      <td>New Delhi</td>\n",
       "      <td>Asia</td>\n",
       "      <td>India</td>\n",
       "      <td>...</td>\n",
       "      <td>NaN</td>\n",
       "      <td>(not set)</td>\n",
       "      <td>NaN</td>\n",
       "      <td>(not provided)</td>\n",
       "      <td>organic</td>\n",
       "      <td>NaN</td>\n",
       "      <td>google</td>\n",
       "      <td>1472823508</td>\n",
       "      <td>1.0</td>\n",
       "      <td>1.472824e+09</td>\n",
       "    </tr>\n",
       "    <tr>\n",
       "      <th>4</th>\n",
       "      <td>Organic Search</td>\n",
       "      <td>20160902</td>\n",
       "      <td>Chrome</td>\n",
       "      <td>desktop</td>\n",
       "      <td>False</td>\n",
       "      <td>Windows</td>\n",
       "      <td>5330453591145100432</td>\n",
       "      <td>Sao Paulo</td>\n",
       "      <td>Americas</td>\n",
       "      <td>Brazil</td>\n",
       "      <td>...</td>\n",
       "      <td>NaN</td>\n",
       "      <td>(not set)</td>\n",
       "      <td>NaN</td>\n",
       "      <td>(not provided)</td>\n",
       "      <td>organic</td>\n",
       "      <td>NaN</td>\n",
       "      <td>google</td>\n",
       "      <td>1472839619</td>\n",
       "      <td>1.0</td>\n",
       "      <td>1.472840e+09</td>\n",
       "    </tr>\n",
       "  </tbody>\n",
       "</table>\n",
       "<p>5 rows × 38 columns</p>\n",
       "</div>"
      ],
      "text/plain": [
       "  channelGrouping      date device.browser device.deviceCategory  \\\n",
       "0  Organic Search  20160902        Firefox               desktop   \n",
       "1  Organic Search  20160902         Chrome               desktop   \n",
       "2  Organic Search  20160902         Chrome               desktop   \n",
       "3  Organic Search  20160902         Safari                mobile   \n",
       "4  Organic Search  20160902         Chrome               desktop   \n",
       "\n",
       "   device.isMobile device.operatingSystem        fullVisitorId  \\\n",
       "0            False                Windows  9499785259412240342   \n",
       "1            False                Windows  3696906537737368442   \n",
       "2            False                  Linux  5688512451361930466   \n",
       "3             True                    iOS  9716453263501147451   \n",
       "4            False                Windows  5330453591145100432   \n",
       "\n",
       "                 geoNetwork.city geoNetwork.continent geoNetwork.country  \\\n",
       "0  not available in demo dataset               Europe        Netherlands   \n",
       "1                   Buenos Aires             Americas          Argentina   \n",
       "2                      Bengaluru                 Asia              India   \n",
       "3                      New Delhi                 Asia              India   \n",
       "4                      Sao Paulo             Americas             Brazil   \n",
       "\n",
       "        ...       trafficSource.adwordsClickInfo.slot trafficSource.campaign  \\\n",
       "0       ...                                       NaN              (not set)   \n",
       "1       ...                                       NaN              (not set)   \n",
       "2       ...                                       NaN              (not set)   \n",
       "3       ...                                       NaN              (not set)   \n",
       "4       ...                                       NaN              (not set)   \n",
       "\n",
       "  trafficSource.isTrueDirect trafficSource.keyword  trafficSource.medium  \\\n",
       "0                        NaN        (not provided)               organic   \n",
       "1                        NaN        (not provided)               organic   \n",
       "2                        NaN        (not provided)               organic   \n",
       "3                        NaN        (not provided)               organic   \n",
       "4                        NaN        (not provided)               organic   \n",
       "\n",
       "   trafficSource.referralPath  trafficSource.source     visitId  visitNumber  \\\n",
       "0                         NaN                google  1472812272          1.0   \n",
       "1                         NaN                google  1472856874          1.0   \n",
       "2                         NaN                google  1472811524          1.0   \n",
       "3                         NaN                google  1472823508          1.0   \n",
       "4                         NaN                google  1472839619          1.0   \n",
       "\n",
       "   visitStartTime  \n",
       "0    1.472812e+09  \n",
       "1    1.472857e+09  \n",
       "2    1.472812e+09  \n",
       "3    1.472824e+09  \n",
       "4    1.472840e+09  \n",
       "\n",
       "[5 rows x 38 columns]"
      ]
     },
     "execution_count": 59,
     "metadata": {},
     "output_type": "execute_result"
    }
   ],
   "source": [
    "df.head()"
   ]
  },
  {
   "cell_type": "code",
   "execution_count": 41,
   "metadata": {},
   "outputs": [
    {
     "data": {
      "image/png": "[encoded data removed]",
      "text/plain": [
       "<Figure size 576x432 with 1 Axes>"
      ]
     },
     "metadata": {},
     "output_type": "display_data"
    }
   ],
   "source": [
    "gdf = df.groupby(\"fullVisitorId\")[\"totals.transactionRevenue\"].sum().reset_index()\n",
    "\n",
    "plt.figure(figsize=(8,6))\n",
    "plt.scatter(range(gdf.shape[0]), np.sort(np.log1p(gdf[\"totals.transactionRevenue\"].values)))\n",
    "plt.xlabel('index', fontsize=12)\n",
    "plt.ylabel('TransactionRevenue', fontsize=12)\n",
    "plt.show()"
   ]
  },
  {
   "cell_type": "code",
   "execution_count": 42,
   "metadata": {},
   "outputs": [
    {
     "name": "stdout",
     "output_type": "stream",
     "text": [
      "Number of instances in train set with non-zero revenue :  18514  and ratio is :  0.010837440153786987\n",
      "Number of unique customers with non-zero revenue :  16549 and the ratio is :  0.012102769324829435\n"
     ]
    }
   ],
   "source": [
    "nzi = (df[\"totals.transactionRevenue\"]>0).sum()\n",
    "nzr = (gdf[\"totals.transactionRevenue\"]>0).sum()\n",
    "print(\"Number of instances in train set with non-zero revenue : \", nzi, \" and ratio is : \", nzi / df.shape[0])\n",
    "print(\"Number of unique customers with non-zero revenue : \", nzr, \"and the ratio is : \", nzr / gdf.shape[0])"
   ]
  },
  {
   "cell_type": "markdown",
   "metadata": {},
   "source": [
    "The dispersion of the 'visitNumber' per session is huge. Therefore, we can use Log and map the feature space to new lower space \n",
    "and visualization the data will be easier."
   ]
  },
  {
   "cell_type": "code",
   "execution_count": 43,
   "metadata": {},
   "outputs": [
    {
     "data": {
      "text/plain": [
       "(array([1.30743e+06, 2.53504e+05, 7.69020e+04, 3.49070e+04, 1.81220e+04,\n",
       "        8.36800e+03, 4.26100e+03, 2.85300e+03, 1.48400e+03, 5.06000e+02]),\n",
       " array([0.        , 0.61246834, 1.22493668, 1.83740502, 2.44987336,\n",
       "        3.0623417 , 3.67481003, 4.28727837, 4.89974671, 5.51221505,\n",
       "        6.12468339]),\n",
       " <a list of 10 Patch objects>)"
      ]
     },
     "execution_count": 43,
     "metadata": {},
     "output_type": "execute_result"
    },
    {
     "data": {
      "image/png": "[encoded data removed]",
      "text/plain": [
       "<Figure size 648x360 with 1 Axes>"
      ]
     },
     "metadata": {},
     "output_type": "display_data"
    }
   ],
   "source": [
    "fig,ax = plt.subplots(1,1,figsize=(9,5))\n",
    "ax.set_title(\"Histogram of log(visitNumbers) per session\")\n",
    "ax.set_ylabel(\"Repetition\")\n",
    "ax.set_xlabel(\"Log(visitNumber)\")\n",
    "ax.grid(color='m', linestyle='-', linewidth=0.1)\n",
    "ax.hist(np.log(df.visitNumber))"
   ]
  },
  {
   "cell_type": "code",
   "execution_count": 44,
   "metadata": {},
   "outputs": [
    {
     "data": {
      "text/html": [
       "<script type=\"text/javascript\">window.PlotlyConfig = {MathJaxConfig: 'local'};</script><script type=\"text/javascript\">if (window.MathJax) {MathJax.Hub.Config({SVG: {font: \"STIX-Web\"}});}</script><script>requirejs.config({paths: { 'plotly': ['https://cdn.plot.ly/plotly-latest.min']},});if(!window._Plotly) {require(['plotly'],function(plotly) {window._Plotly=plotly;});}</script>"
      ],
      "text/vnd.plotly.v1+html": [
       "<script type=\"text/javascript\">window.PlotlyConfig = {MathJaxConfig: 'local'};</script><script type=\"text/javascript\">if (window.MathJax) {MathJax.Hub.Config({SVG: {font: \"STIX-Web\"}});}</script><script>requirejs.config({paths: { 'plotly': ['https://cdn.plot.ly/plotly-latest.min']},});if(!window._Plotly) {require(['plotly'],function(plotly) {window._Plotly=plotly;});}</script>"
      ]
     },
     "metadata": {},
     "output_type": "display_data"
    },
    {
     "name": "stdout",
     "output_type": "stream",
     "text": [
      "This is the format of your plot grid:\n",
      "[ (1,1) x1,y1 ]  [ (1,2) x2,y2 ]\n",
      "[ (2,1) x3,y3 ]  [ (2,2) x4,y4 ]\n",
      "[ (3,1) x5,y5 ]  [ (3,2) x6,y6 ]\n",
      "\n"
     ]
    },
    {
     "data": {
      "application/vnd.plotly.v1+json": {
       "config": {
        "linkText": "Export to plot.ly",
        "plotlyServerURL": "https://plot.ly",
        "showLink": true
       },
       "data": [
        {
         "marker": {
          "color": "rgba(50, 171, 96, 0.6)"
         },
         "orientation": "h",
         "showlegend": false,
         "type": "bar",
         "uid": "5722d3bd-2ad4-457d-a27b-d005edaf8968",
         "x": [
          9585,
          14207,
          15018,
          15792,
          20543,
          34266,
          35474,
          63845,
          312165,
          1173056
         ],
         "xaxis": "x",
         "y": [
          "Opera",
          "Safari (in-app)",
          "Opera Mini",
          "Samsung Internet",
          "Edge",
          "Android Webview",
          "Internet Explorer",
          "Firefox",
          "Safari",
          "Chrome"
         ],
         "yaxis": "y"
        },
        {
         "marker": {
          "color": "rgba(50, 171, 96, 0.6)"
         },
         "orientation": "h",
         "showlegend": false,
         "type": "bar",
         "uid": "4042abaa-95d0-469c-9bfd-227306f04664",
         "x": [
          62052.16484089723,
          10823.537692686703,
          0,
          13984.929078014184,
          392703.1105486054,
          5431.331348858927,
          337090.8270846254,
          2353297.0475370036,
          245706.5654381497,
          1763057.347645807
         ],
         "xaxis": "x2",
         "y": [
          "Opera",
          "Safari (in-app)",
          "Opera Mini",
          "Samsung Internet",
          "Edge",
          "Android Webview",
          "Internet Explorer",
          "Firefox",
          "Safari",
          "Chrome"
         ],
         "yaxis": "y2"
        },
        {
         "marker": {
          "color": "rgba(23, 70, 136, 0.8)"
         },
         "orientation": "h",
         "showlegend": false,
         "type": "bar",
         "uid": "a9655bb3-92d9-41af-9bc2-5e68ce89cfcb",
         "x": [
          65422,
          471336,
          1171579
         ],
         "xaxis": "x3",
         "y": [
          "tablet",
          "mobile",
          "desktop"
         ],
         "yaxis": "y3"
        },
        {
         "marker": {
          "color": "rgba(23, 70, 136, 0.8)"
         },
         "orientation": "h",
         "showlegend": false,
         "type": "bar",
         "uid": "de03229a-b05a-4062-a9b8-2f5efe920974",
         "x": [
          197931.5826480389,
          157634.1718010082,
          1902643.560528142
         ],
         "xaxis": "x4",
         "y": [
          "tablet",
          "mobile",
          "desktop"
         ],
         "yaxis": "y4"
        },
        {
         "marker": {
          "color": "rgba(216, 178, 169, 0.6)"
         },
         "orientation": "h",
         "showlegend": false,
         "type": "bar",
         "uid": "8bffac36-1602-4334-8bd7-38958d1d4c9c",
         "x": [
          709,
          911,
          1675,
          11815,
          51318,
          63971,
          219334,
          299386,
          438514,
          619720
         ],
         "xaxis": "x5",
         "y": [
          "Tizen",
          "Samsung",
          "Windows Phone",
          "(not set)",
          "Chrome OS",
          "Linux",
          "iOS",
          "Android",
          "Macintosh",
          "Windows"
         ],
         "yaxis": "y5"
        },
        {
         "marker": {
          "color": "rgba(216, 178, 169, 0.6)"
         },
         "orientation": "h",
         "showlegend": false,
         "type": "bar",
         "uid": "139a30d2-50e0-4e4a-847a-215ee0b3c7c3",
         "x": [
          0,
          0,
          15761.194029850747,
          0,
          5254534.471335594,
          1098280.3145175157,
          163586.67602834033,
          167776.91675629455,
          2999290.92343688,
          927946.572645711
         ],
         "xaxis": "x6",
         "y": [
          "Tizen",
          "Samsung",
          "Windows Phone",
          "(not set)",
          "Chrome OS",
          "Linux",
          "iOS",
          "Android",
          "Macintosh",
          "Windows"
         ],
         "yaxis": "y6"
        }
       ],
       "layout": {
        "annotations": [
         {
          "font": {
           "size": 16
          },
          "showarrow": false,
          "text": "Device Browser - Count",
          "x": 0.225,
          "xanchor": "center",
          "xref": "paper",
          "y": 1,
          "yanchor": "bottom",
          "yref": "paper"
         },
         {
          "font": {
           "size": 16
          },
          "showarrow": false,
          "text": "Device Browser - Mean Revenue",
          "x": 0.775,
          "xanchor": "center",
          "xref": "paper",
          "y": 1,
          "yanchor": "bottom",
          "yref": "paper"
         },
         {
          "font": {
           "size": 16
          },
          "showarrow": false,
          "text": "Device Category - Count",
          "x": 0.225,
          "xanchor": "center",
          "xref": "paper",
          "y": 0.6533333333333333,
          "yanchor": "bottom",
          "yref": "paper"
         },
         {
          "font": {
           "size": 16
          },
          "showarrow": false,
          "text": "Device Category - Mean Revenue",
          "x": 0.775,
          "xanchor": "center",
          "xref": "paper",
          "y": 0.6533333333333333,
          "yanchor": "bottom",
          "yref": "paper"
         },
         {
          "font": {
           "size": 16
          },
          "showarrow": false,
          "text": "Device OS - Count",
          "x": 0.225,
          "xanchor": "center",
          "xref": "paper",
          "y": 0.3066666666666667,
          "yanchor": "bottom",
          "yref": "paper"
         },
         {
          "font": {
           "size": 16
          },
          "showarrow": false,
          "text": "Device OS - Mean Revenue",
          "x": 0.775,
          "xanchor": "center",
          "xref": "paper",
          "y": 0.3066666666666667,
          "yanchor": "bottom",
          "yref": "paper"
         }
        ],
        "height": 1200,
        "paper_bgcolor": "rgb(233,233,233)",
        "title": "Device Plots",
        "width": 1000,
        "xaxis": {
         "anchor": "y",
         "domain": [
          0,
          0.45
         ]
        },
        "xaxis2": {
         "anchor": "y2",
         "domain": [
          0.55,
          1
         ]
        },
        "xaxis3": {
         "anchor": "y3",
         "domain": [
          0,
          0.45
         ]
        },
        "xaxis4": {
         "anchor": "y4",
         "domain": [
          0.55,
          1
         ]
        },
        "xaxis5": {
         "anchor": "y5",
         "domain": [
          0,
          0.45
         ]
        },
        "xaxis6": {
         "anchor": "y6",
         "domain": [
          0.55,
          1
         ]
        },
        "yaxis": {
         "anchor": "x",
         "domain": [
          0.6933333333333334,
          1
         ]
        },
        "yaxis2": {
         "anchor": "x2",
         "domain": [
          0.6933333333333334,
          1
         ]
        },
        "yaxis3": {
         "anchor": "x3",
         "domain": [
          0.3466666666666667,
          0.6533333333333333
         ]
        },
        "yaxis4": {
         "anchor": "x4",
         "domain": [
          0.3466666666666667,
          0.6533333333333333
         ]
        },
        "yaxis5": {
         "anchor": "x5",
         "domain": [
          0,
          0.3066666666666667
         ]
        },
        "yaxis6": {
         "anchor": "x6",
         "domain": [
          0,
          0.3066666666666667
         ]
        }
       }
      },
      "text/html": [
       "<div id=\"c4a219c4-f820-4fa5-89cb-3360de96cb8f\" style=\"height: 1200px; width: 1000px;\" class=\"plotly-graph-div\"></div><script type=\"text/javascript\">require([\"plotly\"], function(Plotly) { window.PLOTLYENV=window.PLOTLYENV || {};window.PLOTLYENV.BASE_URL=\"https://plot.ly\";Plotly.newPlot(\"c4a219c4-f820-4fa5-89cb-3360de96cb8f\", [{\"marker\": {\"color\": \"rgba(50, 171, 96, 0.6)\"}, \"orientation\": \"h\", \"showlegend\": false, \"x\": [9585, 14207, 15018, 15792, 20543, 34266, 35474, 63845, 312165, 1173056], \"y\": [\"Opera\", \"Safari (in-app)\", \"Opera Mini\", \"Samsung Internet\", \"Edge\", \"Android Webview\", \"Internet Explorer\", \"Firefox\", \"Safari\", \"Chrome\"], \"type\": \"bar\", \"uid\": \"5722d3bd-2ad4-457d-a27b-d005edaf8968\", \"xaxis\": \"x\", \"yaxis\": \"y\"}, {\"marker\": {\"color\": \"rgba(50, 171, 96, 0.6)\"}, \"orientation\": \"h\", \"showlegend\": false, \"x\": [62052.16484089723, 10823.537692686703, 0.0, 13984.929078014184, 392703.1105486054, 5431.331348858927, 337090.8270846254, 2353297.0475370036, 245706.5654381497, 1763057.347645807], \"y\": [\"Opera\", \"Safari (in-app)\", \"Opera Mini\", \"Samsung Internet\", \"Edge\", \"Android Webview\", \"Internet Explorer\", \"Firefox\", \"Safari\", \"Chrome\"], \"type\": \"bar\", \"uid\": \"4042abaa-95d0-469c-9bfd-227306f04664\", \"xaxis\": \"x2\", \"yaxis\": \"y2\"}, {\"marker\": {\"color\": \"rgba(23, 70, 136, 0.8)\"}, \"orientation\": \"h\", \"showlegend\": false, \"x\": [65422, 471336, 1171579], \"y\": [\"tablet\", \"mobile\", \"desktop\"], \"type\": \"bar\", \"uid\": \"a9655bb3-92d9-41af-9bc2-5e68ce89cfcb\", \"xaxis\": \"x3\", \"yaxis\": \"y3\"}, {\"marker\": {\"color\": \"rgba(23, 70, 136, 0.8)\"}, \"orientation\": \"h\", \"showlegend\": false, \"x\": [197931.5826480389, 157634.1718010082, 1902643.560528142], \"y\": [\"tablet\", \"mobile\", \"desktop\"], \"type\": \"bar\", \"uid\": \"de03229a-b05a-4062-a9b8-2f5efe920974\", \"xaxis\": \"x4\", \"yaxis\": \"y4\"}, {\"marker\": {\"color\": \"rgba(216, 178, 169, 0.6)\"}, \"orientation\": \"h\", \"showlegend\": false, \"x\": [709, 911, 1675, 11815, 51318, 63971, 219334, 299386, 438514, 619720], \"y\": [\"Tizen\", \"Samsung\", \"Windows Phone\", \"(not set)\", \"Chrome OS\", \"Linux\", \"iOS\", \"Android\", \"Macintosh\", \"Windows\"], \"type\": \"bar\", \"uid\": \"8bffac36-1602-4334-8bd7-38958d1d4c9c\", \"xaxis\": \"x5\", \"yaxis\": \"y5\"}, {\"marker\": {\"color\": \"rgba(216, 178, 169, 0.6)\"}, \"orientation\": \"h\", \"showlegend\": false, \"x\": [0.0, 0.0, 15761.194029850747, 0.0, 5254534.471335594, 1098280.3145175157, 163586.67602834033, 167776.91675629455, 2999290.92343688, 927946.572645711], \"y\": [\"Tizen\", \"Samsung\", \"Windows Phone\", \"(not set)\", \"Chrome OS\", \"Linux\", \"iOS\", \"Android\", \"Macintosh\", \"Windows\"], \"type\": \"bar\", \"uid\": \"139a30d2-50e0-4e4a-847a-215ee0b3c7c3\", \"xaxis\": \"x6\", \"yaxis\": \"y6\"}], {\"annotations\": [{\"font\": {\"size\": 16}, \"showarrow\": false, \"text\": \"Device Browser - Count\", \"x\": 0.225, \"xanchor\": \"center\", \"xref\": \"paper\", \"y\": 1.0, \"yanchor\": \"bottom\", \"yref\": \"paper\"}, {\"font\": {\"size\": 16}, \"showarrow\": false, \"text\": \"Device Browser - Mean Revenue\", \"x\": 0.775, \"xanchor\": \"center\", \"xref\": \"paper\", \"y\": 1.0, \"yanchor\": \"bottom\", \"yref\": \"paper\"}, {\"font\": {\"size\": 16}, \"showarrow\": false, \"text\": \"Device Category - Count\", \"x\": 0.225, \"xanchor\": \"center\", \"xref\": \"paper\", \"y\": 0.6533333333333333, \"yanchor\": \"bottom\", \"yref\": \"paper\"}, {\"font\": {\"size\": 16}, \"showarrow\": false, \"text\": \"Device Category - Mean Revenue\", \"x\": 0.775, \"xanchor\": \"center\", \"xref\": \"paper\", \"y\": 0.6533333333333333, \"yanchor\": \"bottom\", \"yref\": \"paper\"}, {\"font\": {\"size\": 16}, \"showarrow\": false, \"text\": \"Device OS - Count\", \"x\": 0.225, \"xanchor\": \"center\", \"xref\": \"paper\", \"y\": 0.3066666666666667, \"yanchor\": \"bottom\", \"yref\": \"paper\"}, {\"font\": {\"size\": 16}, \"showarrow\": false, \"text\": \"Device OS - Mean Revenue\", \"x\": 0.775, \"xanchor\": \"center\", \"xref\": \"paper\", \"y\": 0.3066666666666667, \"yanchor\": \"bottom\", \"yref\": \"paper\"}], \"xaxis\": {\"anchor\": \"y\", \"domain\": [0.0, 0.45]}, \"yaxis\": {\"anchor\": \"x\", \"domain\": [0.6933333333333334, 1.0]}, \"xaxis2\": {\"anchor\": \"y2\", \"domain\": [0.55, 1.0]}, \"yaxis2\": {\"anchor\": \"x2\", \"domain\": [0.6933333333333334, 1.0]}, \"xaxis3\": {\"anchor\": \"y3\", \"domain\": [0.0, 0.45]}, \"yaxis3\": {\"anchor\": \"x3\", \"domain\": [0.3466666666666667, 0.6533333333333333]}, \"xaxis4\": {\"anchor\": \"y4\", \"domain\": [0.55, 1.0]}, \"yaxis4\": {\"anchor\": \"x4\", \"domain\": [0.3466666666666667, 0.6533333333333333]}, \"xaxis5\": {\"anchor\": \"y5\", \"domain\": [0.0, 0.45]}, \"yaxis5\": {\"anchor\": \"x5\", \"domain\": [0.0, 0.3066666666666667]}, \"xaxis6\": {\"anchor\": \"y6\", \"domain\": [0.55, 1.0]}, \"yaxis6\": {\"anchor\": \"x6\", \"domain\": [0.0, 0.3066666666666667]}, \"height\": 1200, \"width\": 1000, \"paper_bgcolor\": \"rgb(233,233,233)\", \"title\": \"Device Plots\"}, {\"showLink\": true, \"linkText\": \"Export to plot.ly\", \"plotlyServerURL\": \"https://plot.ly\"})});</script>"
      ],
      "text/vnd.plotly.v1+html": [
       "<div id=\"c4a219c4-f820-4fa5-89cb-3360de96cb8f\" style=\"height: 1200px; width: 1000px;\" class=\"plotly-graph-div\"></div><script type=\"text/javascript\">require([\"plotly\"], function(Plotly) { window.PLOTLYENV=window.PLOTLYENV || {};window.PLOTLYENV.BASE_URL=\"https://plot.ly\";Plotly.newPlot(\"c4a219c4-f820-4fa5-89cb-3360de96cb8f\", [{\"marker\": {\"color\": \"rgba(50, 171, 96, 0.6)\"}, \"orientation\": \"h\", \"showlegend\": false, \"x\": [9585, 14207, 15018, 15792, 20543, 34266, 35474, 63845, 312165, 1173056], \"y\": [\"Opera\", \"Safari (in-app)\", \"Opera Mini\", \"Samsung Internet\", \"Edge\", \"Android Webview\", \"Internet Explorer\", \"Firefox\", \"Safari\", \"Chrome\"], \"type\": \"bar\", \"uid\": \"5722d3bd-2ad4-457d-a27b-d005edaf8968\", \"xaxis\": \"x\", \"yaxis\": \"y\"}, {\"marker\": {\"color\": \"rgba(50, 171, 96, 0.6)\"}, \"orientation\": \"h\", \"showlegend\": false, \"x\": [62052.16484089723, 10823.537692686703, 0.0, 13984.929078014184, 392703.1105486054, 5431.331348858927, 337090.8270846254, 2353297.0475370036, 245706.5654381497, 1763057.347645807], \"y\": [\"Opera\", \"Safari (in-app)\", \"Opera Mini\", \"Samsung Internet\", \"Edge\", \"Android Webview\", \"Internet Explorer\", \"Firefox\", \"Safari\", \"Chrome\"], \"type\": \"bar\", \"uid\": \"4042abaa-95d0-469c-9bfd-227306f04664\", \"xaxis\": \"x2\", \"yaxis\": \"y2\"}, {\"marker\": {\"color\": \"rgba(23, 70, 136, 0.8)\"}, \"orientation\": \"h\", \"showlegend\": false, \"x\": [65422, 471336, 1171579], \"y\": [\"tablet\", \"mobile\", \"desktop\"], \"type\": \"bar\", \"uid\": \"a9655bb3-92d9-41af-9bc2-5e68ce89cfcb\", \"xaxis\": \"x3\", \"yaxis\": \"y3\"}, {\"marker\": {\"color\": \"rgba(23, 70, 136, 0.8)\"}, \"orientation\": \"h\", \"showlegend\": false, \"x\": [197931.5826480389, 157634.1718010082, 1902643.560528142], \"y\": [\"tablet\", \"mobile\", \"desktop\"], \"type\": \"bar\", \"uid\": \"de03229a-b05a-4062-a9b8-2f5efe920974\", \"xaxis\": \"x4\", \"yaxis\": \"y4\"}, {\"marker\": {\"color\": \"rgba(216, 178, 169, 0.6)\"}, \"orientation\": \"h\", \"showlegend\": false, \"x\": [709, 911, 1675, 11815, 51318, 63971, 219334, 299386, 438514, 619720], \"y\": [\"Tizen\", \"Samsung\", \"Windows Phone\", \"(not set)\", \"Chrome OS\", \"Linux\", \"iOS\", \"Android\", \"Macintosh\", \"Windows\"], \"type\": \"bar\", \"uid\": \"8bffac36-1602-4334-8bd7-38958d1d4c9c\", \"xaxis\": \"x5\", \"yaxis\": \"y5\"}, {\"marker\": {\"color\": \"rgba(216, 178, 169, 0.6)\"}, \"orientation\": \"h\", \"showlegend\": false, \"x\": [0.0, 0.0, 15761.194029850747, 0.0, 5254534.471335594, 1098280.3145175157, 163586.67602834033, 167776.91675629455, 2999290.92343688, 927946.572645711], \"y\": [\"Tizen\", \"Samsung\", \"Windows Phone\", \"(not set)\", \"Chrome OS\", \"Linux\", \"iOS\", \"Android\", \"Macintosh\", \"Windows\"], \"type\": \"bar\", \"uid\": \"139a30d2-50e0-4e4a-847a-215ee0b3c7c3\", \"xaxis\": \"x6\", \"yaxis\": \"y6\"}], {\"annotations\": [{\"font\": {\"size\": 16}, \"showarrow\": false, \"text\": \"Device Browser - Count\", \"x\": 0.225, \"xanchor\": \"center\", \"xref\": \"paper\", \"y\": 1.0, \"yanchor\": \"bottom\", \"yref\": \"paper\"}, {\"font\": {\"size\": 16}, \"showarrow\": false, \"text\": \"Device Browser - Mean Revenue\", \"x\": 0.775, \"xanchor\": \"center\", \"xref\": \"paper\", \"y\": 1.0, \"yanchor\": \"bottom\", \"yref\": \"paper\"}, {\"font\": {\"size\": 16}, \"showarrow\": false, \"text\": \"Device Category - Count\", \"x\": 0.225, \"xanchor\": \"center\", \"xref\": \"paper\", \"y\": 0.6533333333333333, \"yanchor\": \"bottom\", \"yref\": \"paper\"}, {\"font\": {\"size\": 16}, \"showarrow\": false, \"text\": \"Device Category - Mean Revenue\", \"x\": 0.775, \"xanchor\": \"center\", \"xref\": \"paper\", \"y\": 0.6533333333333333, \"yanchor\": \"bottom\", \"yref\": \"paper\"}, {\"font\": {\"size\": 16}, \"showarrow\": false, \"text\": \"Device OS - Count\", \"x\": 0.225, \"xanchor\": \"center\", \"xref\": \"paper\", \"y\": 0.3066666666666667, \"yanchor\": \"bottom\", \"yref\": \"paper\"}, {\"font\": {\"size\": 16}, \"showarrow\": false, \"text\": \"Device OS - Mean Revenue\", \"x\": 0.775, \"xanchor\": \"center\", \"xref\": \"paper\", \"y\": 0.3066666666666667, \"yanchor\": \"bottom\", \"yref\": \"paper\"}], \"xaxis\": {\"anchor\": \"y\", \"domain\": [0.0, 0.45]}, \"yaxis\": {\"anchor\": \"x\", \"domain\": [0.6933333333333334, 1.0]}, \"xaxis2\": {\"anchor\": \"y2\", \"domain\": [0.55, 1.0]}, \"yaxis2\": {\"anchor\": \"x2\", \"domain\": [0.6933333333333334, 1.0]}, \"xaxis3\": {\"anchor\": \"y3\", \"domain\": [0.0, 0.45]}, \"yaxis3\": {\"anchor\": \"x3\", \"domain\": [0.3466666666666667, 0.6533333333333333]}, \"xaxis4\": {\"anchor\": \"y4\", \"domain\": [0.55, 1.0]}, \"yaxis4\": {\"anchor\": \"x4\", \"domain\": [0.3466666666666667, 0.6533333333333333]}, \"xaxis5\": {\"anchor\": \"y5\", \"domain\": [0.0, 0.45]}, \"yaxis5\": {\"anchor\": \"x5\", \"domain\": [0.0, 0.3066666666666667]}, \"xaxis6\": {\"anchor\": \"y6\", \"domain\": [0.55, 1.0]}, \"yaxis6\": {\"anchor\": \"x6\", \"domain\": [0.0, 0.3066666666666667]}, \"height\": 1200, \"width\": 1000, \"paper_bgcolor\": \"rgb(233,233,233)\", \"title\": \"Device Plots\"}, {\"showLink\": true, \"linkText\": \"Export to plot.ly\", \"plotlyServerURL\": \"https://plot.ly\"})});</script>"
      ]
     },
     "metadata": {},
     "output_type": "display_data"
    }
   ],
   "source": [
    "import datetime\n",
    "import plotly.offline as py\n",
    "import plotly.graph_objs as go\n",
    "from plotly import tools\n",
    "from plotly.offline import plot, iplot, init_notebook_mode\n",
    "init_notebook_mode(connected=True)\n",
    "def horizontal_bar_chart(cnt_srs, color):\n",
    "    trace = go.Bar(\n",
    "        y=cnt_srs.index[::-1],\n",
    "        x=cnt_srs.values[::-1],\n",
    "        showlegend=False,\n",
    "        orientation = 'h',\n",
    "        marker=dict(\n",
    "            color=color,\n",
    "        ),\n",
    "    )\n",
    "    return trace\n",
    "\n",
    "# Device Browser\n",
    "cnt_srs = df.groupby('device.browser')['totals.transactionRevenue'].agg(['size', 'mean'])\n",
    "cnt_srs.columns = [\"count\", \"mean\"]\n",
    "cnt_srs = cnt_srs.sort_values(by=\"count\", ascending=False)\n",
    "trace1 = horizontal_bar_chart(cnt_srs[\"count\"].head(10), 'rgba(50, 171, 96, 0.6)')\n",
    "trace2 = horizontal_bar_chart(cnt_srs[\"mean\"].head(10), 'rgba(50, 171, 96, 0.6)')\n",
    "\n",
    "# Device Category\n",
    "cnt_srs = df.groupby('device.deviceCategory')['totals.transactionRevenue'].agg(['size', 'mean'])\n",
    "cnt_srs.columns = [\"count\", \"mean\"]\n",
    "cnt_srs = cnt_srs.sort_values(by=\"count\", ascending=False)\n",
    "trace3 = horizontal_bar_chart(cnt_srs[\"count\"].head(10), 'rgba(23, 70, 136, 0.8)')\n",
    "trace4 = horizontal_bar_chart(cnt_srs[\"mean\"].head(10), 'rgba(23, 70, 136, 0.8)')\n",
    "\n",
    "# Operating system\n",
    "cnt_srs = df.groupby('device.operatingSystem')['totals.transactionRevenue'].agg(['size', 'mean'])\n",
    "cnt_srs.columns = [\"count\", \"mean\"]\n",
    "cnt_srs = cnt_srs.sort_values(by=\"count\", ascending=False)\n",
    "trace5 = horizontal_bar_chart(cnt_srs[\"count\"].head(10), 'rgba(216, 178, 169, 0.6)')\n",
    "trace6 = horizontal_bar_chart(cnt_srs[\"mean\"].head(10),'rgba(216, 178, 169, 0.6)')\n",
    "\n",
    "# Creating two subplots\n",
    "fig = tools.make_subplots(rows=3, cols=2, vertical_spacing=0.04, \n",
    "                          subplot_titles=[\"Device Browser - Count\", \"Device Browser - Mean Revenue\",\n",
    "                                          \"Device Category - Count\", \"Device Category - Mean Revenue\", \n",
    "                                          \"Device OS - Count\", \"Device OS - Mean Revenue\"])\n",
    "\n",
    "fig.append_trace(trace1, 1, 1)\n",
    "fig.append_trace(trace2, 1, 2)\n",
    "fig.append_trace(trace3, 2, 1)\n",
    "fig.append_trace(trace4, 2, 2)\n",
    "fig.append_trace(trace5, 3, 1)\n",
    "fig.append_trace(trace6, 3, 2)\n",
    "\n",
    "fig['layout'].update(height=1200, width=1000, paper_bgcolor='rgb(233,233,233)', title=\"Device Plots\")\n",
    "py.iplot(fig, filename='device-plots')"
   ]
  },
  {
   "cell_type": "code",
   "execution_count": 48,
   "metadata": {},
   "outputs": [
    {
     "name": "stdout",
     "output_type": "stream",
     "text": [
      "This is the format of your plot grid:\n",
      "[ (1,1) x1,y1 ]  [ (1,2) x2,y2 ]  [ (1,3) x3,y3 ]\n",
      "[ (2,1) x4,y4 ]  [ (2,2) x5,y5 ]  [ (2,3) x6,y6 ]\n",
      "\n"
     ]
    },
    {
     "data": {
      "application/vnd.plotly.v1+json": {
       "config": {
        "linkText": "Export to plot.ly",
        "plotlyServerURL": "https://plot.ly",
        "showLink": true
       },
       "data": [
        {
         "marker": {
          "color": "rgba(38, 171, 82, 0.6)"
         },
         "orientation": "h",
         "showlegend": false,
         "type": "bar",
         "uid": "18bc8c47-c791-4b0c-9b24-221eafda88b6",
         "x": [
          2517,
          28180,
          35481,
          368037,
          396719,
          877403
         ],
         "xaxis": "x",
         "y": [
          "(not set)",
          "Oceania",
          "Africa",
          "Europe",
          "Asia",
          "Americas"
         ],
         "yaxis": "y"
        },
        {
         "marker": {
          "color": "rgba(38, 171, 82, 0.6)"
         },
         "orientation": "h",
         "showlegend": false,
         "type": "bar",
         "uid": "251958bf-de62-4a05-8693-941548b45a82",
         "x": [
          2517,
          28180,
          35481,
          368037,
          396719,
          877403
         ],
         "xaxis": "x2",
         "y": [
          "(not set)",
          "Oceania",
          "Africa",
          "Europe",
          "Asia",
          "Americas"
         ],
         "yaxis": "y2"
        },
        {
         "marker": {
          "color": "rgba(38, 171, 82, 0.6)"
         },
         "orientation": "h",
         "showlegend": false,
         "type": "bar",
         "uid": "005d2684-cb12-47aa-8a69-c24bc85e176a",
         "x": [
          315939.61064759636,
          240635.20227111428,
          254389.3915053127,
          30560.650152022758,
          58978.06759948478,
          2581593.0649883803
         ],
         "xaxis": "x3",
         "y": [
          "(not set)",
          "Oceania",
          "Africa",
          "Europe",
          "Asia",
          "Americas"
         ],
         "yaxis": "y3"
        },
        {
         "marker": {
          "color": "rgba(126, 101, 22, 0.6)"
         },
         "orientation": "h",
         "showlegend": false,
         "type": "bar",
         "uid": "a35cda1f-723f-4316-9d84-5d076933fa8f",
         "x": [
          52,
          128,
          133,
          927,
          1985,
          2517,
          4194,
          4382,
          6019,
          7086,
          17255,
          27867,
          29564,
          60966,
          67184,
          74007,
          75112,
          91072,
          111693,
          115153,
          121062,
          121634,
          768345
         ],
         "xaxis": "x4",
         "y": [
          "Polynesia",
          "Micronesian Region",
          "Melanesia",
          "Middle Africa",
          "Central Asia",
          "(not set)",
          "Eastern Africa",
          "Caribbean",
          "Southern Africa",
          "Western Africa",
          "Northern Africa",
          "Australasia",
          "Central America",
          "Western Asia",
          "Southern Europe",
          "Eastern Europe",
          "South America",
          "Eastern Asia",
          "Northern Europe",
          "Western Europe",
          "Southern Asia",
          "Southeast Asia",
          "Northern America"
         ],
         "yaxis": "y4"
        },
        {
         "marker": {
          "color": "rgba(126, 101, 22, 0.6)"
         },
         "orientation": "h",
         "showlegend": false,
         "type": "bar",
         "uid": "f84dfff2-e096-4bc3-96b7-9bb618abc567",
         "x": [
          52,
          128,
          133,
          927,
          1985,
          2517,
          4194,
          4382,
          6019,
          7086,
          17255,
          27867,
          29564,
          60966,
          67184,
          74007,
          75112,
          91072,
          111693,
          115153,
          121062,
          121634,
          768345
         ],
         "xaxis": "x5",
         "y": [
          "Polynesia",
          "Micronesian Region",
          "Melanesia",
          "Middle Africa",
          "Central Asia",
          "(not set)",
          "Eastern Africa",
          "Caribbean",
          "Southern Africa",
          "Western Africa",
          "Northern Africa",
          "Australasia",
          "Central America",
          "Western Asia",
          "Southern Europe",
          "Eastern Europe",
          "South America",
          "Eastern Asia",
          "Northern Europe",
          "Western Europe",
          "Southern Asia",
          "Southeast Asia",
          "Northern America"
         ],
         "yaxis": "y5"
        },
        {
         "marker": {
          "color": "rgba(126, 101, 22, 0.6)"
         },
         "orientation": "h",
         "showlegend": false,
         "type": "bar",
         "uid": "effbf9f8-2946-4595-91dc-2bd4aaf8be8b",
         "x": [
          0,
          0,
          0,
          0,
          17622.166246851386,
          315939.61064759636,
          1256247.0195517405,
          413149.24691921496,
          51829.20750955308,
          466045.7239627434,
          8283.396117067517,
          243337.99834930204,
          140332.16073603032,
          31209.526621395533,
          25394.736842105263,
          14934.127852770684,
          247016.18915752476,
          153682.5808151792,
          37389.54097391958,
          36993.82560593298,
          11931.572252234393,
          49487.64325764178,
          2916117.6554802856
         ],
         "xaxis": "x6",
         "y": [
          "Polynesia",
          "Micronesian Region",
          "Melanesia",
          "Middle Africa",
          "Central Asia",
          "(not set)",
          "Eastern Africa",
          "Caribbean",
          "Southern Africa",
          "Western Africa",
          "Northern Africa",
          "Australasia",
          "Central America",
          "Western Asia",
          "Southern Europe",
          "Eastern Europe",
          "South America",
          "Eastern Asia",
          "Northern Europe",
          "Western Europe",
          "Southern Asia",
          "Southeast Asia",
          "Northern America"
         ],
         "yaxis": "y6"
        }
       ],
       "layout": {
        "annotations": [
         {
          "font": {
           "size": 16
          },
          "showarrow": false,
          "text": "Continent - Count",
          "x": 0.11666666666666665,
          "xanchor": "center",
          "xref": "paper",
          "y": 1,
          "yanchor": "bottom",
          "yref": "paper"
         },
         {
          "font": {
           "size": 16
          },
          "showarrow": false,
          "text": "Continent - Non-zero Revenue Count",
          "x": 0.49999999999999994,
          "xanchor": "center",
          "xref": "paper",
          "y": 1,
          "yanchor": "bottom",
          "yref": "paper"
         },
         {
          "font": {
           "size": 16
          },
          "showarrow": false,
          "text": "Continent - Mean Revenue",
          "x": 0.8833333333333333,
          "xanchor": "center",
          "xref": "paper",
          "y": 1,
          "yanchor": "bottom",
          "yref": "paper"
         },
         {
          "font": {
           "size": 16
          },
          "showarrow": false,
          "text": "Sub Continent - Count",
          "x": 0.11666666666666665,
          "xanchor": "center",
          "xref": "paper",
          "y": 0.46,
          "yanchor": "bottom",
          "yref": "paper"
         },
         {
          "font": {
           "size": 16
          },
          "showarrow": false,
          "text": "Sub Continent - Non-zero Revenue Count",
          "x": 0.49999999999999994,
          "xanchor": "center",
          "xref": "paper",
          "y": 0.46,
          "yanchor": "bottom",
          "yref": "paper"
         },
         {
          "font": {
           "size": 16
          },
          "showarrow": false,
          "text": "Sub Continent - Mean Revenue",
          "x": 0.8833333333333333,
          "xanchor": "center",
          "xref": "paper",
          "y": 0.46,
          "yanchor": "bottom",
          "yref": "paper"
         }
        ],
        "height": 1000,
        "paper_bgcolor": "rgb(233,233,233)",
        "title": "Geography Plots",
        "width": 1000,
        "xaxis": {
         "anchor": "y",
         "domain": [
          0,
          0.2333333333333333
         ]
        },
        "xaxis2": {
         "anchor": "y2",
         "domain": [
          0.3833333333333333,
          0.6166666666666666
         ]
        },
        "xaxis3": {
         "anchor": "y3",
         "domain": [
          0.7666666666666666,
          0.9999999999999999
         ]
        },
        "xaxis4": {
         "anchor": "y4",
         "domain": [
          0,
          0.2333333333333333
         ]
        },
        "xaxis5": {
         "anchor": "y5",
         "domain": [
          0.3833333333333333,
          0.6166666666666666
         ]
        },
        "xaxis6": {
         "anchor": "y6",
         "domain": [
          0.7666666666666666,
          0.9999999999999999
         ]
        },
        "yaxis": {
         "anchor": "x",
         "domain": [
          0.54,
          1
         ]
        },
        "yaxis2": {
         "anchor": "x2",
         "domain": [
          0.54,
          1
         ]
        },
        "yaxis3": {
         "anchor": "x3",
         "domain": [
          0.54,
          1
         ]
        },
        "yaxis4": {
         "anchor": "x4",
         "domain": [
          0,
          0.46
         ]
        },
        "yaxis5": {
         "anchor": "x5",
         "domain": [
          0,
          0.46
         ]
        },
        "yaxis6": {
         "anchor": "x6",
         "domain": [
          0,
          0.46
         ]
        }
       }
      },
      "text/html": [
       "<div id=\"c84e51c7-0467-4227-a297-9522b944cee9\" style=\"height: 1000px; width: 1000px;\" class=\"plotly-graph-div\"></div><script type=\"text/javascript\">require([\"plotly\"], function(Plotly) { window.PLOTLYENV=window.PLOTLYENV || {};window.PLOTLYENV.BASE_URL=\"https://plot.ly\";Plotly.newPlot(\"c84e51c7-0467-4227-a297-9522b944cee9\", [{\"marker\": {\"color\": \"rgba(38, 171, 82, 0.6)\"}, \"orientation\": \"h\", \"showlegend\": false, \"x\": [2517, 28180, 35481, 368037, 396719, 877403], \"y\": [\"(not set)\", \"Oceania\", \"Africa\", \"Europe\", \"Asia\", \"Americas\"], \"type\": \"bar\", \"uid\": \"18bc8c47-c791-4b0c-9b24-221eafda88b6\", \"xaxis\": \"x\", \"yaxis\": \"y\"}, {\"marker\": {\"color\": \"rgba(38, 171, 82, 0.6)\"}, \"orientation\": \"h\", \"showlegend\": false, \"x\": [2517, 28180, 35481, 368037, 396719, 877403], \"y\": [\"(not set)\", \"Oceania\", \"Africa\", \"Europe\", \"Asia\", \"Americas\"], \"type\": \"bar\", \"uid\": \"251958bf-de62-4a05-8693-941548b45a82\", \"xaxis\": \"x2\", \"yaxis\": \"y2\"}, {\"marker\": {\"color\": \"rgba(38, 171, 82, 0.6)\"}, \"orientation\": \"h\", \"showlegend\": false, \"x\": [315939.61064759636, 240635.20227111428, 254389.3915053127, 30560.650152022758, 58978.06759948478, 2581593.0649883803], \"y\": [\"(not set)\", \"Oceania\", \"Africa\", \"Europe\", \"Asia\", \"Americas\"], \"type\": \"bar\", \"uid\": \"005d2684-cb12-47aa-8a69-c24bc85e176a\", \"xaxis\": \"x3\", \"yaxis\": \"y3\"}, {\"marker\": {\"color\": \"rgba(126, 101, 22, 0.6)\"}, \"orientation\": \"h\", \"showlegend\": false, \"x\": [52, 128, 133, 927, 1985, 2517, 4194, 4382, 6019, 7086, 17255, 27867, 29564, 60966, 67184, 74007, 75112, 91072, 111693, 115153, 121062, 121634, 768345], \"y\": [\"Polynesia\", \"Micronesian Region\", \"Melanesia\", \"Middle Africa\", \"Central Asia\", \"(not set)\", \"Eastern Africa\", \"Caribbean\", \"Southern Africa\", \"Western Africa\", \"Northern Africa\", \"Australasia\", \"Central America\", \"Western Asia\", \"Southern Europe\", \"Eastern Europe\", \"South America\", \"Eastern Asia\", \"Northern Europe\", \"Western Europe\", \"Southern Asia\", \"Southeast Asia\", \"Northern America\"], \"type\": \"bar\", \"uid\": \"a35cda1f-723f-4316-9d84-5d076933fa8f\", \"xaxis\": \"x4\", \"yaxis\": \"y4\"}, {\"marker\": {\"color\": \"rgba(126, 101, 22, 0.6)\"}, \"orientation\": \"h\", \"showlegend\": false, \"x\": [52, 128, 133, 927, 1985, 2517, 4194, 4382, 6019, 7086, 17255, 27867, 29564, 60966, 67184, 74007, 75112, 91072, 111693, 115153, 121062, 121634, 768345], \"y\": [\"Polynesia\", \"Micronesian Region\", \"Melanesia\", \"Middle Africa\", \"Central Asia\", \"(not set)\", \"Eastern Africa\", \"Caribbean\", \"Southern Africa\", \"Western Africa\", \"Northern Africa\", \"Australasia\", \"Central America\", \"Western Asia\", \"Southern Europe\", \"Eastern Europe\", \"South America\", \"Eastern Asia\", \"Northern Europe\", \"Western Europe\", \"Southern Asia\", \"Southeast Asia\", \"Northern America\"], \"type\": \"bar\", \"uid\": \"f84dfff2-e096-4bc3-96b7-9bb618abc567\", \"xaxis\": \"x5\", \"yaxis\": \"y5\"}, {\"marker\": {\"color\": \"rgba(126, 101, 22, 0.6)\"}, \"orientation\": \"h\", \"showlegend\": false, \"x\": [0.0, 0.0, 0.0, 0.0, 17622.166246851386, 315939.61064759636, 1256247.0195517405, 413149.24691921496, 51829.20750955308, 466045.7239627434, 8283.396117067517, 243337.99834930204, 140332.16073603032, 31209.526621395533, 25394.736842105263, 14934.127852770684, 247016.18915752476, 153682.5808151792, 37389.54097391958, 36993.82560593298, 11931.572252234393, 49487.64325764178, 2916117.6554802856], \"y\": [\"Polynesia\", \"Micronesian Region\", \"Melanesia\", \"Middle Africa\", \"Central Asia\", \"(not set)\", \"Eastern Africa\", \"Caribbean\", \"Southern Africa\", \"Western Africa\", \"Northern Africa\", \"Australasia\", \"Central America\", \"Western Asia\", \"Southern Europe\", \"Eastern Europe\", \"South America\", \"Eastern Asia\", \"Northern Europe\", \"Western Europe\", \"Southern Asia\", \"Southeast Asia\", \"Northern America\"], \"type\": \"bar\", \"uid\": \"effbf9f8-2946-4595-91dc-2bd4aaf8be8b\", \"xaxis\": \"x6\", \"yaxis\": \"y6\"}], {\"annotations\": [{\"font\": {\"size\": 16}, \"showarrow\": false, \"text\": \"Continent - Count\", \"x\": 0.11666666666666665, \"xanchor\": \"center\", \"xref\": \"paper\", \"y\": 1.0, \"yanchor\": \"bottom\", \"yref\": \"paper\"}, {\"font\": {\"size\": 16}, \"showarrow\": false, \"text\": \"Continent - Non-zero Revenue Count\", \"x\": 0.49999999999999994, \"xanchor\": \"center\", \"xref\": \"paper\", \"y\": 1.0, \"yanchor\": \"bottom\", \"yref\": \"paper\"}, {\"font\": {\"size\": 16}, \"showarrow\": false, \"text\": \"Continent - Mean Revenue\", \"x\": 0.8833333333333333, \"xanchor\": \"center\", \"xref\": \"paper\", \"y\": 1.0, \"yanchor\": \"bottom\", \"yref\": \"paper\"}, {\"font\": {\"size\": 16}, \"showarrow\": false, \"text\": \"Sub Continent - Count\", \"x\": 0.11666666666666665, \"xanchor\": \"center\", \"xref\": \"paper\", \"y\": 0.46, \"yanchor\": \"bottom\", \"yref\": \"paper\"}, {\"font\": {\"size\": 16}, \"showarrow\": false, \"text\": \"Sub Continent - Non-zero Revenue Count\", \"x\": 0.49999999999999994, \"xanchor\": \"center\", \"xref\": \"paper\", \"y\": 0.46, \"yanchor\": \"bottom\", \"yref\": \"paper\"}, {\"font\": {\"size\": 16}, \"showarrow\": false, \"text\": \"Sub Continent - Mean Revenue\", \"x\": 0.8833333333333333, \"xanchor\": \"center\", \"xref\": \"paper\", \"y\": 0.46, \"yanchor\": \"bottom\", \"yref\": \"paper\"}], \"xaxis\": {\"anchor\": \"y\", \"domain\": [0.0, 0.2333333333333333]}, \"yaxis\": {\"anchor\": \"x\", \"domain\": [0.54, 1.0]}, \"xaxis2\": {\"anchor\": \"y2\", \"domain\": [0.3833333333333333, 0.6166666666666666]}, \"yaxis2\": {\"anchor\": \"x2\", \"domain\": [0.54, 1.0]}, \"xaxis3\": {\"anchor\": \"y3\", \"domain\": [0.7666666666666666, 0.9999999999999999]}, \"yaxis3\": {\"anchor\": \"x3\", \"domain\": [0.54, 1.0]}, \"xaxis4\": {\"anchor\": \"y4\", \"domain\": [0.0, 0.2333333333333333]}, \"yaxis4\": {\"anchor\": \"x4\", \"domain\": [0.0, 0.46]}, \"xaxis5\": {\"anchor\": \"y5\", \"domain\": [0.3833333333333333, 0.6166666666666666]}, \"yaxis5\": {\"anchor\": \"x5\", \"domain\": [0.0, 0.46]}, \"xaxis6\": {\"anchor\": \"y6\", \"domain\": [0.7666666666666666, 0.9999999999999999]}, \"yaxis6\": {\"anchor\": \"x6\", \"domain\": [0.0, 0.46]}, \"height\": 1000, \"width\": 1000, \"paper_bgcolor\": \"rgb(233,233,233)\", \"title\": \"Geography Plots\"}, {\"showLink\": true, \"linkText\": \"Export to plot.ly\", \"plotlyServerURL\": \"https://plot.ly\"})});</script>"
      ],
      "text/vnd.plotly.v1+html": [
       "<div id=\"c84e51c7-0467-4227-a297-9522b944cee9\" style=\"height: 1000px; width: 1000px;\" class=\"plotly-graph-div\"></div><script type=\"text/javascript\">require([\"plotly\"], function(Plotly) { window.PLOTLYENV=window.PLOTLYENV || {};window.PLOTLYENV.BASE_URL=\"https://plot.ly\";Plotly.newPlot(\"c84e51c7-0467-4227-a297-9522b944cee9\", [{\"marker\": {\"color\": \"rgba(38, 171, 82, 0.6)\"}, \"orientation\": \"h\", \"showlegend\": false, \"x\": [2517, 28180, 35481, 368037, 396719, 877403], \"y\": [\"(not set)\", \"Oceania\", \"Africa\", \"Europe\", \"Asia\", \"Americas\"], \"type\": \"bar\", \"uid\": \"18bc8c47-c791-4b0c-9b24-221eafda88b6\", \"xaxis\": \"x\", \"yaxis\": \"y\"}, {\"marker\": {\"color\": \"rgba(38, 171, 82, 0.6)\"}, \"orientation\": \"h\", \"showlegend\": false, \"x\": [2517, 28180, 35481, 368037, 396719, 877403], \"y\": [\"(not set)\", \"Oceania\", \"Africa\", \"Europe\", \"Asia\", \"Americas\"], \"type\": \"bar\", \"uid\": \"251958bf-de62-4a05-8693-941548b45a82\", \"xaxis\": \"x2\", \"yaxis\": \"y2\"}, {\"marker\": {\"color\": \"rgba(38, 171, 82, 0.6)\"}, \"orientation\": \"h\", \"showlegend\": false, \"x\": [315939.61064759636, 240635.20227111428, 254389.3915053127, 30560.650152022758, 58978.06759948478, 2581593.0649883803], \"y\": [\"(not set)\", \"Oceania\", \"Africa\", \"Europe\", \"Asia\", \"Americas\"], \"type\": \"bar\", \"uid\": \"005d2684-cb12-47aa-8a69-c24bc85e176a\", \"xaxis\": \"x3\", \"yaxis\": \"y3\"}, {\"marker\": {\"color\": \"rgba(126, 101, 22, 0.6)\"}, \"orientation\": \"h\", \"showlegend\": false, \"x\": [52, 128, 133, 927, 1985, 2517, 4194, 4382, 6019, 7086, 17255, 27867, 29564, 60966, 67184, 74007, 75112, 91072, 111693, 115153, 121062, 121634, 768345], \"y\": [\"Polynesia\", \"Micronesian Region\", \"Melanesia\", \"Middle Africa\", \"Central Asia\", \"(not set)\", \"Eastern Africa\", \"Caribbean\", \"Southern Africa\", \"Western Africa\", \"Northern Africa\", \"Australasia\", \"Central America\", \"Western Asia\", \"Southern Europe\", \"Eastern Europe\", \"South America\", \"Eastern Asia\", \"Northern Europe\", \"Western Europe\", \"Southern Asia\", \"Southeast Asia\", \"Northern America\"], \"type\": \"bar\", \"uid\": \"a35cda1f-723f-4316-9d84-5d076933fa8f\", \"xaxis\": \"x4\", \"yaxis\": \"y4\"}, {\"marker\": {\"color\": \"rgba(126, 101, 22, 0.6)\"}, \"orientation\": \"h\", \"showlegend\": false, \"x\": [52, 128, 133, 927, 1985, 2517, 4194, 4382, 6019, 7086, 17255, 27867, 29564, 60966, 67184, 74007, 75112, 91072, 111693, 115153, 121062, 121634, 768345], \"y\": [\"Polynesia\", \"Micronesian Region\", \"Melanesia\", \"Middle Africa\", \"Central Asia\", \"(not set)\", \"Eastern Africa\", \"Caribbean\", \"Southern Africa\", \"Western Africa\", \"Northern Africa\", \"Australasia\", \"Central America\", \"Western Asia\", \"Southern Europe\", \"Eastern Europe\", \"South America\", \"Eastern Asia\", \"Northern Europe\", \"Western Europe\", \"Southern Asia\", \"Southeast Asia\", \"Northern America\"], \"type\": \"bar\", \"uid\": \"f84dfff2-e096-4bc3-96b7-9bb618abc567\", \"xaxis\": \"x5\", \"yaxis\": \"y5\"}, {\"marker\": {\"color\": \"rgba(126, 101, 22, 0.6)\"}, \"orientation\": \"h\", \"showlegend\": false, \"x\": [0.0, 0.0, 0.0, 0.0, 17622.166246851386, 315939.61064759636, 1256247.0195517405, 413149.24691921496, 51829.20750955308, 466045.7239627434, 8283.396117067517, 243337.99834930204, 140332.16073603032, 31209.526621395533, 25394.736842105263, 14934.127852770684, 247016.18915752476, 153682.5808151792, 37389.54097391958, 36993.82560593298, 11931.572252234393, 49487.64325764178, 2916117.6554802856], \"y\": [\"Polynesia\", \"Micronesian Region\", \"Melanesia\", \"Middle Africa\", \"Central Asia\", \"(not set)\", \"Eastern Africa\", \"Caribbean\", \"Southern Africa\", \"Western Africa\", \"Northern Africa\", \"Australasia\", \"Central America\", \"Western Asia\", \"Southern Europe\", \"Eastern Europe\", \"South America\", \"Eastern Asia\", \"Northern Europe\", \"Western Europe\", \"Southern Asia\", \"Southeast Asia\", \"Northern America\"], \"type\": \"bar\", \"uid\": \"effbf9f8-2946-4595-91dc-2bd4aaf8be8b\", \"xaxis\": \"x6\", \"yaxis\": \"y6\"}], {\"annotations\": [{\"font\": {\"size\": 16}, \"showarrow\": false, \"text\": \"Continent - Count\", \"x\": 0.11666666666666665, \"xanchor\": \"center\", \"xref\": \"paper\", \"y\": 1.0, \"yanchor\": \"bottom\", \"yref\": \"paper\"}, {\"font\": {\"size\": 16}, \"showarrow\": false, \"text\": \"Continent - Non-zero Revenue Count\", \"x\": 0.49999999999999994, \"xanchor\": \"center\", \"xref\": \"paper\", \"y\": 1.0, \"yanchor\": \"bottom\", \"yref\": \"paper\"}, {\"font\": {\"size\": 16}, \"showarrow\": false, \"text\": \"Continent - Mean Revenue\", \"x\": 0.8833333333333333, \"xanchor\": \"center\", \"xref\": \"paper\", \"y\": 1.0, \"yanchor\": \"bottom\", \"yref\": \"paper\"}, {\"font\": {\"size\": 16}, \"showarrow\": false, \"text\": \"Sub Continent - Count\", \"x\": 0.11666666666666665, \"xanchor\": \"center\", \"xref\": \"paper\", \"y\": 0.46, \"yanchor\": \"bottom\", \"yref\": \"paper\"}, {\"font\": {\"size\": 16}, \"showarrow\": false, \"text\": \"Sub Continent - Non-zero Revenue Count\", \"x\": 0.49999999999999994, \"xanchor\": \"center\", \"xref\": \"paper\", \"y\": 0.46, \"yanchor\": \"bottom\", \"yref\": \"paper\"}, {\"font\": {\"size\": 16}, \"showarrow\": false, \"text\": \"Sub Continent - Mean Revenue\", \"x\": 0.8833333333333333, \"xanchor\": \"center\", \"xref\": \"paper\", \"y\": 0.46, \"yanchor\": \"bottom\", \"yref\": \"paper\"}], \"xaxis\": {\"anchor\": \"y\", \"domain\": [0.0, 0.2333333333333333]}, \"yaxis\": {\"anchor\": \"x\", \"domain\": [0.54, 1.0]}, \"xaxis2\": {\"anchor\": \"y2\", \"domain\": [0.3833333333333333, 0.6166666666666666]}, \"yaxis2\": {\"anchor\": \"x2\", \"domain\": [0.54, 1.0]}, \"xaxis3\": {\"anchor\": \"y3\", \"domain\": [0.7666666666666666, 0.9999999999999999]}, \"yaxis3\": {\"anchor\": \"x3\", \"domain\": [0.54, 1.0]}, \"xaxis4\": {\"anchor\": \"y4\", \"domain\": [0.0, 0.2333333333333333]}, \"yaxis4\": {\"anchor\": \"x4\", \"domain\": [0.0, 0.46]}, \"xaxis5\": {\"anchor\": \"y5\", \"domain\": [0.3833333333333333, 0.6166666666666666]}, \"yaxis5\": {\"anchor\": \"x5\", \"domain\": [0.0, 0.46]}, \"xaxis6\": {\"anchor\": \"y6\", \"domain\": [0.7666666666666666, 0.9999999999999999]}, \"yaxis6\": {\"anchor\": \"x6\", \"domain\": [0.0, 0.46]}, \"height\": 1000, \"width\": 1000, \"paper_bgcolor\": \"rgb(233,233,233)\", \"title\": \"Geography Plots\"}, {\"showLink\": true, \"linkText\": \"Export to plot.ly\", \"plotlyServerURL\": \"https://plot.ly\"})});</script>"
      ]
     },
     "metadata": {},
     "output_type": "display_data"
    }
   ],
   "source": [
    "# Continent\n",
    "cnt_srs = df.groupby('geoNetwork.continent')['totals.transactionRevenue'].agg(['size', 'count', 'mean'])\n",
    "cnt_srs.columns = [\"count\", \"count of non-zero revenue\", \"mean\"]\n",
    "cnt_srs = cnt_srs.sort_values(by=\"count\", ascending=False)\n",
    "trace1 = horizontal_bar_chart(cnt_srs[\"count\"].head(10), 'rgba(38, 171, 82, 0.6)')\n",
    "trace2 = horizontal_bar_chart(cnt_srs[\"count of non-zero revenue\"].head(10), 'rgba(38, 171, 82, 0.6)')\n",
    "trace3 = horizontal_bar_chart(cnt_srs[\"mean\"].head(10), 'rgba(38, 171, 82, 0.6)')\n",
    "\n",
    "# Sub-continent\n",
    "cnt_srs = df.groupby('geoNetwork.subContinent')['totals.transactionRevenue'].agg(['size', 'count', 'mean'])\n",
    "cnt_srs.columns = [\"count\", \"count of non-zero revenue\", \"mean\"]\n",
    "cnt_srs = cnt_srs.sort_values(by=\"count\", ascending=False)\n",
    "trace4 = horizontal_bar_chart(cnt_srs[\"count\"], 'rgba(126, 101, 22, 0.6)')\n",
    "trace5 = horizontal_bar_chart(cnt_srs[\"count of non-zero revenue\"], 'rgba(126, 101, 22, 0.6)')\n",
    "trace6 = horizontal_bar_chart(cnt_srs[\"mean\"], 'rgba(126, 101, 22, 0.6)')\n",
    "\n",
    "# Creating two subplots\n",
    "fig = tools.make_subplots(rows=2, cols=3, vertical_spacing=0.08, horizontal_spacing=0.15, \n",
    "                          subplot_titles=[\"Continent - Count\", \"Continent - Non-zero Revenue Count\", \"Continent - Mean Revenue\",\n",
    "                                          \"Sub Continent - Count\",  \"Sub Continent - Non-zero Revenue Count\", \"Sub Continent - Mean Revenue\"])\n",
    "\n",
    "fig.append_trace(trace1, 1, 1)\n",
    "fig.append_trace(trace2, 1, 2)\n",
    "fig.append_trace(trace3, 1, 3)\n",
    "fig.append_trace(trace4, 2, 1)\n",
    "fig.append_trace(trace5, 2, 2)\n",
    "fig.append_trace(trace6, 2, 3)\n",
    "\n",
    "fig['layout'].update(height=1000, width=1000, paper_bgcolor='rgb(233,233,233)', title=\"Geography Plots\")\n",
    "py.iplot(fig, filename='geo-plots')"
   ]
  },
  {
   "cell_type": "markdown",
   "metadata": {},
   "source": [
    "There are a few categorical columns that we need to encode to help with the prediction"
   ]
  },
  {
   "cell_type": "code",
   "execution_count": 62,
   "metadata": {},
   "outputs": [],
   "source": [
    "cat_cols = [\"channelGrouping\", \"device.browser\", \n",
    "            \"device.deviceCategory\", \"device.operatingSystem\", \n",
    "            \"geoNetwork.city\", \"geoNetwork.continent\", \n",
    "            \"geoNetwork.country\", \"geoNetwork.metro\",\n",
    "            \"geoNetwork.networkDomain\", \"geoNetwork.region\", \n",
    "            \"geoNetwork.subContinent\", \"trafficSource.adContent\", \n",
    "            \"trafficSource.adwordsClickInfo.adNetworkType\", \n",
    "            \"trafficSource.adwordsClickInfo.gclId\", \n",
    "            \"trafficSource.adwordsClickInfo.page\", \n",
    "            \"trafficSource.adwordsClickInfo.slot\", \"trafficSource.campaign\",\n",
    "            \"trafficSource.keyword\", \"trafficSource.medium\", \n",
    "            \"trafficSource.referralPath\", \"trafficSource.source\",\n",
    "            'trafficSource.adwordsClickInfo.isVideoAd', 'trafficSource.isTrueDirect']\n",
    "\n",
    "for col in cat_cols:\n",
    "    lbl = preprocessing.LabelEncoder()\n",
    "    lbl.fit(list(df[col].values.astype('str')))\n",
    "    df[col] = lbl.transform(list(df[col].values.astype('str')))"
   ]
  },
  {
   "cell_type": "code",
   "execution_count": 92,
   "metadata": {},
   "outputs": [
    {
     "name": "stdout",
     "output_type": "stream",
     "text": [
      "<class 'pandas.core.frame.DataFrame'>\n",
      "RangeIndex: 1708337 entries, 0 to 1708336\n",
      "Data columns (total 37 columns):\n",
      "channelGrouping                                 int64\n",
      "date                                            int64\n",
      "device.browser                                  int64\n",
      "device.deviceCategory                           int64\n",
      "device.isMobile                                 bool\n",
      "device.operatingSystem                          int64\n",
      "geoNetwork.city                                 int64\n",
      "geoNetwork.continent                            int64\n",
      "geoNetwork.country                              int64\n",
      "geoNetwork.metro                                int64\n",
      "geoNetwork.networkDomain                        int64\n",
      "geoNetwork.region                               int64\n",
      "geoNetwork.subContinent                         int64\n",
      "totals.bounces                                  float64\n",
      "totals.hits                                     float64\n",
      "totals.newVisits                                float64\n",
      "totals.pageviews                                float64\n",
      "totals.sessionQualityDim                        float64\n",
      "totals.timeOnSite                               float64\n",
      "totals.totalTransactionRevenue                  float64\n",
      "totals.transactionRevenue                       float64\n",
      "totals.transactions                             float64\n",
      "trafficSource.adContent                         int64\n",
      "trafficSource.adwordsClickInfo.adNetworkType    int64\n",
      "trafficSource.adwordsClickInfo.gclId            int64\n",
      "trafficSource.adwordsClickInfo.isVideoAd        int64\n",
      "trafficSource.adwordsClickInfo.page             int64\n",
      "trafficSource.adwordsClickInfo.slot             int64\n",
      "trafficSource.campaign                          int64\n",
      "trafficSource.isTrueDirect                      int64\n",
      "trafficSource.keyword                           int64\n",
      "trafficSource.medium                            int64\n",
      "trafficSource.referralPath                      int64\n",
      "trafficSource.source                            int64\n",
      "visitId                                         int64\n",
      "visitNumber                                     float64\n",
      "visitStartTime                                  float64\n",
      "dtypes: bool(1), float64(11), int64(25)\n",
      "memory usage: 470.8 MB\n"
     ]
    }
   ],
   "source": [
    "reg_df = df.drop('fullVisitorId', 1)\n",
    "reg_df.info()"
   ]
  },
  {
   "cell_type": "markdown",
   "metadata": {},
   "source": [
    "Basic regression to analyze feature importance"
   ]
  },
  {
   "cell_type": "code",
   "execution_count": 93,
   "metadata": {},
   "outputs": [
    {
     "name": "stdout",
     "output_type": "stream",
     "text": [
      "(1366669, 37) (1366669,)\n",
      "(341668, 37) (341668,)\n",
      "[0. 0. 0. ... 0. 0. 0.]\n"
     ]
    }
   ],
   "source": [
    "train_X, test_X, train_y, test_y = train_test_split(reg_df, np.log1p(reg_df[\"totals.transactionRevenue\"].values), test_size=0.2)\n",
    "print(train_X.shape, train_y.shape)\n",
    "print(test_X.shape, test_y.shape)\n",
    "print(test_y)"
   ]
  },
  {
   "cell_type": "code",
   "execution_count": 94,
   "metadata": {},
   "outputs": [
    {
     "name": "stdout",
     "output_type": "stream",
     "text": [
      "Training until validation scores don't improve for 150 rounds.\n",
      "[20]\tvalid_0's rmse: 1.22831\n",
      "[40]\tvalid_0's rmse: 0.820036\n",
      "[60]\tvalid_0's rmse: 0.547661\n",
      "[80]\tvalid_0's rmse: 0.371016\n",
      "[100]\tvalid_0's rmse: 0.247818\n",
      "[120]\tvalid_0's rmse: 0.165568\n",
      "[140]\tvalid_0's rmse: 0.110697\n",
      "[160]\tvalid_0's rmse: 0.0741145\n",
      "[180]\tvalid_0's rmse: 0.0497669\n",
      "[200]\tvalid_0's rmse: 0.0336273\n",
      "[220]\tvalid_0's rmse: 0.0230044\n",
      "[240]\tvalid_0's rmse: 0.0165257\n",
      "[260]\tvalid_0's rmse: 0.0120297\n",
      "[280]\tvalid_0's rmse: 0.00939246\n",
      "[300]\tvalid_0's rmse: 0.00785757\n",
      "[320]\tvalid_0's rmse: 0.00699263\n",
      "[340]\tvalid_0's rmse: 0.00656445\n",
      "[360]\tvalid_0's rmse: 0.00631773\n",
      "[380]\tvalid_0's rmse: 0.00619344\n",
      "[400]\tvalid_0's rmse: 0.00613378\n",
      "[420]\tvalid_0's rmse: 0.00611145\n",
      "[440]\tvalid_0's rmse: 0.00608835\n",
      "[460]\tvalid_0's rmse: 0.00606686\n",
      "[480]\tvalid_0's rmse: 0.00604794\n",
      "[500]\tvalid_0's rmse: 0.00603176\n",
      "[520]\tvalid_0's rmse: 0.00601879\n",
      "[540]\tvalid_0's rmse: 0.00601513\n",
      "[560]\tvalid_0's rmse: 0.00601818\n",
      "[580]\tvalid_0's rmse: 0.00602213\n",
      "[600]\tvalid_0's rmse: 0.00602422\n",
      "[620]\tvalid_0's rmse: 0.00602213\n",
      "[640]\tvalid_0's rmse: 0.00601987\n",
      "[660]\tvalid_0's rmse: 0.00601269\n",
      "[680]\tvalid_0's rmse: 0.0060139\n",
      "[700]\tvalid_0's rmse: 0.00601177\n",
      "Did not meet early stopping. Best iteration is:\n",
      "[669]\tvalid_0's rmse: 0.00600981\n"
     ]
    }
   ],
   "source": [
    "lgb_params = {\"objective\" : \"regression\", \"metric\" : \"rmse\",\n",
    "              \"num_leaves\" : 50, \"learning_rate\" : 0.02, \n",
    "              \"bagging_fraction\" : 0.75, \"feature_fraction\" : 0.8, \"bagging_frequency\" : 9}\n",
    "    \n",
    "lgb_train = lgb.Dataset(train_X, label=train_y)\n",
    "lgb_test = lgb.Dataset(test_X, label=test_y)\n",
    "model = lgb.train(lgb_params, lgb_train, 700, valid_sets=[lgb_test], early_stopping_rounds=150, verbose_eval=20)"
   ]
  },
  {
   "cell_type": "code",
   "execution_count": 95,
   "metadata": {},
   "outputs": [
    {
     "data": {
      "image/png": "[encoded data removed]",
      "text/plain": [
       "<Figure size 864x1080 with 1 Axes>"
      ]
     },
     "metadata": {},
     "output_type": "display_data"
    }
   ],
   "source": [
    "fig, ax = plt.subplots(figsize=(12,15))\n",
    "lgb.plot_importance(model, max_num_features=50, height=0.8, ax=ax, color ='purple')\n",
    "ax.grid(False)\n",
    "plt.title(\"Feature Importance\", fontsize=15)\n",
    "plt.show()"
   ]
  },
  {
   "cell_type": "code",
   "execution_count": null,
   "metadata": {},
   "outputs": [],
   "source": []
  }
 ],
 "metadata": {
  "kernelspec": {
   "display_name": "Python 3",
   "language": "python",
   "name": "python3"
  },
  "language_info": {
   "codemirror_mode": {
    "name": "ipython",
    "version": 3
   },
   "file_extension": ".py",
   "mimetype": "text/x-python",
   "name": "python",
   "nbconvert_exporter": "python",
   "pygments_lexer": "ipython3",
   "version": "3.6.5"
  }
 },
 "nbformat": 4,
 "nbformat_minor": 2
}
