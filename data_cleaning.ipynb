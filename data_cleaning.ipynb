{
 "cells": [
  {
   "cell_type": "code",
   "execution_count": 1,
   "metadata": {},
   "outputs": [],
   "source": [
    "import os\n",
    "import json\n",
    "import numpy as np\n",
    "import pandas as pd\n",
    "from pandas.io.json import json_normalize\n",
    "import matplotlib.pyplot as plt\n",
    "from IPython.display import Image, display\n",
    "from pandas.tools.plotting import scatter_matrix \n",
    "%matplotlib inline\n",
    "\n",
    "\n",
    "#import category_encoders as ce\n",
    "import warnings; warnings.simplefilter('ignore')"
   ]
  },
  {
   "cell_type": "markdown",
   "metadata": {},
   "source": [
    "The total size of the training dataset is ~24GB so let's load it in small chunks and perform data cleanup. \n",
    "\n",
    "Some of the columns are in JSON format, we need to convert all the json fields in the file to a flattened csv format and create a dataframe without overshooting the available memory. "
   ]
  },
  {
   "cell_type": "code",
   "execution_count": 3,
   "metadata": {},
   "outputs": [
    {
     "name": "stdout",
     "output_type": "stream",
     "text": [
      "done chunking\n"
     ]
    }
   ],
   "source": [
    "raw_data16 = pd.DataFrame()\n",
    "raw_data17 = pd.DataFrame()\n",
    "raw_data18 = pd.DataFrame()\n",
    "chunksize = 5000\n",
    "counter = 0\n",
    "csv_path = \".\\\\..\\\\all\\\\train_v2.csv\"\n",
    "\n",
    "JSON_COLUMNS = ['device', 'geoNetwork', 'totals', 'trafficSource']\n",
    "\n",
    "chunt_itr = pd.read_csv(csv_path, \n",
    "                     converters={column: json.loads for column in JSON_COLUMNS}, \n",
    "                     dtype={'fullVisitorId': 'str'}, # Important!!\n",
    "                     chunksize=chunksize)\n",
    "\n",
    "for chunk in chunt_itr:\n",
    "    process(chunk)\n",
    "print('done chunking')"
   ]
  },
  {
   "cell_type": "code",
   "execution_count": 2,
   "metadata": {},
   "outputs": [],
   "source": [
    "# Process each chunk to filter data for only 2016 and append to a dataframe\n",
    "def process(chunk):\n",
    "    global raw_data16\n",
    "    global raw_data17 \n",
    "    global raw_data18 \n",
    "    filtered_chunk = chunk[(chunk.date > 20160000) & (chunk.date < 20170000)]\n",
    "    raw_data16 = raw_data16.append(filtered_chunk, ignore_index=True)\n",
    "    del filtered_chunk\n",
    "    filtered_chunk17 = chunk[(chunk.date > 20170000) & (chunk.date < 20180000)]\n",
    "    raw_data17 = raw_data17.append(filtered_chunk17, ignore_index=True)\n",
    "    del filtered_chunk17\n",
    "    filtered_chunk18 = chunk[(chunk.date > 20180000)]\n",
    "    raw_data18 = raw_data18.append(filtered_chunk18, ignore_index=True)\n",
    "    del filtered_chunk18"
   ]
  },
  {
   "cell_type": "code",
   "execution_count": 4,
   "metadata": {},
   "outputs": [],
   "source": [
    "for column in JSON_COLUMNS:\n",
    "    column_as_df = json_normalize(raw_data16[column])\n",
    "    column_as_df.columns = [f\"{column}.{subcolumn}\" for subcolumn in column_as_df.columns]\n",
    "    raw_data16 = raw_data16.drop(column, axis=1).merge(column_as_df, right_index=True, left_index=True)\n",
    "    \n",
    "for column in JSON_COLUMNS:\n",
    "    column_as_df = json_normalize(raw_data17[column])\n",
    "    column_as_df.columns = [f\"{column}.{subcolumn}\" for subcolumn in column_as_df.columns]\n",
    "    raw_data17 = raw_data17.drop(column, axis=1).merge(column_as_df, right_index=True, left_index=True)\n",
    "    \n",
    "for column in JSON_COLUMNS:\n",
    "    column_as_df = json_normalize(raw_data18[column])\n",
    "    column_as_df.columns = [f\"{column}.{subcolumn}\" for subcolumn in column_as_df.columns]\n",
    "    raw_data18 = raw_data18.drop(column, axis=1).merge(column_as_df, right_index=True, left_index=True)"
   ]
  },
  {
   "cell_type": "markdown",
   "metadata": {},
   "source": [
    "Columns with constant values:\n",
    "\n",
    "Looks like there are quite a few features with constant value in the train set. Let us get the list of these features. Columns with constant and null values do not help us with the prediction."
   ]
  },
  {
   "cell_type": "code",
   "execution_count": 5,
   "metadata": {},
   "outputs": [],
   "source": [
    "const_cols16 = [c for c in raw_data16.columns if raw_data16[c].nunique(dropna=False)==1 ]"
   ]
  },
  {
   "cell_type": "code",
   "execution_count": 6,
   "metadata": {},
   "outputs": [],
   "source": [
    "const_cols17 = [c for c in raw_data17.columns if raw_data17[c].nunique(dropna=False)==1 ]"
   ]
  },
  {
   "cell_type": "code",
   "execution_count": 7,
   "metadata": {},
   "outputs": [],
   "source": [
    "const_cols18 = [c for c in raw_data18.columns if raw_data18[c].nunique(dropna=False)==1 ]"
   ]
  },
  {
   "cell_type": "code",
   "execution_count": 8,
   "metadata": {},
   "outputs": [
    {
     "data": {
      "text/plain": [
       "['socialEngagementType',\n",
       " 'device.browserSize',\n",
       " 'device.browserVersion',\n",
       " 'device.flashVersion',\n",
       " 'device.language',\n",
       " 'device.mobileDeviceBranding',\n",
       " 'device.mobileDeviceInfo',\n",
       " 'device.mobileDeviceMarketingName',\n",
       " 'device.mobileDeviceModel',\n",
       " 'device.mobileInputSelector',\n",
       " 'device.operatingSystemVersion',\n",
       " 'device.screenColors',\n",
       " 'device.screenResolution',\n",
       " 'geoNetwork.cityId',\n",
       " 'geoNetwork.latitude',\n",
       " 'geoNetwork.longitude',\n",
       " 'geoNetwork.networkLocation',\n",
       " 'totals.visits',\n",
       " 'trafficSource.adwordsClickInfo.criteriaParameters']"
      ]
     },
     "execution_count": 8,
     "metadata": {},
     "output_type": "execute_result"
    }
   ],
   "source": [
    "const_cols = const_cols18 and const_cols17 and const_cols16\n",
    "const_cols"
   ]
  },
  {
   "cell_type": "code",
   "execution_count": 9,
   "metadata": {},
   "outputs": [
    {
     "name": "stdout",
     "output_type": "stream",
     "text": [
      "before: (436393, 59)\n",
      "after: (436393, 40)\n"
     ]
    }
   ],
   "source": [
    "cols_to_drop = const_cols\n",
    "print(\"before:\", raw_data16.shape)\n",
    "train_df16 = raw_data16.drop(cols_to_drop  + [\"trafficSource.campaignCode\"], axis=1)\n",
    "train_df16[\"totals.sessionQualityDim\"] = np.nan\n",
    "train_df16 = train_df16.sort_index(axis=1)\n",
    "print(\"after:\", train_df16.shape)"
   ]
  },
  {
   "cell_type": "code",
   "execution_count": 10,
   "metadata": {},
   "outputs": [
    {
     "name": "stdout",
     "output_type": "stream",
     "text": [
      "before: (928860, 59)\n",
      "after: (928860, 40)\n"
     ]
    }
   ],
   "source": [
    "#cols_to_drop = const_cols\n",
    "print(\"before:\", raw_data17.shape)\n",
    "train_df17 = raw_data17.drop(cols_to_drop, axis=1)\n",
    "print(\"after:\", train_df17.shape)"
   ]
  },
  {
   "cell_type": "code",
   "execution_count": 11,
   "metadata": {},
   "outputs": [
    {
     "name": "stdout",
     "output_type": "stream",
     "text": [
      "before: (343084, 59)\n",
      "after: (343084, 40)\n"
     ]
    }
   ],
   "source": [
    "print(\"before:\", raw_data18.shape)\n",
    "train_df18 = raw_data18.drop(cols_to_drop, axis=1)\n",
    "print(\"after:\", train_df18.shape)"
   ]
  },
  {
   "cell_type": "code",
   "execution_count": 12,
   "metadata": {},
   "outputs": [
    {
     "name": "stdout",
     "output_type": "stream",
     "text": [
      "  channelGrouping                            customDimensions      date  \\\n",
      "0  Organic Search           [{'index': '4', 'value': 'EMEA'}]  20160902   \n",
      "1  Organic Search  [{'index': '4', 'value': 'South America'}]  20160902   \n",
      "2  Organic Search           [{'index': '4', 'value': 'APAC'}]  20160902   \n",
      "3  Organic Search           [{'index': '4', 'value': 'APAC'}]  20160902   \n",
      "4  Organic Search  [{'index': '4', 'value': 'South America'}]  20160902   \n",
      "\n",
      "  device.browser device.deviceCategory  device.isMobile  \\\n",
      "0        Firefox               desktop            False   \n",
      "1         Chrome               desktop            False   \n",
      "2         Chrome               desktop            False   \n",
      "3         Safari                mobile             True   \n",
      "4         Chrome               desktop            False   \n",
      "\n",
      "  device.operatingSystem        fullVisitorId                geoNetwork.city  \\\n",
      "0                Windows  9499785259412240342  not available in demo dataset   \n",
      "1                Windows  3696906537737368442                   Buenos Aires   \n",
      "2                  Linux  5688512451361930466                      Bengaluru   \n",
      "3                    iOS  9716453263501147451                      New Delhi   \n",
      "4                Windows  5330453591145100432                      Sao Paulo   \n",
      "\n",
      "  geoNetwork.continent      ...       trafficSource.adwordsClickInfo.slot  \\\n",
      "0               Europe      ...                                       NaN   \n",
      "1             Americas      ...                                       NaN   \n",
      "2                 Asia      ...                                       NaN   \n",
      "3                 Asia      ...                                       NaN   \n",
      "4             Americas      ...                                       NaN   \n",
      "\n",
      "  trafficSource.campaign trafficSource.isTrueDirect trafficSource.keyword  \\\n",
      "0              (not set)                        NaN        (not provided)   \n",
      "1              (not set)                        NaN        (not provided)   \n",
      "2              (not set)                        NaN        (not provided)   \n",
      "3              (not set)                        NaN        (not provided)   \n",
      "4              (not set)                        NaN        (not provided)   \n",
      "\n",
      "  trafficSource.medium trafficSource.referralPath trafficSource.source  \\\n",
      "0              organic                        NaN               google   \n",
      "1              organic                        NaN               google   \n",
      "2              organic                        NaN               google   \n",
      "3              organic                        NaN               google   \n",
      "4              organic                        NaN               google   \n",
      "\n",
      "      visitId visitNumber visitStartTime  \n",
      "0  1472812272           1     1472812272  \n",
      "1  1472856874           1     1472856874  \n",
      "2  1472811524           1     1472811524  \n",
      "3  1472823508           1     1472823508  \n",
      "4  1472839619           1     1472839619  \n",
      "\n",
      "[5 rows x 40 columns]\n"
     ]
    }
   ],
   "source": [
    "frames = [train_df16, train_df17, train_df18]\n",
    "train_df = pd.concat(frames)\n",
    "print(train_df.head())"
   ]
  },
  {
   "cell_type": "code",
   "execution_count": 14,
   "metadata": {},
   "outputs": [
    {
     "name": "stdout",
     "output_type": "stream",
     "text": [
      "Number of instances in train set with non-zero revenue :  18514  and ratio is :  0.010837440153786987\n",
      "Number of unique customers with non-zero revenue :  16141 and the ratio is :  0.012193574218307359\n"
     ]
    }
   ],
   "source": [
    "train_df[\"totals.transactionRevenue\"] = train_df[\"totals.transactionRevenue\"].astype('float')\n",
    "gdf = train_df.groupby(\"fullVisitorId\")[\"totals.transactionRevenue\"].sum().reset_index()\n",
    "\n",
    "#Plot the distribution\n",
    "\n",
    "#plt.figure(figsize=(8,6))\n",
    "#plt.scatter(range(gdf.shape[0]), np.sort(np.log1p(gdf[\"totals.transactionRevenue\"].values)))\n",
    "#plt.xlabel('index', fontsize=12)\n",
    "#plt.ylabel('TransactionRevenue', fontsize=12)\n",
    "#plt.show()\n",
    "\n",
    "nzi = (train_df[\"totals.transactionRevenue\"]>0).sum()\n",
    "nzr = (gdf[\"totals.transactionRevenue\"]>0).sum()\n",
    "print(\"Number of instances in train set with non-zero revenue : \", nzi, \" and ratio is : \", nzi / train_df.shape[0])\n",
    "print(\"Number of unique customers with non-zero revenue : \", nzr, \"and the ratio is : \", nzr / gdf.shape[0])"
   ]
  },
  {
   "cell_type": "code",
   "execution_count": 13,
   "metadata": {},
   "outputs": [
    {
     "name": "stdout",
     "output_type": "stream",
     "text": [
      "(1708337, 40)\n"
     ]
    }
   ],
   "source": [
    "train_df.head()\n",
    "print(train_df.shape)"
   ]
  },
  {
   "cell_type": "code",
   "execution_count": 14,
   "metadata": {},
   "outputs": [
    {
     "name": "stdout",
     "output_type": "stream",
     "text": [
      "<class 'pandas.core.frame.DataFrame'>\n",
      "Int64Index: 1708337 entries, 0 to 343083\n",
      "Data columns (total 40 columns):\n",
      "channelGrouping                                 object\n",
      "customDimensions                                object\n",
      "date                                            int64\n",
      "device.browser                                  object\n",
      "device.deviceCategory                           object\n",
      "device.isMobile                                 bool\n",
      "device.operatingSystem                          object\n",
      "fullVisitorId                                   object\n",
      "geoNetwork.city                                 object\n",
      "geoNetwork.continent                            object\n",
      "geoNetwork.country                              object\n",
      "geoNetwork.metro                                object\n",
      "geoNetwork.networkDomain                        object\n",
      "geoNetwork.region                               object\n",
      "geoNetwork.subContinent                         object\n",
      "hits                                            object\n",
      "totals.bounces                                  object\n",
      "totals.hits                                     object\n",
      "totals.newVisits                                object\n",
      "totals.pageviews                                object\n",
      "totals.sessionQualityDim                        object\n",
      "totals.timeOnSite                               object\n",
      "totals.totalTransactionRevenue                  object\n",
      "totals.transactionRevenue                       object\n",
      "totals.transactions                             object\n",
      "trafficSource.adContent                         object\n",
      "trafficSource.adwordsClickInfo.adNetworkType    object\n",
      "trafficSource.adwordsClickInfo.gclId            object\n",
      "trafficSource.adwordsClickInfo.isVideoAd        object\n",
      "trafficSource.adwordsClickInfo.page             object\n",
      "trafficSource.adwordsClickInfo.slot             object\n",
      "trafficSource.campaign                          object\n",
      "trafficSource.isTrueDirect                      object\n",
      "trafficSource.keyword                           object\n",
      "trafficSource.medium                            object\n",
      "trafficSource.referralPath                      object\n",
      "trafficSource.source                            object\n",
      "visitId                                         int64\n",
      "visitNumber                                     int64\n",
      "visitStartTime                                  int64\n",
      "dtypes: bool(1), int64(4), object(35)\n",
      "memory usage: 523.0+ MB\n"
     ]
    }
   ],
   "source": [
    "train_df.info()"
   ]
  },
  {
   "cell_type": "markdown",
   "metadata": {},
   "source": [
    "Some columns do not have the right data type selected for them, let's fix this:"
   ]
  },
  {
   "cell_type": "code",
   "execution_count": 15,
   "metadata": {},
   "outputs": [],
   "source": [
    "num_cols = [\"totals.hits\", \"totals.pageviews\", \"visitNumber\", \"visitStartTime\", 'totals.bounces',  'totals.newVisits']    \n",
    "for col in num_cols:\n",
    "    train_df[col] = train_df[col].astype(float)"
   ]
  },
  {
   "cell_type": "code",
   "execution_count": 26,
   "metadata": {},
   "outputs": [],
   "source": [
    "train_df.replace(['unknown.unknown', '(not set)', 'not available in demo dataset', '(not provided)', '(none)', '<NA>'], np.nan, inplace=True)"
   ]
  },
  {
   "cell_type": "code",
   "execution_count": 28,
   "metadata": {},
   "outputs": [],
   "source": [
    "def add_time_features(df):\n",
    "    df['date'] = pd.to_datetime(df['date'], format='%Y%m%d', errors='ignore')\n",
    "    df['year'] = df['date'].apply(lambda x: x.year)\n",
    "    df['month'] = df['date'].apply(lambda x: x.month)\n",
    "    df['day'] = df['date'].apply(lambda x: x.day)\n",
    "    df['weekday'] = df['date'].apply(lambda x: x.weekday())\n",
    "    \n",
    "    return df"
   ]
  },
  {
   "cell_type": "code",
   "execution_count": 17,
   "metadata": {},
   "outputs": [
    {
     "name": "stdout",
     "output_type": "stream",
     "text": [
      "  channelGrouping                            customDimensions      date  \\\n",
      "0  Organic Search           [{'index': '4', 'value': 'EMEA'}]  20160902   \n",
      "1  Organic Search  [{'index': '4', 'value': 'South America'}]  20160902   \n",
      "2  Organic Search           [{'index': '4', 'value': 'APAC'}]  20160902   \n",
      "3  Organic Search           [{'index': '4', 'value': 'APAC'}]  20160902   \n",
      "4  Organic Search  [{'index': '4', 'value': 'South America'}]  20160902   \n",
      "\n",
      "  device.browser device.deviceCategory  device.isMobile  \\\n",
      "0        Firefox               desktop            False   \n",
      "1         Chrome               desktop            False   \n",
      "2         Chrome               desktop            False   \n",
      "3         Safari                mobile             True   \n",
      "4         Chrome               desktop            False   \n",
      "\n",
      "  device.operatingSystem        fullVisitorId                geoNetwork.city  \\\n",
      "0                Windows  9499785259412240342  not available in demo dataset   \n",
      "1                Windows  3696906537737368442                   Buenos Aires   \n",
      "2                  Linux  5688512451361930466                      Bengaluru   \n",
      "3                    iOS  9716453263501147451                      New Delhi   \n",
      "4                Windows  5330453591145100432                      Sao Paulo   \n",
      "\n",
      "  geoNetwork.continent       ...       trafficSource.adwordsClickInfo.slot  \\\n",
      "0               Europe       ...                                       NaN   \n",
      "1             Americas       ...                                       NaN   \n",
      "2                 Asia       ...                                       NaN   \n",
      "3                 Asia       ...                                       NaN   \n",
      "4             Americas       ...                                       NaN   \n",
      "\n",
      "  trafficSource.campaign trafficSource.isTrueDirect trafficSource.keyword  \\\n",
      "0              (not set)                        NaN        (not provided)   \n",
      "1              (not set)                        NaN        (not provided)   \n",
      "2              (not set)                        NaN        (not provided)   \n",
      "3              (not set)                        NaN        (not provided)   \n",
      "4              (not set)                        NaN        (not provided)   \n",
      "\n",
      "  trafficSource.medium trafficSource.referralPath  trafficSource.source  \\\n",
      "0              organic                        NaN                google   \n",
      "1              organic                        NaN                google   \n",
      "2              organic                        NaN                google   \n",
      "3              organic                        NaN                google   \n",
      "4              organic                        NaN                google   \n",
      "\n",
      "      visitId  visitNumber  visitStartTime  \n",
      "0  1472812272          1.0    1.472812e+09  \n",
      "1  1472856874          1.0    1.472857e+09  \n",
      "2  1472811524          1.0    1.472812e+09  \n",
      "3  1472823508          1.0    1.472824e+09  \n",
      "4  1472839619          1.0    1.472840e+09  \n",
      "\n",
      "[5 rows x 40 columns]\n"
     ]
    }
   ],
   "source": [
    "print(train_df.head())"
   ]
  },
  {
   "cell_type": "code",
   "execution_count": 29,
   "metadata": {},
   "outputs": [],
   "source": [
    "train_df = add_time_features(train_df)"
   ]
  },
  {
   "cell_type": "markdown",
   "metadata": {},
   "source": [
    "Columns customDimensions and hits do not seem to add a lot of information, let's ignore them for now and we can come back to this later"
   ]
  },
  {
   "cell_type": "code",
   "execution_count": 19,
   "metadata": {},
   "outputs": [],
   "source": [
    "train_df.drop(['customDimensions'], axis=1, inplace=True)"
   ]
  },
  {
   "cell_type": "code",
   "execution_count": 20,
   "metadata": {},
   "outputs": [
    {
     "data": {
      "text/html": [
       "<div>\n",
       "<style scoped>\n",
       "    .dataframe tbody tr th:only-of-type {\n",
       "        vertical-align: middle;\n",
       "    }\n",
       "\n",
       "    .dataframe tbody tr th {\n",
       "        vertical-align: top;\n",
       "    }\n",
       "\n",
       "    .dataframe thead th {\n",
       "        text-align: right;\n",
       "    }\n",
       "</style>\n",
       "<table border=\"1\" class=\"dataframe\">\n",
       "  <thead>\n",
       "    <tr style=\"text-align: right;\">\n",
       "      <th></th>\n",
       "      <th>channelGrouping</th>\n",
       "      <th>date</th>\n",
       "      <th>device.browser</th>\n",
       "      <th>device.deviceCategory</th>\n",
       "      <th>device.isMobile</th>\n",
       "      <th>device.operatingSystem</th>\n",
       "      <th>fullVisitorId</th>\n",
       "      <th>geoNetwork.city</th>\n",
       "      <th>geoNetwork.continent</th>\n",
       "      <th>geoNetwork.country</th>\n",
       "      <th>...</th>\n",
       "      <th>trafficSource.medium</th>\n",
       "      <th>trafficSource.referralPath</th>\n",
       "      <th>trafficSource.source</th>\n",
       "      <th>visitId</th>\n",
       "      <th>visitNumber</th>\n",
       "      <th>visitStartTime</th>\n",
       "      <th>year</th>\n",
       "      <th>month</th>\n",
       "      <th>day</th>\n",
       "      <th>weekday</th>\n",
       "    </tr>\n",
       "  </thead>\n",
       "  <tbody>\n",
       "    <tr>\n",
       "      <th>0</th>\n",
       "      <td>Organic Search</td>\n",
       "      <td>2016-09-02</td>\n",
       "      <td>Firefox</td>\n",
       "      <td>desktop</td>\n",
       "      <td>False</td>\n",
       "      <td>Windows</td>\n",
       "      <td>9499785259412240342</td>\n",
       "      <td>not available in demo dataset</td>\n",
       "      <td>Europe</td>\n",
       "      <td>Netherlands</td>\n",
       "      <td>...</td>\n",
       "      <td>organic</td>\n",
       "      <td>NaN</td>\n",
       "      <td>google</td>\n",
       "      <td>1472812272</td>\n",
       "      <td>1.0</td>\n",
       "      <td>1.472812e+09</td>\n",
       "      <td>2016</td>\n",
       "      <td>9</td>\n",
       "      <td>2</td>\n",
       "      <td>4</td>\n",
       "    </tr>\n",
       "    <tr>\n",
       "      <th>1</th>\n",
       "      <td>Organic Search</td>\n",
       "      <td>2016-09-02</td>\n",
       "      <td>Chrome</td>\n",
       "      <td>desktop</td>\n",
       "      <td>False</td>\n",
       "      <td>Windows</td>\n",
       "      <td>3696906537737368442</td>\n",
       "      <td>Buenos Aires</td>\n",
       "      <td>Americas</td>\n",
       "      <td>Argentina</td>\n",
       "      <td>...</td>\n",
       "      <td>organic</td>\n",
       "      <td>NaN</td>\n",
       "      <td>google</td>\n",
       "      <td>1472856874</td>\n",
       "      <td>1.0</td>\n",
       "      <td>1.472857e+09</td>\n",
       "      <td>2016</td>\n",
       "      <td>9</td>\n",
       "      <td>2</td>\n",
       "      <td>4</td>\n",
       "    </tr>\n",
       "    <tr>\n",
       "      <th>2</th>\n",
       "      <td>Organic Search</td>\n",
       "      <td>2016-09-02</td>\n",
       "      <td>Chrome</td>\n",
       "      <td>desktop</td>\n",
       "      <td>False</td>\n",
       "      <td>Linux</td>\n",
       "      <td>5688512451361930466</td>\n",
       "      <td>Bengaluru</td>\n",
       "      <td>Asia</td>\n",
       "      <td>India</td>\n",
       "      <td>...</td>\n",
       "      <td>organic</td>\n",
       "      <td>NaN</td>\n",
       "      <td>google</td>\n",
       "      <td>1472811524</td>\n",
       "      <td>1.0</td>\n",
       "      <td>1.472812e+09</td>\n",
       "      <td>2016</td>\n",
       "      <td>9</td>\n",
       "      <td>2</td>\n",
       "      <td>4</td>\n",
       "    </tr>\n",
       "    <tr>\n",
       "      <th>3</th>\n",
       "      <td>Organic Search</td>\n",
       "      <td>2016-09-02</td>\n",
       "      <td>Safari</td>\n",
       "      <td>mobile</td>\n",
       "      <td>True</td>\n",
       "      <td>iOS</td>\n",
       "      <td>9716453263501147451</td>\n",
       "      <td>New Delhi</td>\n",
       "      <td>Asia</td>\n",
       "      <td>India</td>\n",
       "      <td>...</td>\n",
       "      <td>organic</td>\n",
       "      <td>NaN</td>\n",
       "      <td>google</td>\n",
       "      <td>1472823508</td>\n",
       "      <td>1.0</td>\n",
       "      <td>1.472824e+09</td>\n",
       "      <td>2016</td>\n",
       "      <td>9</td>\n",
       "      <td>2</td>\n",
       "      <td>4</td>\n",
       "    </tr>\n",
       "    <tr>\n",
       "      <th>4</th>\n",
       "      <td>Organic Search</td>\n",
       "      <td>2016-09-02</td>\n",
       "      <td>Chrome</td>\n",
       "      <td>desktop</td>\n",
       "      <td>False</td>\n",
       "      <td>Windows</td>\n",
       "      <td>5330453591145100432</td>\n",
       "      <td>Sao Paulo</td>\n",
       "      <td>Americas</td>\n",
       "      <td>Brazil</td>\n",
       "      <td>...</td>\n",
       "      <td>organic</td>\n",
       "      <td>NaN</td>\n",
       "      <td>google</td>\n",
       "      <td>1472839619</td>\n",
       "      <td>1.0</td>\n",
       "      <td>1.472840e+09</td>\n",
       "      <td>2016</td>\n",
       "      <td>9</td>\n",
       "      <td>2</td>\n",
       "      <td>4</td>\n",
       "    </tr>\n",
       "  </tbody>\n",
       "</table>\n",
       "<p>5 rows × 43 columns</p>\n",
       "</div>"
      ],
      "text/plain": [
       "  channelGrouping       date device.browser device.deviceCategory  \\\n",
       "0  Organic Search 2016-09-02        Firefox               desktop   \n",
       "1  Organic Search 2016-09-02         Chrome               desktop   \n",
       "2  Organic Search 2016-09-02         Chrome               desktop   \n",
       "3  Organic Search 2016-09-02         Safari                mobile   \n",
       "4  Organic Search 2016-09-02         Chrome               desktop   \n",
       "\n",
       "   device.isMobile device.operatingSystem        fullVisitorId  \\\n",
       "0            False                Windows  9499785259412240342   \n",
       "1            False                Windows  3696906537737368442   \n",
       "2            False                  Linux  5688512451361930466   \n",
       "3             True                    iOS  9716453263501147451   \n",
       "4            False                Windows  5330453591145100432   \n",
       "\n",
       "                 geoNetwork.city geoNetwork.continent geoNetwork.country  \\\n",
       "0  not available in demo dataset               Europe        Netherlands   \n",
       "1                   Buenos Aires             Americas          Argentina   \n",
       "2                      Bengaluru                 Asia              India   \n",
       "3                      New Delhi                 Asia              India   \n",
       "4                      Sao Paulo             Americas             Brazil   \n",
       "\n",
       "    ...   trafficSource.medium trafficSource.referralPath  \\\n",
       "0   ...                organic                        NaN   \n",
       "1   ...                organic                        NaN   \n",
       "2   ...                organic                        NaN   \n",
       "3   ...                organic                        NaN   \n",
       "4   ...                organic                        NaN   \n",
       "\n",
       "  trafficSource.source     visitId visitNumber  visitStartTime  year  month  \\\n",
       "0               google  1472812272         1.0    1.472812e+09  2016      9   \n",
       "1               google  1472856874         1.0    1.472857e+09  2016      9   \n",
       "2               google  1472811524         1.0    1.472812e+09  2016      9   \n",
       "3               google  1472823508         1.0    1.472824e+09  2016      9   \n",
       "4               google  1472839619         1.0    1.472840e+09  2016      9   \n",
       "\n",
       "   day weekday  \n",
       "0    2       4  \n",
       "1    2       4  \n",
       "2    2       4  \n",
       "3    2       4  \n",
       "4    2       4  \n",
       "\n",
       "[5 rows x 43 columns]"
      ]
     },
     "execution_count": 20,
     "metadata": {},
     "output_type": "execute_result"
    }
   ],
   "source": [
    "train_df.head()"
   ]
  },
  {
   "cell_type": "code",
   "execution_count": 21,
   "metadata": {},
   "outputs": [],
   "source": [
    "train_df.drop(['hits'], axis=1, inplace=True)"
   ]
  },
  {
   "cell_type": "code",
   "execution_count": 22,
   "metadata": {},
   "outputs": [
    {
     "name": "stdout",
     "output_type": "stream",
     "text": [
      "<class 'pandas.core.frame.DataFrame'>\n",
      "Int64Index: 1708337 entries, 0 to 343083\n",
      "Data columns (total 42 columns):\n",
      "channelGrouping                                 object\n",
      "date                                            datetime64[ns]\n",
      "device.browser                                  object\n",
      "device.deviceCategory                           object\n",
      "device.isMobile                                 bool\n",
      "device.operatingSystem                          object\n",
      "fullVisitorId                                   object\n",
      "geoNetwork.city                                 object\n",
      "geoNetwork.continent                            object\n",
      "geoNetwork.country                              object\n",
      "geoNetwork.metro                                object\n",
      "geoNetwork.networkDomain                        object\n",
      "geoNetwork.region                               object\n",
      "geoNetwork.subContinent                         object\n",
      "totals.bounces                                  float64\n",
      "totals.hits                                     float64\n",
      "totals.newVisits                                float64\n",
      "totals.pageviews                                float64\n",
      "totals.sessionQualityDim                        object\n",
      "totals.timeOnSite                               object\n",
      "totals.totalTransactionRevenue                  object\n",
      "totals.transactionRevenue                       object\n",
      "totals.transactions                             object\n",
      "trafficSource.adContent                         object\n",
      "trafficSource.adwordsClickInfo.adNetworkType    object\n",
      "trafficSource.adwordsClickInfo.gclId            object\n",
      "trafficSource.adwordsClickInfo.isVideoAd        object\n",
      "trafficSource.adwordsClickInfo.page             object\n",
      "trafficSource.adwordsClickInfo.slot             object\n",
      "trafficSource.campaign                          object\n",
      "trafficSource.isTrueDirect                      object\n",
      "trafficSource.keyword                           object\n",
      "trafficSource.medium                            object\n",
      "trafficSource.referralPath                      object\n",
      "trafficSource.source                            object\n",
      "visitId                                         int64\n",
      "visitNumber                                     float64\n",
      "visitStartTime                                  float64\n",
      "year                                            int64\n",
      "month                                           int64\n",
      "day                                             int64\n",
      "weekday                                         int64\n",
      "dtypes: bool(1), datetime64[ns](1), float64(6), int64(5), object(29)\n",
      "memory usage: 549.0+ MB\n"
     ]
    }
   ],
   "source": [
    "train_df.info()"
   ]
  },
  {
   "cell_type": "markdown",
   "metadata": {},
   "source": [
    "### Save the file"
   ]
  },
  {
   "cell_type": "code",
   "execution_count": 31,
   "metadata": {},
   "outputs": [],
   "source": [
    "train_df.to_csv(\"train.csv\", index=False)"
   ]
  },
  {
   "cell_type": "code",
   "execution_count": null,
   "metadata": {},
   "outputs": [],
   "source": []
  }
 ],
 "metadata": {
  "kernelspec": {
   "display_name": "Python 3",
   "language": "python",
   "name": "python3"
  },
  "language_info": {
   "codemirror_mode": {
    "name": "ipython",
    "version": 3
   },
   "file_extension": ".py",
   "mimetype": "text/x-python",
   "name": "python",
   "nbconvert_exporter": "python",
   "pygments_lexer": "ipython3",
   "version": "3.6.5"
  }
 },
 "nbformat": 4,
 "nbformat_minor": 2
}
