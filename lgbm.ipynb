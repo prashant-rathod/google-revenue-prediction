{
 "cells": [
  {
   "cell_type": "code",
   "execution_count": 7,
   "metadata": {},
   "outputs": [],
   "source": [
    "import os\n",
    "import json\n",
    "import datetime\n",
    "import numpy as np\n",
    "import pandas as pd\n",
    "import lightgbm as lgb\n",
    "import seaborn as sns\n",
    "from ast import literal_eval\n",
    "import matplotlib.pyplot as plt\n",
    "from pandas.io.json import json_normalize\n",
    "from sklearn.metrics import mean_squared_error\n",
    "\n",
    "\n",
    "import category_encoders as ce\n",
    "from sklearn import preprocessing\n",
    "\n",
    "%matplotlib inline\n",
    "pd.options.display.max_columns = 999"
   ]
  },
  {
   "cell_type": "code",
   "execution_count": 8,
   "metadata": {},
   "outputs": [],
   "source": [
    "def add_time_features(df):\n",
    "    df['date'] = pd.to_datetime(df['date'], format='%Y%m%d', errors='ignore')\n",
    "    df['year'] = df['date'].apply(lambda x: x.year)\n",
    "    df['month'] = df['date'].apply(lambda x: x.month)\n",
    "    df['day'] = df['date'].apply(lambda x: x.day)\n",
    "    df['weekday'] = df['date'].apply(lambda x: x.weekday())\n",
    "    \n",
    "    return df"
   ]
  },
  {
   "cell_type": "code",
   "execution_count": 9,
   "metadata": {},
   "outputs": [],
   "source": [
    "train_df = pd.read_csv('final\\\\train.csv', dtype={'fullVisitorId': 'str'})"
   ]
  },
  {
   "cell_type": "markdown",
   "metadata": {},
   "source": [
    "## Feature Engineering"
   ]
  },
  {
   "cell_type": "code",
   "execution_count": 10,
   "metadata": {},
   "outputs": [],
   "source": [
    "# Impute 0 for missing target values\n",
    "train_df[\"totals.transactionRevenue\"].fillna(0, inplace=True)\n",
    "\n",
    "# label encode the categorical variables and convert the numerical variables to float \n",
    "# scikit.rf needs numerical data. One hot encoding is not good on rf.\n",
    "cat_cols = [\"channelGrouping\", \"device.browser\", \n",
    "            \"device.deviceCategory\", \"device.operatingSystem\", \n",
    "            \"geoNetwork.city\", \"geoNetwork.continent\", \n",
    "            \"geoNetwork.country\", \"geoNetwork.metro\",\n",
    "            \"geoNetwork.networkDomain\", \"geoNetwork.region\", \n",
    "            \"geoNetwork.subContinent\", \"trafficSource.adContent\", \n",
    "            \"trafficSource.adwordsClickInfo.adNetworkType\", \n",
    "            \"trafficSource.adwordsClickInfo.gclId\", \n",
    "            \"trafficSource.adwordsClickInfo.page\", \n",
    "            \"trafficSource.adwordsClickInfo.slot\", \"trafficSource.campaign\",\n",
    "            \"trafficSource.keyword\", \"trafficSource.medium\", \n",
    "            \"trafficSource.referralPath\", \"trafficSource.source\",\n",
    "            'trafficSource.adwordsClickInfo.isVideoAd', 'trafficSource.isTrueDirect']\n",
    "\n",
    "#these columns should be numbers\n",
    "num_cols = [\"fullVisitorId\", \"totals.pageviews\", \"visitNumber\", \"visitStartTime\", 'totals.bounces',  'totals.newVisits', 'totals.transactionRevenue']    \n",
    "\n",
    "\n",
    "#ordinal encoding\n",
    "encoder = ce.OrdinalEncoder(cols=cat_cols)\n",
    "\n",
    "train_df = encoder.fit_transform(train_df, train_df[\"totals.transactionRevenue\"])\n",
    "\n",
    "for col in num_cols:\n",
    "    train_df[col] = train_df[col].astype(float)"
   ]
  },
  {
   "cell_type": "code",
   "execution_count": 11,
   "metadata": {},
   "outputs": [
    {
     "data": {
      "text/html": [
       "<div>\n",
       "<style scoped>\n",
       "    .dataframe tbody tr th:only-of-type {\n",
       "        vertical-align: middle;\n",
       "    }\n",
       "\n",
       "    .dataframe tbody tr th {\n",
       "        vertical-align: top;\n",
       "    }\n",
       "\n",
       "    .dataframe thead th {\n",
       "        text-align: right;\n",
       "    }\n",
       "</style>\n",
       "<table border=\"1\" class=\"dataframe\">\n",
       "  <thead>\n",
       "    <tr style=\"text-align: right;\">\n",
       "      <th></th>\n",
       "      <th>channelGrouping</th>\n",
       "      <th>date</th>\n",
       "      <th>device.browser</th>\n",
       "      <th>device.deviceCategory</th>\n",
       "      <th>device.isMobile</th>\n",
       "      <th>device.operatingSystem</th>\n",
       "      <th>fullVisitorId</th>\n",
       "      <th>geoNetwork.city</th>\n",
       "      <th>geoNetwork.continent</th>\n",
       "      <th>geoNetwork.country</th>\n",
       "      <th>geoNetwork.metro</th>\n",
       "      <th>geoNetwork.networkDomain</th>\n",
       "      <th>geoNetwork.region</th>\n",
       "      <th>geoNetwork.subContinent</th>\n",
       "      <th>totals.bounces</th>\n",
       "      <th>totals.hits</th>\n",
       "      <th>totals.newVisits</th>\n",
       "      <th>totals.pageviews</th>\n",
       "      <th>totals.sessionQualityDim</th>\n",
       "      <th>totals.timeOnSite</th>\n",
       "      <th>totals.totalTransactionRevenue</th>\n",
       "      <th>totals.transactionRevenue</th>\n",
       "      <th>totals.transactions</th>\n",
       "      <th>trafficSource.adContent</th>\n",
       "      <th>trafficSource.adwordsClickInfo.adNetworkType</th>\n",
       "      <th>trafficSource.adwordsClickInfo.gclId</th>\n",
       "      <th>trafficSource.adwordsClickInfo.isVideoAd</th>\n",
       "      <th>trafficSource.adwordsClickInfo.page</th>\n",
       "      <th>trafficSource.adwordsClickInfo.slot</th>\n",
       "      <th>trafficSource.campaign</th>\n",
       "      <th>trafficSource.isTrueDirect</th>\n",
       "      <th>trafficSource.keyword</th>\n",
       "      <th>trafficSource.medium</th>\n",
       "      <th>trafficSource.referralPath</th>\n",
       "      <th>trafficSource.source</th>\n",
       "      <th>visitId</th>\n",
       "      <th>visitNumber</th>\n",
       "      <th>visitStartTime</th>\n",
       "    </tr>\n",
       "  </thead>\n",
       "  <tbody>\n",
       "    <tr>\n",
       "      <th>0</th>\n",
       "      <td>1</td>\n",
       "      <td>20160902</td>\n",
       "      <td>1</td>\n",
       "      <td>1</td>\n",
       "      <td>False</td>\n",
       "      <td>1</td>\n",
       "      <td>9.499785e+18</td>\n",
       "      <td>1</td>\n",
       "      <td>1</td>\n",
       "      <td>1</td>\n",
       "      <td>1</td>\n",
       "      <td>1</td>\n",
       "      <td>1</td>\n",
       "      <td>1</td>\n",
       "      <td>1.0</td>\n",
       "      <td>1.0</td>\n",
       "      <td>1.0</td>\n",
       "      <td>1.0</td>\n",
       "      <td>NaN</td>\n",
       "      <td>NaN</td>\n",
       "      <td>NaN</td>\n",
       "      <td>0.0</td>\n",
       "      <td>NaN</td>\n",
       "      <td>1</td>\n",
       "      <td>1</td>\n",
       "      <td>1</td>\n",
       "      <td>1</td>\n",
       "      <td>0</td>\n",
       "      <td>1</td>\n",
       "      <td>1</td>\n",
       "      <td>1</td>\n",
       "      <td>1</td>\n",
       "      <td>1</td>\n",
       "      <td>1</td>\n",
       "      <td>1</td>\n",
       "      <td>1472812272</td>\n",
       "      <td>1.0</td>\n",
       "      <td>1.472812e+09</td>\n",
       "    </tr>\n",
       "    <tr>\n",
       "      <th>1</th>\n",
       "      <td>1</td>\n",
       "      <td>20160902</td>\n",
       "      <td>2</td>\n",
       "      <td>1</td>\n",
       "      <td>False</td>\n",
       "      <td>1</td>\n",
       "      <td>3.696907e+18</td>\n",
       "      <td>2</td>\n",
       "      <td>2</td>\n",
       "      <td>2</td>\n",
       "      <td>2</td>\n",
       "      <td>2</td>\n",
       "      <td>2</td>\n",
       "      <td>2</td>\n",
       "      <td>1.0</td>\n",
       "      <td>1.0</td>\n",
       "      <td>1.0</td>\n",
       "      <td>1.0</td>\n",
       "      <td>NaN</td>\n",
       "      <td>NaN</td>\n",
       "      <td>NaN</td>\n",
       "      <td>0.0</td>\n",
       "      <td>NaN</td>\n",
       "      <td>1</td>\n",
       "      <td>1</td>\n",
       "      <td>1</td>\n",
       "      <td>1</td>\n",
       "      <td>0</td>\n",
       "      <td>1</td>\n",
       "      <td>1</td>\n",
       "      <td>1</td>\n",
       "      <td>1</td>\n",
       "      <td>1</td>\n",
       "      <td>1</td>\n",
       "      <td>1</td>\n",
       "      <td>1472856874</td>\n",
       "      <td>1.0</td>\n",
       "      <td>1.472857e+09</td>\n",
       "    </tr>\n",
       "    <tr>\n",
       "      <th>2</th>\n",
       "      <td>1</td>\n",
       "      <td>20160902</td>\n",
       "      <td>2</td>\n",
       "      <td>1</td>\n",
       "      <td>False</td>\n",
       "      <td>2</td>\n",
       "      <td>5.688512e+18</td>\n",
       "      <td>3</td>\n",
       "      <td>3</td>\n",
       "      <td>3</td>\n",
       "      <td>2</td>\n",
       "      <td>3</td>\n",
       "      <td>3</td>\n",
       "      <td>3</td>\n",
       "      <td>1.0</td>\n",
       "      <td>1.0</td>\n",
       "      <td>1.0</td>\n",
       "      <td>1.0</td>\n",
       "      <td>NaN</td>\n",
       "      <td>NaN</td>\n",
       "      <td>NaN</td>\n",
       "      <td>0.0</td>\n",
       "      <td>NaN</td>\n",
       "      <td>1</td>\n",
       "      <td>1</td>\n",
       "      <td>1</td>\n",
       "      <td>1</td>\n",
       "      <td>0</td>\n",
       "      <td>1</td>\n",
       "      <td>1</td>\n",
       "      <td>1</td>\n",
       "      <td>1</td>\n",
       "      <td>1</td>\n",
       "      <td>1</td>\n",
       "      <td>1</td>\n",
       "      <td>1472811524</td>\n",
       "      <td>1.0</td>\n",
       "      <td>1.472812e+09</td>\n",
       "    </tr>\n",
       "    <tr>\n",
       "      <th>3</th>\n",
       "      <td>1</td>\n",
       "      <td>20160902</td>\n",
       "      <td>3</td>\n",
       "      <td>2</td>\n",
       "      <td>True</td>\n",
       "      <td>3</td>\n",
       "      <td>9.716453e+18</td>\n",
       "      <td>4</td>\n",
       "      <td>3</td>\n",
       "      <td>3</td>\n",
       "      <td>2</td>\n",
       "      <td>4</td>\n",
       "      <td>4</td>\n",
       "      <td>3</td>\n",
       "      <td>1.0</td>\n",
       "      <td>1.0</td>\n",
       "      <td>1.0</td>\n",
       "      <td>1.0</td>\n",
       "      <td>NaN</td>\n",
       "      <td>NaN</td>\n",
       "      <td>NaN</td>\n",
       "      <td>0.0</td>\n",
       "      <td>NaN</td>\n",
       "      <td>1</td>\n",
       "      <td>1</td>\n",
       "      <td>1</td>\n",
       "      <td>1</td>\n",
       "      <td>0</td>\n",
       "      <td>1</td>\n",
       "      <td>1</td>\n",
       "      <td>1</td>\n",
       "      <td>1</td>\n",
       "      <td>1</td>\n",
       "      <td>1</td>\n",
       "      <td>1</td>\n",
       "      <td>1472823508</td>\n",
       "      <td>1.0</td>\n",
       "      <td>1.472824e+09</td>\n",
       "    </tr>\n",
       "    <tr>\n",
       "      <th>4</th>\n",
       "      <td>1</td>\n",
       "      <td>20160902</td>\n",
       "      <td>2</td>\n",
       "      <td>1</td>\n",
       "      <td>False</td>\n",
       "      <td>1</td>\n",
       "      <td>5.330454e+18</td>\n",
       "      <td>5</td>\n",
       "      <td>2</td>\n",
       "      <td>4</td>\n",
       "      <td>2</td>\n",
       "      <td>5</td>\n",
       "      <td>5</td>\n",
       "      <td>2</td>\n",
       "      <td>1.0</td>\n",
       "      <td>1.0</td>\n",
       "      <td>1.0</td>\n",
       "      <td>1.0</td>\n",
       "      <td>NaN</td>\n",
       "      <td>NaN</td>\n",
       "      <td>NaN</td>\n",
       "      <td>0.0</td>\n",
       "      <td>NaN</td>\n",
       "      <td>1</td>\n",
       "      <td>1</td>\n",
       "      <td>1</td>\n",
       "      <td>1</td>\n",
       "      <td>0</td>\n",
       "      <td>1</td>\n",
       "      <td>1</td>\n",
       "      <td>1</td>\n",
       "      <td>1</td>\n",
       "      <td>1</td>\n",
       "      <td>1</td>\n",
       "      <td>1</td>\n",
       "      <td>1472839619</td>\n",
       "      <td>1.0</td>\n",
       "      <td>1.472840e+09</td>\n",
       "    </tr>\n",
       "  </tbody>\n",
       "</table>\n",
       "</div>"
      ],
      "text/plain": [
       "   channelGrouping      date  device.browser  device.deviceCategory  \\\n",
       "0                1  20160902               1                      1   \n",
       "1                1  20160902               2                      1   \n",
       "2                1  20160902               2                      1   \n",
       "3                1  20160902               3                      2   \n",
       "4                1  20160902               2                      1   \n",
       "\n",
       "   device.isMobile  device.operatingSystem  fullVisitorId  geoNetwork.city  \\\n",
       "0            False                       1   9.499785e+18                1   \n",
       "1            False                       1   3.696907e+18                2   \n",
       "2            False                       2   5.688512e+18                3   \n",
       "3             True                       3   9.716453e+18                4   \n",
       "4            False                       1   5.330454e+18                5   \n",
       "\n",
       "   geoNetwork.continent  geoNetwork.country  geoNetwork.metro  \\\n",
       "0                     1                   1                 1   \n",
       "1                     2                   2                 2   \n",
       "2                     3                   3                 2   \n",
       "3                     3                   3                 2   \n",
       "4                     2                   4                 2   \n",
       "\n",
       "   geoNetwork.networkDomain  geoNetwork.region  geoNetwork.subContinent  \\\n",
       "0                         1                  1                        1   \n",
       "1                         2                  2                        2   \n",
       "2                         3                  3                        3   \n",
       "3                         4                  4                        3   \n",
       "4                         5                  5                        2   \n",
       "\n",
       "   totals.bounces  totals.hits  totals.newVisits  totals.pageviews  \\\n",
       "0             1.0          1.0               1.0               1.0   \n",
       "1             1.0          1.0               1.0               1.0   \n",
       "2             1.0          1.0               1.0               1.0   \n",
       "3             1.0          1.0               1.0               1.0   \n",
       "4             1.0          1.0               1.0               1.0   \n",
       "\n",
       "   totals.sessionQualityDim  totals.timeOnSite  \\\n",
       "0                       NaN                NaN   \n",
       "1                       NaN                NaN   \n",
       "2                       NaN                NaN   \n",
       "3                       NaN                NaN   \n",
       "4                       NaN                NaN   \n",
       "\n",
       "   totals.totalTransactionRevenue  totals.transactionRevenue  \\\n",
       "0                             NaN                        0.0   \n",
       "1                             NaN                        0.0   \n",
       "2                             NaN                        0.0   \n",
       "3                             NaN                        0.0   \n",
       "4                             NaN                        0.0   \n",
       "\n",
       "   totals.transactions  trafficSource.adContent  \\\n",
       "0                  NaN                        1   \n",
       "1                  NaN                        1   \n",
       "2                  NaN                        1   \n",
       "3                  NaN                        1   \n",
       "4                  NaN                        1   \n",
       "\n",
       "   trafficSource.adwordsClickInfo.adNetworkType  \\\n",
       "0                                             1   \n",
       "1                                             1   \n",
       "2                                             1   \n",
       "3                                             1   \n",
       "4                                             1   \n",
       "\n",
       "   trafficSource.adwordsClickInfo.gclId  \\\n",
       "0                                     1   \n",
       "1                                     1   \n",
       "2                                     1   \n",
       "3                                     1   \n",
       "4                                     1   \n",
       "\n",
       "   trafficSource.adwordsClickInfo.isVideoAd  \\\n",
       "0                                         1   \n",
       "1                                         1   \n",
       "2                                         1   \n",
       "3                                         1   \n",
       "4                                         1   \n",
       "\n",
       "   trafficSource.adwordsClickInfo.page  trafficSource.adwordsClickInfo.slot  \\\n",
       "0                                    0                                    1   \n",
       "1                                    0                                    1   \n",
       "2                                    0                                    1   \n",
       "3                                    0                                    1   \n",
       "4                                    0                                    1   \n",
       "\n",
       "   trafficSource.campaign  trafficSource.isTrueDirect  trafficSource.keyword  \\\n",
       "0                       1                           1                      1   \n",
       "1                       1                           1                      1   \n",
       "2                       1                           1                      1   \n",
       "3                       1                           1                      1   \n",
       "4                       1                           1                      1   \n",
       "\n",
       "   trafficSource.medium  trafficSource.referralPath  trafficSource.source  \\\n",
       "0                     1                           1                     1   \n",
       "1                     1                           1                     1   \n",
       "2                     1                           1                     1   \n",
       "3                     1                           1                     1   \n",
       "4                     1                           1                     1   \n",
       "\n",
       "      visitId  visitNumber  visitStartTime  \n",
       "0  1472812272          1.0    1.472812e+09  \n",
       "1  1472856874          1.0    1.472857e+09  \n",
       "2  1472811524          1.0    1.472812e+09  \n",
       "3  1472823508          1.0    1.472824e+09  \n",
       "4  1472839619          1.0    1.472840e+09  "
      ]
     },
     "execution_count": 11,
     "metadata": {},
     "output_type": "execute_result"
    }
   ],
   "source": [
    "train_df.head()"
   ]
  },
  {
   "cell_type": "code",
   "execution_count": 12,
   "metadata": {},
   "outputs": [],
   "source": [
    "cols_to_remove = ['totals.sessionQualityDim', 'totals.timeOnSite', 'totals.totalTransactionRevenue', 'totals.transactions']\n",
    "train_df.drop(cols_to_remove, axis=1, inplace=True)"
   ]
  },
  {
   "cell_type": "code",
   "execution_count": 13,
   "metadata": {},
   "outputs": [],
   "source": [
    "train_df = add_time_features(train_df)"
   ]
  },
  {
   "cell_type": "markdown",
   "metadata": {},
   "source": [
    "### Train validation split"
   ]
  },
  {
   "cell_type": "code",
   "execution_count": 14,
   "metadata": {},
   "outputs": [
    {
     "name": "stderr",
     "output_type": "stream",
     "text": [
      "C:\\Users\\Hawk\\Miniconda3\\envs\\ml\\lib\\site-packages\\ipykernel_launcher.py:1: FutureWarning: Comparing Series of datetimes with 'datetime.date'.  Currently, the\n",
      "'datetime.date' is coerced to a datetime. In the future pandas will\n",
      "not coerce, and a TypeError will be raised. To retain the current\n",
      "behavior, convert the 'datetime.date' to a datetime with\n",
      "'pd.Timestamp'.\n",
      "  \"\"\"Entry point for launching an IPython kernel.\n",
      "C:\\Users\\Hawk\\Miniconda3\\envs\\ml\\lib\\site-packages\\ipykernel_launcher.py:2: FutureWarning: Comparing Series of datetimes with 'datetime.date'.  Currently, the\n",
      "'datetime.date' is coerced to a datetime. In the future pandas will\n",
      "not coerce, and a TypeError will be raised. To retain the current\n",
      "behavior, convert the 'datetime.date' to a datetime with\n",
      "'pd.Timestamp'.\n",
      "  \n"
     ]
    }
   ],
   "source": [
    "X_train = train_df[train_df['date']<=datetime.date(2017, 12, 31)]\n",
    "X_val = train_df[train_df['date']>datetime.date(2017, 12, 31)]"
   ]
  },
  {
   "cell_type": "code",
   "execution_count": 15,
   "metadata": {},
   "outputs": [
    {
     "name": "stdout",
     "output_type": "stream",
     "text": [
      "(1365253, 38)\n",
      "(343084, 38)\n"
     ]
    }
   ],
   "source": [
    "print(X_train.shape)\n",
    "print(X_val.shape)"
   ]
  },
  {
   "cell_type": "code",
   "execution_count": 16,
   "metadata": {},
   "outputs": [],
   "source": [
    "# Get labels\n",
    "Y_train = X_train['totals.transactionRevenue'].values\n",
    "Y_val = X_val['totals.transactionRevenue'].values\n",
    "X_train = X_train.drop(['totals.transactionRevenue'], axis=1)\n",
    "X_val = X_val.drop(['totals.transactionRevenue'], axis=1)\n",
    "# Log transform the labels\n",
    "Y_train = np.log1p(Y_train)\n",
    "Y_val = np.log1p(Y_val)"
   ]
  },
  {
   "cell_type": "code",
   "execution_count": 17,
   "metadata": {},
   "outputs": [],
   "source": [
    "# drop date\n",
    "\n",
    "X_train.drop(['date'], axis=1, inplace=True)\n",
    "X_val.drop(['date'], axis=1, inplace=True)"
   ]
  },
  {
   "cell_type": "code",
   "execution_count": 18,
   "metadata": {},
   "outputs": [
    {
     "name": "stdout",
     "output_type": "stream",
     "text": [
      "TRAIN SET\n",
      "Rows: 1365253\n",
      "Columns: 36\n",
      "Features: ['channelGrouping' 'device.browser' 'device.deviceCategory'\n",
      " 'device.isMobile' 'device.operatingSystem' 'fullVisitorId'\n",
      " 'geoNetwork.city' 'geoNetwork.continent' 'geoNetwork.country'\n",
      " 'geoNetwork.metro' 'geoNetwork.networkDomain' 'geoNetwork.region'\n",
      " 'geoNetwork.subContinent' 'totals.bounces' 'totals.hits'\n",
      " 'totals.newVisits' 'totals.pageviews' 'trafficSource.adContent'\n",
      " 'trafficSource.adwordsClickInfo.adNetworkType'\n",
      " 'trafficSource.adwordsClickInfo.gclId'\n",
      " 'trafficSource.adwordsClickInfo.isVideoAd'\n",
      " 'trafficSource.adwordsClickInfo.page'\n",
      " 'trafficSource.adwordsClickInfo.slot' 'trafficSource.campaign'\n",
      " 'trafficSource.isTrueDirect' 'trafficSource.keyword'\n",
      " 'trafficSource.medium' 'trafficSource.referralPath'\n",
      " 'trafficSource.source' 'visitId' 'visitNumber' 'visitStartTime' 'year'\n",
      " 'month' 'day' 'weekday']\n"
     ]
    }
   ],
   "source": [
    "features = X_train.columns.values\n",
    "print('TRAIN SET')\n",
    "print('Rows: %s' % X_train.shape[0])\n",
    "print('Columns: %s' % X_train.shape[1])\n",
    "print('Features: %s' % X_train.columns.values)"
   ]
  },
  {
   "cell_type": "markdown",
   "metadata": {},
   "source": [
    "### Start modelling"
   ]
  },
  {
   "cell_type": "code",
   "execution_count": 19,
   "metadata": {},
   "outputs": [],
   "source": [
    "params = {\n",
    "\"objective\" : \"regression\",\n",
    "\"metric\" : \"rmse\", \n",
    "\"num_leaves\" : 600,\n",
    "\"min_child_samples\" : 20,\n",
    "\"learning_rate\" : 0.003,\n",
    "\"bagging_fraction\" : 0.6,\n",
    "\"feature_fraction\" : 0.7,\n",
    "\"bagging_frequency\" : 1,\n",
    "\"bagging_seed\" : 1,\n",
    "\"lambda_l1\": 3,\n",
    "'min_data_in_leaf': 50\n",
    "}"
   ]
  },
  {
   "cell_type": "code",
   "execution_count": 20,
   "metadata": {},
   "outputs": [
    {
     "name": "stdout",
     "output_type": "stream",
     "text": [
      "Training until validation scores don't improve for 100 rounds.\n",
      "[100]\ttraining's rmse: 1.75182\tvalid_1's rmse: 1.54021\n",
      "[200]\ttraining's rmse: 1.64675\tvalid_1's rmse: 1.48891\n",
      "[300]\ttraining's rmse: 1.57706\tvalid_1's rmse: 1.45977\n",
      "[400]\ttraining's rmse: 1.52862\tvalid_1's rmse: 1.44273\n",
      "[500]\ttraining's rmse: 1.49028\tvalid_1's rmse: 1.43216\n",
      "[600]\ttraining's rmse: 1.46002\tvalid_1's rmse: 1.42602\n",
      "[700]\ttraining's rmse: 1.43573\tvalid_1's rmse: 1.42255\n",
      "[800]\ttraining's rmse: 1.41446\tvalid_1's rmse: 1.42049\n",
      "[900]\ttraining's rmse: 1.39482\tvalid_1's rmse: 1.41927\n",
      "[1000]\ttraining's rmse: 1.37808\tvalid_1's rmse: 1.41875\n",
      "[1100]\ttraining's rmse: 1.36178\tvalid_1's rmse: 1.41843\n",
      "[1200]\ttraining's rmse: 1.34709\tvalid_1's rmse: 1.41841\n",
      "[1300]\ttraining's rmse: 1.33286\tvalid_1's rmse: 1.41814\n",
      "[1400]\ttraining's rmse: 1.31929\tvalid_1's rmse: 1.41809\n",
      "Early stopping, best iteration is:\n",
      "[1360]\ttraining's rmse: 1.32461\tvalid_1's rmse: 1.41797\n"
     ]
    }
   ],
   "source": [
    "lgb_train = lgb.Dataset(X_train, label=Y_train)\n",
    "lgb_val = lgb.Dataset(X_val, label=Y_val)\n",
    "model = lgb.train(params, lgb_train, 10000, valid_sets=[lgb_train, lgb_val], early_stopping_rounds=100, verbose_eval=100)"
   ]
  },
  {
   "cell_type": "code",
   "execution_count": 21,
   "metadata": {},
   "outputs": [],
   "source": [
    "test_df = pd.read_csv('final\\\\test.csv', dtype={'fullVisitorId': 'str'})"
   ]
  },
  {
   "cell_type": "code",
   "execution_count": 22,
   "metadata": {},
   "outputs": [],
   "source": [
    "#apply encoing\n",
    "test_df = encoder.transform(test_df)\n",
    "\n",
    "for col in num_cols:\n",
    "    test_df[col] = test_df[col].astype(float)"
   ]
  },
  {
   "cell_type": "code",
   "execution_count": 23,
   "metadata": {},
   "outputs": [],
   "source": [
    "test_df.drop(cols_to_remove, axis=1, inplace=True)"
   ]
  },
  {
   "cell_type": "code",
   "execution_count": 24,
   "metadata": {},
   "outputs": [],
   "source": [
    "test_df = add_time_features(test_df)"
   ]
  },
  {
   "cell_type": "code",
   "execution_count": 25,
   "metadata": {},
   "outputs": [],
   "source": [
    "y_true = test_df['totals.transactionRevenue']\n",
    "# drop\n",
    "test_df.drop(['totals.transactionRevenue', 'date'], axis=1, inplace=True)"
   ]
  },
  {
   "cell_type": "code",
   "execution_count": 26,
   "metadata": {},
   "outputs": [
    {
     "name": "stdout",
     "output_type": "stream",
     "text": [
      "TEST SET\n",
      "Rows: 401589\n",
      "Columns: 36\n",
      "Features: ['channelGrouping' 'fullVisitorId' 'visitId' 'visitNumber'\n",
      " 'visitStartTime' 'device.browser' 'device.deviceCategory'\n",
      " 'device.isMobile' 'device.operatingSystem' 'geoNetwork.city'\n",
      " 'geoNetwork.continent' 'geoNetwork.country' 'geoNetwork.metro'\n",
      " 'geoNetwork.networkDomain' 'geoNetwork.region' 'geoNetwork.subContinent'\n",
      " 'totals.bounces' 'totals.hits' 'totals.newVisits' 'totals.pageviews'\n",
      " 'trafficSource.adContent' 'trafficSource.adwordsClickInfo.adNetworkType'\n",
      " 'trafficSource.adwordsClickInfo.gclId'\n",
      " 'trafficSource.adwordsClickInfo.isVideoAd'\n",
      " 'trafficSource.adwordsClickInfo.page'\n",
      " 'trafficSource.adwordsClickInfo.slot' 'trafficSource.campaign'\n",
      " 'trafficSource.isTrueDirect' 'trafficSource.keyword'\n",
      " 'trafficSource.medium' 'trafficSource.referralPath'\n",
      " 'trafficSource.source' 'year' 'month' 'day' 'weekday']\n"
     ]
    }
   ],
   "source": [
    "print('TEST SET')\n",
    "print('Rows: %s' % test_df.shape[0])\n",
    "print('Columns: %s' % test_df.shape[1])\n",
    "print('Features: %s' % test_df.columns.values)"
   ]
  },
  {
   "cell_type": "code",
   "execution_count": 27,
   "metadata": {},
   "outputs": [],
   "source": [
    "predictions = model.predict(test_df, num_iteration=model.best_iteration)"
   ]
  },
  {
   "cell_type": "code",
   "execution_count": 28,
   "metadata": {},
   "outputs": [],
   "source": [
    "rms = np.sqrt(mean_squared_error(y_true, predictions))"
   ]
  },
  {
   "cell_type": "code",
   "execution_count": 29,
   "metadata": {},
   "outputs": [
    {
     "data": {
      "text/plain": [
       "59039153.91616643"
      ]
     },
     "execution_count": 29,
     "metadata": {},
     "output_type": "execute_result"
    }
   ],
   "source": [
    "rms"
   ]
  },
  {
   "cell_type": "code",
   "execution_count": 30,
   "metadata": {},
   "outputs": [
    {
     "name": "stdout",
     "output_type": "stream",
     "text": [
      "2.1132495872184633\n"
     ]
    }
   ],
   "source": [
    "predictions[predictions<0] = 0\n",
    "result_df = pd.DataFrame({\"fullVisitorId\":test_df[\"fullVisitorId\"].values})\n",
    "result_df[\"transactionRevenue\"] = y_true.values\n",
    "result_df[\"PredictedRevenue\"] = np.expm1(predictions)\n",
    "\n",
    "result_df = result_df.groupby(\"fullVisitorId\")[\"transactionRevenue\", \"PredictedRevenue\"].sum().reset_index()\n",
    "print(np.sqrt(mean_squared_error(np.log1p(result_df[\"transactionRevenue\"].values), np.log1p(result_df[\"PredictedRevenue\"].values))))"
   ]
  }
 ],
 "metadata": {
  "kernelspec": {
   "display_name": "Python 3",
   "language": "python",
   "name": "python3"
  },
  "language_info": {
   "codemirror_mode": {
    "name": "ipython",
    "version": 3
   },
   "file_extension": ".py",
   "mimetype": "text/x-python",
   "name": "python",
   "nbconvert_exporter": "python",
   "pygments_lexer": "ipython3",
   "version": "3.6.7"
  }
 },
 "nbformat": 4,
 "nbformat_minor": 2
}
